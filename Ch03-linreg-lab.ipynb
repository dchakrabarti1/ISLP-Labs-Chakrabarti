{
  "cells": [
    {
      "cell_type": "markdown",
      "id": "18156290",
      "metadata": {
        "id": "18156290"
      },
      "source": [
        "\n",
        "# Linear Regression\n",
        "\n",
        "<a target=\"_blank\" href=\"https://colab.research.google.com/github/intro-stat-learning/ISLP_labs/blob/v2.2/Ch03-linreg-lab.ipynb\">\n",
        "<img src=\"https://colab.research.google.com/assets/colab-badge.svg\" alt=\"Open In Colab\"/>\n",
        "</a>\n",
        "\n",
        "[![Binder](https://mybinder.org/badge_logo.svg)](https://mybinder.org/v2/gh/intro-stat-learning/ISLP_labs/v2.2?labpath=Ch03-linreg-lab.ipynb)\n"
      ]
    },
    {
      "cell_type": "markdown",
      "id": "7c62aa70",
      "metadata": {
        "id": "7c62aa70"
      },
      "source": [
        "## Importing packages\n",
        "We import our standard libraries at this top\n",
        "level."
      ]
    },
    {
      "cell_type": "code",
      "execution_count": 1,
      "id": "c5fcfd8f",
      "metadata": {
        "execution": {
          "iopub.execute_input": "2024-06-04T23:19:06.947153Z",
          "iopub.status.busy": "2024-06-04T23:19:06.946906Z",
          "iopub.status.idle": "2024-06-04T23:19:07.382217Z",
          "shell.execute_reply": "2024-06-04T23:19:07.381975Z"
        },
        "lines_to_next_cell": 2,
        "id": "c5fcfd8f"
      },
      "outputs": [],
      "source": [
        "import numpy as np\n",
        "import pandas as pd\n",
        "from matplotlib.pyplot import subplots\n"
      ]
    },
    {
      "cell_type": "markdown",
      "id": "bc3e353a",
      "metadata": {
        "id": "bc3e353a"
      },
      "source": [
        "### New imports\n",
        "Throughout this lab we will introduce new functions and libraries. However,\n",
        "we will import them here to emphasize these are the new\n",
        "code objects in this lab. Keeping imports near the top\n",
        "of a notebook makes the code more readable, since scanning the first few\n",
        "lines tells us what libraries are used."
      ]
    },
    {
      "cell_type": "code",
      "execution_count": 2,
      "id": "42cfb62e",
      "metadata": {
        "execution": {
          "iopub.execute_input": "2024-06-04T23:19:07.383806Z",
          "iopub.status.busy": "2024-06-04T23:19:07.383707Z",
          "iopub.status.idle": "2024-06-04T23:19:07.847757Z",
          "shell.execute_reply": "2024-06-04T23:19:07.847487Z"
        },
        "lines_to_next_cell": 0,
        "id": "42cfb62e"
      },
      "outputs": [],
      "source": [
        "import statsmodels.api as sm\n"
      ]
    },
    {
      "cell_type": "markdown",
      "id": "dd7ce405",
      "metadata": {
        "id": "dd7ce405"
      },
      "source": [
        " We will provide relevant details about the\n",
        "functions below as they are needed.\n",
        "\n",
        "Besides importing whole modules, it is also possible\n",
        "to import only a few items from a given module. This\n",
        "will help keep the  *namespace* clean.\n",
        "We will use a few specific objects from the `statsmodels` package\n",
        "which we import here."
      ]
    },
    {
      "cell_type": "code",
      "execution_count": 3,
      "id": "b387d3ac",
      "metadata": {
        "execution": {
          "iopub.execute_input": "2024-06-04T23:19:07.849417Z",
          "iopub.status.busy": "2024-06-04T23:19:07.849298Z",
          "iopub.status.idle": "2024-06-04T23:19:07.851636Z",
          "shell.execute_reply": "2024-06-04T23:19:07.851436Z"
        },
        "id": "b387d3ac"
      },
      "outputs": [],
      "source": [
        "from statsmodels.stats.outliers_influence \\\n",
        "     import variance_inflation_factor as VIF\n",
        "from statsmodels.stats.anova import anova_lm\n"
      ]
    },
    {
      "cell_type": "code",
      "source": [
        "pip install ISLP"
      ],
      "metadata": {
        "colab": {
          "base_uri": "https://localhost:8080/"
        },
        "id": "VsvhFQFCedQA",
        "outputId": "04058b40-c346-48b3-bb25-bd7da0a12f19"
      },
      "id": "VsvhFQFCedQA",
      "execution_count": 4,
      "outputs": [
        {
          "output_type": "stream",
          "name": "stdout",
          "text": [
            "Collecting ISLP\n",
            "  Downloading ISLP-0.4.0-py3-none-any.whl.metadata (7.0 kB)\n",
            "Requirement already satisfied: numpy>=1.7.1 in /usr/local/lib/python3.11/dist-packages (from ISLP) (1.26.4)\n",
            "Requirement already satisfied: scipy>=0.9 in /usr/local/lib/python3.11/dist-packages (from ISLP) (1.13.1)\n",
            "Requirement already satisfied: pandas>=0.20 in /usr/local/lib/python3.11/dist-packages (from ISLP) (2.2.2)\n",
            "Requirement already satisfied: lxml in /usr/local/lib/python3.11/dist-packages (from ISLP) (5.3.0)\n",
            "Requirement already satisfied: scikit-learn>=1.2 in /usr/local/lib/python3.11/dist-packages (from ISLP) (1.6.1)\n",
            "Requirement already satisfied: joblib in /usr/local/lib/python3.11/dist-packages (from ISLP) (1.4.2)\n",
            "Requirement already satisfied: statsmodels>=0.13 in /usr/local/lib/python3.11/dist-packages (from ISLP) (0.14.4)\n",
            "Collecting lifelines (from ISLP)\n",
            "  Downloading lifelines-0.30.0-py3-none-any.whl.metadata (3.2 kB)\n",
            "Collecting pygam (from ISLP)\n",
            "  Downloading pygam-0.9.1-py3-none-any.whl.metadata (7.1 kB)\n",
            "Requirement already satisfied: torch in /usr/local/lib/python3.11/dist-packages (from ISLP) (2.5.1+cu124)\n",
            "Collecting pytorch-lightning (from ISLP)\n",
            "  Downloading pytorch_lightning-2.5.0.post0-py3-none-any.whl.metadata (21 kB)\n",
            "Collecting torchmetrics (from ISLP)\n",
            "  Downloading torchmetrics-1.6.1-py3-none-any.whl.metadata (21 kB)\n",
            "Requirement already satisfied: python-dateutil>=2.8.2 in /usr/local/lib/python3.11/dist-packages (from pandas>=0.20->ISLP) (2.8.2)\n",
            "Requirement already satisfied: pytz>=2020.1 in /usr/local/lib/python3.11/dist-packages (from pandas>=0.20->ISLP) (2024.2)\n",
            "Requirement already satisfied: tzdata>=2022.7 in /usr/local/lib/python3.11/dist-packages (from pandas>=0.20->ISLP) (2025.1)\n",
            "Requirement already satisfied: threadpoolctl>=3.1.0 in /usr/local/lib/python3.11/dist-packages (from scikit-learn>=1.2->ISLP) (3.5.0)\n",
            "Requirement already satisfied: patsy>=0.5.6 in /usr/local/lib/python3.11/dist-packages (from statsmodels>=0.13->ISLP) (1.0.1)\n",
            "Requirement already satisfied: packaging>=21.3 in /usr/local/lib/python3.11/dist-packages (from statsmodels>=0.13->ISLP) (24.2)\n",
            "Requirement already satisfied: matplotlib>=3.0 in /usr/local/lib/python3.11/dist-packages (from lifelines->ISLP) (3.10.0)\n",
            "Requirement already satisfied: autograd>=1.5 in /usr/local/lib/python3.11/dist-packages (from lifelines->ISLP) (1.7.0)\n",
            "Collecting autograd-gamma>=0.3 (from lifelines->ISLP)\n",
            "  Downloading autograd-gamma-0.5.0.tar.gz (4.0 kB)\n",
            "  Preparing metadata (setup.py) ... \u001b[?25l\u001b[?25hdone\n",
            "Collecting formulaic>=0.2.2 (from lifelines->ISLP)\n",
            "  Downloading formulaic-1.1.1-py3-none-any.whl.metadata (6.9 kB)\n",
            "Requirement already satisfied: progressbar2<5.0.0,>=4.2.0 in /usr/local/lib/python3.11/dist-packages (from pygam->ISLP) (4.5.0)\n",
            "Collecting scipy>=0.9 (from ISLP)\n",
            "  Downloading scipy-1.11.4-cp311-cp311-manylinux_2_17_x86_64.manylinux2014_x86_64.whl.metadata (60 kB)\n",
            "\u001b[2K     \u001b[90m━━━━━━━━━━━━━━━━━━━━━━━━━━━━━━━━━━━━━━━━\u001b[0m \u001b[32m60.4/60.4 kB\u001b[0m \u001b[31m5.0 MB/s\u001b[0m eta \u001b[36m0:00:00\u001b[0m\n",
            "\u001b[?25hRequirement already satisfied: tqdm>=4.57.0 in /usr/local/lib/python3.11/dist-packages (from pytorch-lightning->ISLP) (4.67.1)\n",
            "Requirement already satisfied: PyYAML>=5.4 in /usr/local/lib/python3.11/dist-packages (from pytorch-lightning->ISLP) (6.0.2)\n",
            "Requirement already satisfied: fsspec>=2022.5.0 in /usr/local/lib/python3.11/dist-packages (from fsspec[http]>=2022.5.0->pytorch-lightning->ISLP) (2024.10.0)\n",
            "Requirement already satisfied: typing-extensions>=4.4.0 in /usr/local/lib/python3.11/dist-packages (from pytorch-lightning->ISLP) (4.12.2)\n",
            "Collecting lightning-utilities>=0.10.0 (from pytorch-lightning->ISLP)\n",
            "  Downloading lightning_utilities-0.11.9-py3-none-any.whl.metadata (5.2 kB)\n",
            "Requirement already satisfied: filelock in /usr/local/lib/python3.11/dist-packages (from torch->ISLP) (3.17.0)\n",
            "Requirement already satisfied: networkx in /usr/local/lib/python3.11/dist-packages (from torch->ISLP) (3.4.2)\n",
            "Requirement already satisfied: jinja2 in /usr/local/lib/python3.11/dist-packages (from torch->ISLP) (3.1.5)\n",
            "Collecting nvidia-cuda-nvrtc-cu12==12.4.127 (from torch->ISLP)\n",
            "  Downloading nvidia_cuda_nvrtc_cu12-12.4.127-py3-none-manylinux2014_x86_64.whl.metadata (1.5 kB)\n",
            "Collecting nvidia-cuda-runtime-cu12==12.4.127 (from torch->ISLP)\n",
            "  Downloading nvidia_cuda_runtime_cu12-12.4.127-py3-none-manylinux2014_x86_64.whl.metadata (1.5 kB)\n",
            "Collecting nvidia-cuda-cupti-cu12==12.4.127 (from torch->ISLP)\n",
            "  Downloading nvidia_cuda_cupti_cu12-12.4.127-py3-none-manylinux2014_x86_64.whl.metadata (1.6 kB)\n",
            "Collecting nvidia-cudnn-cu12==9.1.0.70 (from torch->ISLP)\n",
            "  Downloading nvidia_cudnn_cu12-9.1.0.70-py3-none-manylinux2014_x86_64.whl.metadata (1.6 kB)\n",
            "Collecting nvidia-cublas-cu12==12.4.5.8 (from torch->ISLP)\n",
            "  Downloading nvidia_cublas_cu12-12.4.5.8-py3-none-manylinux2014_x86_64.whl.metadata (1.5 kB)\n",
            "Collecting nvidia-cufft-cu12==11.2.1.3 (from torch->ISLP)\n",
            "  Downloading nvidia_cufft_cu12-11.2.1.3-py3-none-manylinux2014_x86_64.whl.metadata (1.5 kB)\n",
            "Collecting nvidia-curand-cu12==10.3.5.147 (from torch->ISLP)\n",
            "  Downloading nvidia_curand_cu12-10.3.5.147-py3-none-manylinux2014_x86_64.whl.metadata (1.5 kB)\n",
            "Collecting nvidia-cusolver-cu12==11.6.1.9 (from torch->ISLP)\n",
            "  Downloading nvidia_cusolver_cu12-11.6.1.9-py3-none-manylinux2014_x86_64.whl.metadata (1.6 kB)\n",
            "Collecting nvidia-cusparse-cu12==12.3.1.170 (from torch->ISLP)\n",
            "  Downloading nvidia_cusparse_cu12-12.3.1.170-py3-none-manylinux2014_x86_64.whl.metadata (1.6 kB)\n",
            "Requirement already satisfied: nvidia-nccl-cu12==2.21.5 in /usr/local/lib/python3.11/dist-packages (from torch->ISLP) (2.21.5)\n",
            "Requirement already satisfied: nvidia-nvtx-cu12==12.4.127 in /usr/local/lib/python3.11/dist-packages (from torch->ISLP) (12.4.127)\n",
            "Collecting nvidia-nvjitlink-cu12==12.4.127 (from torch->ISLP)\n",
            "  Downloading nvidia_nvjitlink_cu12-12.4.127-py3-none-manylinux2014_x86_64.whl.metadata (1.5 kB)\n",
            "Requirement already satisfied: triton==3.1.0 in /usr/local/lib/python3.11/dist-packages (from torch->ISLP) (3.1.0)\n",
            "Requirement already satisfied: sympy==1.13.1 in /usr/local/lib/python3.11/dist-packages (from torch->ISLP) (1.13.1)\n",
            "Requirement already satisfied: mpmath<1.4,>=1.1.0 in /usr/local/lib/python3.11/dist-packages (from sympy==1.13.1->torch->ISLP) (1.3.0)\n",
            "Collecting interface-meta>=1.2.0 (from formulaic>=0.2.2->lifelines->ISLP)\n",
            "  Downloading interface_meta-1.3.0-py3-none-any.whl.metadata (6.7 kB)\n",
            "Requirement already satisfied: wrapt>=1.0 in /usr/local/lib/python3.11/dist-packages (from formulaic>=0.2.2->lifelines->ISLP) (1.17.2)\n",
            "Requirement already satisfied: aiohttp!=4.0.0a0,!=4.0.0a1 in /usr/local/lib/python3.11/dist-packages (from fsspec[http]>=2022.5.0->pytorch-lightning->ISLP) (3.11.11)\n",
            "Requirement already satisfied: setuptools in /usr/local/lib/python3.11/dist-packages (from lightning-utilities>=0.10.0->pytorch-lightning->ISLP) (75.1.0)\n",
            "Requirement already satisfied: contourpy>=1.0.1 in /usr/local/lib/python3.11/dist-packages (from matplotlib>=3.0->lifelines->ISLP) (1.3.1)\n",
            "Requirement already satisfied: cycler>=0.10 in /usr/local/lib/python3.11/dist-packages (from matplotlib>=3.0->lifelines->ISLP) (0.12.1)\n",
            "Requirement already satisfied: fonttools>=4.22.0 in /usr/local/lib/python3.11/dist-packages (from matplotlib>=3.0->lifelines->ISLP) (4.55.6)\n",
            "Requirement already satisfied: kiwisolver>=1.3.1 in /usr/local/lib/python3.11/dist-packages (from matplotlib>=3.0->lifelines->ISLP) (1.4.8)\n",
            "Requirement already satisfied: pillow>=8 in /usr/local/lib/python3.11/dist-packages (from matplotlib>=3.0->lifelines->ISLP) (11.1.0)\n",
            "Requirement already satisfied: pyparsing>=2.3.1 in /usr/local/lib/python3.11/dist-packages (from matplotlib>=3.0->lifelines->ISLP) (3.2.1)\n",
            "Requirement already satisfied: python-utils>=3.8.1 in /usr/local/lib/python3.11/dist-packages (from progressbar2<5.0.0,>=4.2.0->pygam->ISLP) (3.9.1)\n",
            "Requirement already satisfied: six>=1.5 in /usr/local/lib/python3.11/dist-packages (from python-dateutil>=2.8.2->pandas>=0.20->ISLP) (1.17.0)\n",
            "Requirement already satisfied: MarkupSafe>=2.0 in /usr/local/lib/python3.11/dist-packages (from jinja2->torch->ISLP) (3.0.2)\n",
            "Requirement already satisfied: aiohappyeyeballs>=2.3.0 in /usr/local/lib/python3.11/dist-packages (from aiohttp!=4.0.0a0,!=4.0.0a1->fsspec[http]>=2022.5.0->pytorch-lightning->ISLP) (2.4.4)\n",
            "Requirement already satisfied: aiosignal>=1.1.2 in /usr/local/lib/python3.11/dist-packages (from aiohttp!=4.0.0a0,!=4.0.0a1->fsspec[http]>=2022.5.0->pytorch-lightning->ISLP) (1.3.2)\n",
            "Requirement already satisfied: attrs>=17.3.0 in /usr/local/lib/python3.11/dist-packages (from aiohttp!=4.0.0a0,!=4.0.0a1->fsspec[http]>=2022.5.0->pytorch-lightning->ISLP) (25.1.0)\n",
            "Requirement already satisfied: frozenlist>=1.1.1 in /usr/local/lib/python3.11/dist-packages (from aiohttp!=4.0.0a0,!=4.0.0a1->fsspec[http]>=2022.5.0->pytorch-lightning->ISLP) (1.5.0)\n",
            "Requirement already satisfied: multidict<7.0,>=4.5 in /usr/local/lib/python3.11/dist-packages (from aiohttp!=4.0.0a0,!=4.0.0a1->fsspec[http]>=2022.5.0->pytorch-lightning->ISLP) (6.1.0)\n",
            "Requirement already satisfied: propcache>=0.2.0 in /usr/local/lib/python3.11/dist-packages (from aiohttp!=4.0.0a0,!=4.0.0a1->fsspec[http]>=2022.5.0->pytorch-lightning->ISLP) (0.2.1)\n",
            "Requirement already satisfied: yarl<2.0,>=1.17.0 in /usr/local/lib/python3.11/dist-packages (from aiohttp!=4.0.0a0,!=4.0.0a1->fsspec[http]>=2022.5.0->pytorch-lightning->ISLP) (1.18.3)\n",
            "Requirement already satisfied: idna>=2.0 in /usr/local/lib/python3.11/dist-packages (from yarl<2.0,>=1.17.0->aiohttp!=4.0.0a0,!=4.0.0a1->fsspec[http]>=2022.5.0->pytorch-lightning->ISLP) (3.10)\n",
            "Downloading ISLP-0.4.0-py3-none-any.whl (3.6 MB)\n",
            "\u001b[2K   \u001b[90m━━━━━━━━━━━━━━━━━━━━━━━━━━━━━━━━━━━━━━━━\u001b[0m \u001b[32m3.6/3.6 MB\u001b[0m \u001b[31m75.1 MB/s\u001b[0m eta \u001b[36m0:00:00\u001b[0m\n",
            "\u001b[?25hDownloading lifelines-0.30.0-py3-none-any.whl (349 kB)\n",
            "\u001b[2K   \u001b[90m━━━━━━━━━━━━━━━━━━━━━━━━━━━━━━━━━━━━━━━━\u001b[0m \u001b[32m349.3/349.3 kB\u001b[0m \u001b[31m24.3 MB/s\u001b[0m eta \u001b[36m0:00:00\u001b[0m\n",
            "\u001b[?25hDownloading pygam-0.9.1-py3-none-any.whl (522 kB)\n",
            "\u001b[2K   \u001b[90m━━━━━━━━━━━━━━━━━━━━━━━━━━━━━━━━━━━━━━━━\u001b[0m \u001b[32m522.0/522.0 kB\u001b[0m \u001b[31m35.9 MB/s\u001b[0m eta \u001b[36m0:00:00\u001b[0m\n",
            "\u001b[?25hDownloading scipy-1.11.4-cp311-cp311-manylinux_2_17_x86_64.manylinux2014_x86_64.whl (36.4 MB)\n",
            "\u001b[2K   \u001b[90m━━━━━━━━━━━━━━━━━━━━━━━━━━━━━━━━━━━━━━━━\u001b[0m \u001b[32m36.4/36.4 MB\u001b[0m \u001b[31m22.9 MB/s\u001b[0m eta \u001b[36m0:00:00\u001b[0m\n",
            "\u001b[?25hDownloading pytorch_lightning-2.5.0.post0-py3-none-any.whl (819 kB)\n",
            "\u001b[2K   \u001b[90m━━━━━━━━━━━━━━━━━━━━━━━━━━━━━━━━━━━━━━━━\u001b[0m \u001b[32m819.3/819.3 kB\u001b[0m \u001b[31m48.3 MB/s\u001b[0m eta \u001b[36m0:00:00\u001b[0m\n",
            "\u001b[?25hDownloading nvidia_cublas_cu12-12.4.5.8-py3-none-manylinux2014_x86_64.whl (363.4 MB)\n",
            "\u001b[2K   \u001b[90m━━━━━━━━━━━━━━━━━━━━━━━━━━━━━━━━━━━━━━━━\u001b[0m \u001b[32m363.4/363.4 MB\u001b[0m \u001b[31m4.6 MB/s\u001b[0m eta \u001b[36m0:00:00\u001b[0m\n",
            "\u001b[?25hDownloading nvidia_cuda_cupti_cu12-12.4.127-py3-none-manylinux2014_x86_64.whl (13.8 MB)\n",
            "\u001b[2K   \u001b[90m━━━━━━━━━━━━━━━━━━━━━━━━━━━━━━━━━━━━━━━━\u001b[0m \u001b[32m13.8/13.8 MB\u001b[0m \u001b[31m89.9 MB/s\u001b[0m eta \u001b[36m0:00:00\u001b[0m\n",
            "\u001b[?25hDownloading nvidia_cuda_nvrtc_cu12-12.4.127-py3-none-manylinux2014_x86_64.whl (24.6 MB)\n",
            "\u001b[2K   \u001b[90m━━━━━━━━━━━━━━━━━━━━━━━━━━━━━━━━━━━━━━━━\u001b[0m \u001b[32m24.6/24.6 MB\u001b[0m \u001b[31m73.1 MB/s\u001b[0m eta \u001b[36m0:00:00\u001b[0m\n",
            "\u001b[?25hDownloading nvidia_cuda_runtime_cu12-12.4.127-py3-none-manylinux2014_x86_64.whl (883 kB)\n",
            "\u001b[2K   \u001b[90m━━━━━━━━━━━━━━━━━━━━━━━━━━━━━━━━━━━━━━━━\u001b[0m \u001b[32m883.7/883.7 kB\u001b[0m \u001b[31m45.2 MB/s\u001b[0m eta \u001b[36m0:00:00\u001b[0m\n",
            "\u001b[?25hDownloading nvidia_cudnn_cu12-9.1.0.70-py3-none-manylinux2014_x86_64.whl (664.8 MB)\n",
            "\u001b[2K   \u001b[90m━━━━━━━━━━━━━━━━━━━━━━━━━━━━━━━━━━━━━━━━\u001b[0m \u001b[32m664.8/664.8 MB\u001b[0m \u001b[31m2.8 MB/s\u001b[0m eta \u001b[36m0:00:00\u001b[0m\n",
            "\u001b[?25hDownloading nvidia_cufft_cu12-11.2.1.3-py3-none-manylinux2014_x86_64.whl (211.5 MB)\n",
            "\u001b[2K   \u001b[90m━━━━━━━━━━━━━━━━━━━━━━━━━━━━━━━━━━━━━━━━\u001b[0m \u001b[32m211.5/211.5 MB\u001b[0m \u001b[31m6.3 MB/s\u001b[0m eta \u001b[36m0:00:00\u001b[0m\n",
            "\u001b[?25hDownloading nvidia_curand_cu12-10.3.5.147-py3-none-manylinux2014_x86_64.whl (56.3 MB)\n",
            "\u001b[2K   \u001b[90m━━━━━━━━━━━━━━━━━━━━━━━━━━━━━━━━━━━━━━━━\u001b[0m \u001b[32m56.3/56.3 MB\u001b[0m \u001b[31m12.3 MB/s\u001b[0m eta \u001b[36m0:00:00\u001b[0m\n",
            "\u001b[?25hDownloading nvidia_cusolver_cu12-11.6.1.9-py3-none-manylinux2014_x86_64.whl (127.9 MB)\n",
            "\u001b[2K   \u001b[90m━━━━━━━━━━━━━━━━━━━━━━━━━━━━━━━━━━━━━━━━\u001b[0m \u001b[32m127.9/127.9 MB\u001b[0m \u001b[31m7.2 MB/s\u001b[0m eta \u001b[36m0:00:00\u001b[0m\n",
            "\u001b[?25hDownloading nvidia_cusparse_cu12-12.3.1.170-py3-none-manylinux2014_x86_64.whl (207.5 MB)\n",
            "\u001b[2K   \u001b[90m━━━━━━━━━━━━━━━━━━━━━━━━━━━━━━━━━━━━━━━━\u001b[0m \u001b[32m207.5/207.5 MB\u001b[0m \u001b[31m5.3 MB/s\u001b[0m eta \u001b[36m0:00:00\u001b[0m\n",
            "\u001b[?25hDownloading nvidia_nvjitlink_cu12-12.4.127-py3-none-manylinux2014_x86_64.whl (21.1 MB)\n",
            "\u001b[2K   \u001b[90m━━━━━━━━━━━━━━━━━━━━━━━━━━━━━━━━━━━━━━━━\u001b[0m \u001b[32m21.1/21.1 MB\u001b[0m \u001b[31m75.4 MB/s\u001b[0m eta \u001b[36m0:00:00\u001b[0m\n",
            "\u001b[?25hDownloading torchmetrics-1.6.1-py3-none-any.whl (927 kB)\n",
            "\u001b[2K   \u001b[90m━━━━━━━━━━━━━━━━━━━━━━━━━━━━━━━━━━━━━━━━\u001b[0m \u001b[32m927.3/927.3 kB\u001b[0m \u001b[31m44.9 MB/s\u001b[0m eta \u001b[36m0:00:00\u001b[0m\n",
            "\u001b[?25hDownloading formulaic-1.1.1-py3-none-any.whl (115 kB)\n",
            "\u001b[2K   \u001b[90m━━━━━━━━━━━━━━━━━━━━━━━━━━━━━━━━━━━━━━━━\u001b[0m \u001b[32m115.7/115.7 kB\u001b[0m \u001b[31m9.5 MB/s\u001b[0m eta \u001b[36m0:00:00\u001b[0m\n",
            "\u001b[?25hDownloading lightning_utilities-0.11.9-py3-none-any.whl (28 kB)\n",
            "Downloading interface_meta-1.3.0-py3-none-any.whl (14 kB)\n",
            "Building wheels for collected packages: autograd-gamma\n",
            "  Building wheel for autograd-gamma (setup.py) ... \u001b[?25l\u001b[?25hdone\n",
            "  Created wheel for autograd-gamma: filename=autograd_gamma-0.5.0-py3-none-any.whl size=4031 sha256=182feef1cbbf01311789bf2cf421c29b86fa3e7d050f349dffddab189c809375\n",
            "  Stored in directory: /root/.cache/pip/wheels/8b/67/f4/2caaae2146198dcb824f31a303833b07b14a5ec863fb3acd7b\n",
            "Successfully built autograd-gamma\n",
            "Installing collected packages: scipy, nvidia-nvjitlink-cu12, nvidia-curand-cu12, nvidia-cufft-cu12, nvidia-cuda-runtime-cu12, nvidia-cuda-nvrtc-cu12, nvidia-cuda-cupti-cu12, nvidia-cublas-cu12, lightning-utilities, interface-meta, nvidia-cusparse-cu12, nvidia-cudnn-cu12, autograd-gamma, pygam, nvidia-cusolver-cu12, formulaic, lifelines, torchmetrics, pytorch-lightning, ISLP\n",
            "  Attempting uninstall: scipy\n",
            "    Found existing installation: scipy 1.13.1\n",
            "    Uninstalling scipy-1.13.1:\n",
            "      Successfully uninstalled scipy-1.13.1\n",
            "  Attempting uninstall: nvidia-nvjitlink-cu12\n",
            "    Found existing installation: nvidia-nvjitlink-cu12 12.5.82\n",
            "    Uninstalling nvidia-nvjitlink-cu12-12.5.82:\n",
            "      Successfully uninstalled nvidia-nvjitlink-cu12-12.5.82\n",
            "  Attempting uninstall: nvidia-curand-cu12\n",
            "    Found existing installation: nvidia-curand-cu12 10.3.6.82\n",
            "    Uninstalling nvidia-curand-cu12-10.3.6.82:\n",
            "      Successfully uninstalled nvidia-curand-cu12-10.3.6.82\n",
            "  Attempting uninstall: nvidia-cufft-cu12\n",
            "    Found existing installation: nvidia-cufft-cu12 11.2.3.61\n",
            "    Uninstalling nvidia-cufft-cu12-11.2.3.61:\n",
            "      Successfully uninstalled nvidia-cufft-cu12-11.2.3.61\n",
            "  Attempting uninstall: nvidia-cuda-runtime-cu12\n",
            "    Found existing installation: nvidia-cuda-runtime-cu12 12.5.82\n",
            "    Uninstalling nvidia-cuda-runtime-cu12-12.5.82:\n",
            "      Successfully uninstalled nvidia-cuda-runtime-cu12-12.5.82\n",
            "  Attempting uninstall: nvidia-cuda-nvrtc-cu12\n",
            "    Found existing installation: nvidia-cuda-nvrtc-cu12 12.5.82\n",
            "    Uninstalling nvidia-cuda-nvrtc-cu12-12.5.82:\n",
            "      Successfully uninstalled nvidia-cuda-nvrtc-cu12-12.5.82\n",
            "  Attempting uninstall: nvidia-cuda-cupti-cu12\n",
            "    Found existing installation: nvidia-cuda-cupti-cu12 12.5.82\n",
            "    Uninstalling nvidia-cuda-cupti-cu12-12.5.82:\n",
            "      Successfully uninstalled nvidia-cuda-cupti-cu12-12.5.82\n",
            "  Attempting uninstall: nvidia-cublas-cu12\n",
            "    Found existing installation: nvidia-cublas-cu12 12.5.3.2\n",
            "    Uninstalling nvidia-cublas-cu12-12.5.3.2:\n",
            "      Successfully uninstalled nvidia-cublas-cu12-12.5.3.2\n",
            "  Attempting uninstall: nvidia-cusparse-cu12\n",
            "    Found existing installation: nvidia-cusparse-cu12 12.5.1.3\n",
            "    Uninstalling nvidia-cusparse-cu12-12.5.1.3:\n",
            "      Successfully uninstalled nvidia-cusparse-cu12-12.5.1.3\n",
            "  Attempting uninstall: nvidia-cudnn-cu12\n",
            "    Found existing installation: nvidia-cudnn-cu12 9.3.0.75\n",
            "    Uninstalling nvidia-cudnn-cu12-9.3.0.75:\n",
            "      Successfully uninstalled nvidia-cudnn-cu12-9.3.0.75\n",
            "  Attempting uninstall: nvidia-cusolver-cu12\n",
            "    Found existing installation: nvidia-cusolver-cu12 11.6.3.83\n",
            "    Uninstalling nvidia-cusolver-cu12-11.6.3.83:\n",
            "      Successfully uninstalled nvidia-cusolver-cu12-11.6.3.83\n",
            "Successfully installed ISLP-0.4.0 autograd-gamma-0.5.0 formulaic-1.1.1 interface-meta-1.3.0 lifelines-0.30.0 lightning-utilities-0.11.9 nvidia-cublas-cu12-12.4.5.8 nvidia-cuda-cupti-cu12-12.4.127 nvidia-cuda-nvrtc-cu12-12.4.127 nvidia-cuda-runtime-cu12-12.4.127 nvidia-cudnn-cu12-9.1.0.70 nvidia-cufft-cu12-11.2.1.3 nvidia-curand-cu12-10.3.5.147 nvidia-cusolver-cu12-11.6.1.9 nvidia-cusparse-cu12-12.3.1.170 nvidia-nvjitlink-cu12-12.4.127 pygam-0.9.1 pytorch-lightning-2.5.0.post0 scipy-1.11.4 torchmetrics-1.6.1\n"
          ]
        }
      ]
    },
    {
      "cell_type": "markdown",
      "id": "b4713b12",
      "metadata": {
        "id": "b4713b12"
      },
      "source": [
        "As one of the import statements above is quite a long line, we inserted a line break `\\` to\n",
        "ease readability.\n",
        "\n",
        "We will also use some functions written for the labs in this book in the `ISLP`\n",
        "package."
      ]
    },
    {
      "cell_type": "code",
      "execution_count": 5,
      "id": "307b7e22",
      "metadata": {
        "execution": {
          "iopub.execute_input": "2024-06-04T23:19:07.852868Z",
          "iopub.status.busy": "2024-06-04T23:19:07.852785Z",
          "iopub.status.idle": "2024-06-04T23:19:07.979269Z",
          "shell.execute_reply": "2024-06-04T23:19:07.978990Z"
        },
        "id": "307b7e22"
      },
      "outputs": [],
      "source": [
        "from ISLP import load_data\n",
        "from ISLP.models import (ModelSpec as MS,\n",
        "                         summarize,\n",
        "                         poly)\n"
      ]
    },
    {
      "cell_type": "markdown",
      "id": "81d778fb",
      "metadata": {
        "id": "81d778fb"
      },
      "source": [
        "### Inspecting Objects and Namespaces\n",
        "The\n",
        "function  `dir()`\n",
        "provides a list of\n",
        "objects in a namespace."
      ]
    },
    {
      "cell_type": "code",
      "execution_count": null,
      "id": "79099069",
      "metadata": {
        "execution": {
          "iopub.execute_input": "2024-06-04T23:19:07.981106Z",
          "iopub.status.busy": "2024-06-04T23:19:07.980941Z",
          "iopub.status.idle": "2024-06-04T23:19:07.983820Z",
          "shell.execute_reply": "2024-06-04T23:19:07.983580Z"
        },
        "lines_to_next_cell": 0,
        "colab": {
          "base_uri": "https://localhost:8080/"
        },
        "id": "79099069",
        "outputId": "7d3808d2-499f-4e3d-d8e1-1dad8c4e2b8f"
      },
      "outputs": [
        {
          "output_type": "execute_result",
          "data": {
            "text/plain": [
              "['In',\n",
              " 'MS',\n",
              " 'Out',\n",
              " 'VIF',\n",
              " '_',\n",
              " '__',\n",
              " '___',\n",
              " '__builtin__',\n",
              " '__builtins__',\n",
              " '__doc__',\n",
              " '__loader__',\n",
              " '__name__',\n",
              " '__package__',\n",
              " '__spec__',\n",
              " '_dh',\n",
              " '_exit_code',\n",
              " '_i',\n",
              " '_i1',\n",
              " '_i2',\n",
              " '_i3',\n",
              " '_i4',\n",
              " '_i5',\n",
              " '_i6',\n",
              " '_ih',\n",
              " '_ii',\n",
              " '_iii',\n",
              " '_oh',\n",
              " 'anova_lm',\n",
              " 'exit',\n",
              " 'get_ipython',\n",
              " 'load_data',\n",
              " 'np',\n",
              " 'pd',\n",
              " 'poly',\n",
              " 'quit',\n",
              " 'sm',\n",
              " 'subplots',\n",
              " 'summarize']"
            ]
          },
          "metadata": {},
          "execution_count": 6
        }
      ],
      "source": [
        "dir()\n"
      ]
    },
    {
      "cell_type": "markdown",
      "id": "237f9711",
      "metadata": {
        "id": "237f9711"
      },
      "source": [
        " This shows you everything that `Python` can find at the top level.\n",
        "There are certain objects like `__builtins__` that contain references to built-in\n",
        "functions like `print()`.\n",
        "\n",
        "Every python object has its own notion of\n",
        "namespace, also accessible with `dir()`. This will include\n",
        "both the attributes of the object\n",
        "as well as any methods associated with it. For instance, we see `'sum'` in the listing for an\n",
        "array."
      ]
    },
    {
      "cell_type": "code",
      "execution_count": null,
      "id": "3f99195f",
      "metadata": {
        "execution": {
          "iopub.execute_input": "2024-06-04T23:19:07.985095Z",
          "iopub.status.busy": "2024-06-04T23:19:07.985002Z",
          "iopub.status.idle": "2024-06-04T23:19:07.987401Z",
          "shell.execute_reply": "2024-06-04T23:19:07.987190Z"
        },
        "lines_to_next_cell": 0,
        "colab": {
          "base_uri": "https://localhost:8080/"
        },
        "id": "3f99195f",
        "outputId": "8ee976f9-1204-404f-8483-45d91b6cae61"
      },
      "outputs": [
        {
          "output_type": "execute_result",
          "data": {
            "text/plain": [
              "['T',\n",
              " '__abs__',\n",
              " '__add__',\n",
              " '__and__',\n",
              " '__array__',\n",
              " '__array_finalize__',\n",
              " '__array_function__',\n",
              " '__array_interface__',\n",
              " '__array_prepare__',\n",
              " '__array_priority__',\n",
              " '__array_struct__',\n",
              " '__array_ufunc__',\n",
              " '__array_wrap__',\n",
              " '__bool__',\n",
              " '__class__',\n",
              " '__class_getitem__',\n",
              " '__complex__',\n",
              " '__contains__',\n",
              " '__copy__',\n",
              " '__deepcopy__',\n",
              " '__delattr__',\n",
              " '__delitem__',\n",
              " '__dir__',\n",
              " '__divmod__',\n",
              " '__dlpack__',\n",
              " '__dlpack_device__',\n",
              " '__doc__',\n",
              " '__eq__',\n",
              " '__float__',\n",
              " '__floordiv__',\n",
              " '__format__',\n",
              " '__ge__',\n",
              " '__getattribute__',\n",
              " '__getitem__',\n",
              " '__getstate__',\n",
              " '__gt__',\n",
              " '__hash__',\n",
              " '__iadd__',\n",
              " '__iand__',\n",
              " '__ifloordiv__',\n",
              " '__ilshift__',\n",
              " '__imatmul__',\n",
              " '__imod__',\n",
              " '__imul__',\n",
              " '__index__',\n",
              " '__init__',\n",
              " '__init_subclass__',\n",
              " '__int__',\n",
              " '__invert__',\n",
              " '__ior__',\n",
              " '__ipow__',\n",
              " '__irshift__',\n",
              " '__isub__',\n",
              " '__iter__',\n",
              " '__itruediv__',\n",
              " '__ixor__',\n",
              " '__le__',\n",
              " '__len__',\n",
              " '__lshift__',\n",
              " '__lt__',\n",
              " '__matmul__',\n",
              " '__mod__',\n",
              " '__mul__',\n",
              " '__ne__',\n",
              " '__neg__',\n",
              " '__new__',\n",
              " '__or__',\n",
              " '__pos__',\n",
              " '__pow__',\n",
              " '__radd__',\n",
              " '__rand__',\n",
              " '__rdivmod__',\n",
              " '__reduce__',\n",
              " '__reduce_ex__',\n",
              " '__repr__',\n",
              " '__rfloordiv__',\n",
              " '__rlshift__',\n",
              " '__rmatmul__',\n",
              " '__rmod__',\n",
              " '__rmul__',\n",
              " '__ror__',\n",
              " '__rpow__',\n",
              " '__rrshift__',\n",
              " '__rshift__',\n",
              " '__rsub__',\n",
              " '__rtruediv__',\n",
              " '__rxor__',\n",
              " '__setattr__',\n",
              " '__setitem__',\n",
              " '__setstate__',\n",
              " '__sizeof__',\n",
              " '__str__',\n",
              " '__sub__',\n",
              " '__subclasshook__',\n",
              " '__truediv__',\n",
              " '__xor__',\n",
              " 'all',\n",
              " 'any',\n",
              " 'argmax',\n",
              " 'argmin',\n",
              " 'argpartition',\n",
              " 'argsort',\n",
              " 'astype',\n",
              " 'base',\n",
              " 'byteswap',\n",
              " 'choose',\n",
              " 'clip',\n",
              " 'compress',\n",
              " 'conj',\n",
              " 'conjugate',\n",
              " 'copy',\n",
              " 'ctypes',\n",
              " 'cumprod',\n",
              " 'cumsum',\n",
              " 'data',\n",
              " 'diagonal',\n",
              " 'dot',\n",
              " 'dtype',\n",
              " 'dump',\n",
              " 'dumps',\n",
              " 'fill',\n",
              " 'flags',\n",
              " 'flat',\n",
              " 'flatten',\n",
              " 'getfield',\n",
              " 'imag',\n",
              " 'item',\n",
              " 'itemset',\n",
              " 'itemsize',\n",
              " 'max',\n",
              " 'mean',\n",
              " 'min',\n",
              " 'nbytes',\n",
              " 'ndim',\n",
              " 'newbyteorder',\n",
              " 'nonzero',\n",
              " 'partition',\n",
              " 'prod',\n",
              " 'ptp',\n",
              " 'put',\n",
              " 'ravel',\n",
              " 'real',\n",
              " 'repeat',\n",
              " 'reshape',\n",
              " 'resize',\n",
              " 'round',\n",
              " 'searchsorted',\n",
              " 'setfield',\n",
              " 'setflags',\n",
              " 'shape',\n",
              " 'size',\n",
              " 'sort',\n",
              " 'squeeze',\n",
              " 'std',\n",
              " 'strides',\n",
              " 'sum',\n",
              " 'swapaxes',\n",
              " 'take',\n",
              " 'tobytes',\n",
              " 'tofile',\n",
              " 'tolist',\n",
              " 'tostring',\n",
              " 'trace',\n",
              " 'transpose',\n",
              " 'var',\n",
              " 'view']"
            ]
          },
          "metadata": {},
          "execution_count": 7
        }
      ],
      "source": [
        "A = np.array([3,5,11])\n",
        "dir(A)\n"
      ]
    },
    {
      "cell_type": "markdown",
      "id": "9d776f61",
      "metadata": {
        "id": "9d776f61"
      },
      "source": [
        " This indicates that the object `A.sum` exists. In this case it is a method\n",
        "that can be used to compute the sum of the array `A` as can be seen by typing `A.sum?`."
      ]
    },
    {
      "cell_type": "code",
      "execution_count": null,
      "id": "f3f913ca",
      "metadata": {
        "execution": {
          "iopub.execute_input": "2024-06-04T23:19:07.988574Z",
          "iopub.status.busy": "2024-06-04T23:19:07.988481Z",
          "iopub.status.idle": "2024-06-04T23:19:07.990266Z",
          "shell.execute_reply": "2024-06-04T23:19:07.990078Z"
        },
        "lines_to_next_cell": 0,
        "colab": {
          "base_uri": "https://localhost:8080/"
        },
        "id": "f3f913ca",
        "outputId": "6de7dc31-18ab-47ce-9ed6-306094b44518"
      },
      "outputs": [
        {
          "output_type": "execute_result",
          "data": {
            "text/plain": [
              "19"
            ]
          },
          "metadata": {},
          "execution_count": 8
        }
      ],
      "source": [
        "A.sum()\n"
      ]
    },
    {
      "cell_type": "markdown",
      "id": "974fad08",
      "metadata": {
        "id": "974fad08"
      },
      "source": [
        "    "
      ]
    },
    {
      "cell_type": "markdown",
      "id": "0b212f1f",
      "metadata": {
        "id": "0b212f1f"
      },
      "source": [
        "## Simple Linear Regression\n",
        "In this section we will  construct model\n",
        "matrices (also called design matrices) using the `ModelSpec()`  transform from `ISLP.models`.\n",
        "\n",
        "We  will use the `Boston` housing data set, which is contained in the `ISLP` package.  The `Boston` dataset records  `medv`  (median house value) for $506$ neighborhoods\n",
        "around Boston.  We will build a regression model to predict  `medv`  using $13$\n",
        "predictors such as  `rmvar`  (average number of rooms per house),\n",
        " `age`  (proportion of owner-occupied units built prior to 1940), and  `lstat`  (percent of\n",
        "households with low socioeconomic status).  We will use `statsmodels` for this\n",
        "task, a `Python` package that implements several commonly used\n",
        "regression methods.\n",
        "\n",
        "We have included a simple loading function `load_data()` in the\n",
        "`ISLP` package:"
      ]
    },
    {
      "cell_type": "code",
      "execution_count": null,
      "id": "d720e2c5",
      "metadata": {
        "execution": {
          "iopub.execute_input": "2024-06-04T23:19:07.991415Z",
          "iopub.status.busy": "2024-06-04T23:19:07.991335Z",
          "iopub.status.idle": "2024-06-04T23:19:07.995566Z",
          "shell.execute_reply": "2024-06-04T23:19:07.995348Z"
        },
        "id": "d720e2c5"
      },
      "outputs": [],
      "source": [
        "Boston = load_data(\"Boston\")\n",
        "Boston.columns\n",
        "Boston?\n"
      ]
    },
    {
      "cell_type": "markdown",
      "id": "27b9c8f5",
      "metadata": {
        "id": "27b9c8f5"
      },
      "source": [
        "Type `Boston?` to find out more about these data.\n",
        "\n",
        "We start by using the `sm.OLS()`  function to fit a\n",
        "simple linear regression model.  Our response will be\n",
        " `medv`  and  `lstat`  will be the single predictor.\n",
        "For this model, we can create the model matrix by hand.\n"
      ]
    },
    {
      "cell_type": "code",
      "execution_count": null,
      "id": "40e9b0d5",
      "metadata": {
        "execution": {
          "iopub.execute_input": "2024-06-04T23:19:07.996720Z",
          "iopub.status.busy": "2024-06-04T23:19:07.996648Z",
          "iopub.status.idle": "2024-06-04T23:19:08.000848Z",
          "shell.execute_reply": "2024-06-04T23:19:08.000660Z"
        },
        "colab": {
          "base_uri": "https://localhost:8080/",
          "height": 175
        },
        "id": "40e9b0d5",
        "outputId": "bdec42a5-8bdf-44f3-d5f2-2585878bbed8"
      },
      "outputs": [
        {
          "output_type": "execute_result",
          "data": {
            "text/plain": [
              "   intercept  lstat\n",
              "0        1.0   4.98\n",
              "1        1.0   9.14\n",
              "2        1.0   4.03\n",
              "3        1.0   2.94"
            ],
            "text/html": [
              "\n",
              "  <div id=\"df-d1170e04-e36b-43e0-a274-83b3ff15ca28\" class=\"colab-df-container\">\n",
              "    <div>\n",
              "<style scoped>\n",
              "    .dataframe tbody tr th:only-of-type {\n",
              "        vertical-align: middle;\n",
              "    }\n",
              "\n",
              "    .dataframe tbody tr th {\n",
              "        vertical-align: top;\n",
              "    }\n",
              "\n",
              "    .dataframe thead th {\n",
              "        text-align: right;\n",
              "    }\n",
              "</style>\n",
              "<table border=\"1\" class=\"dataframe\">\n",
              "  <thead>\n",
              "    <tr style=\"text-align: right;\">\n",
              "      <th></th>\n",
              "      <th>intercept</th>\n",
              "      <th>lstat</th>\n",
              "    </tr>\n",
              "  </thead>\n",
              "  <tbody>\n",
              "    <tr>\n",
              "      <th>0</th>\n",
              "      <td>1.0</td>\n",
              "      <td>4.98</td>\n",
              "    </tr>\n",
              "    <tr>\n",
              "      <th>1</th>\n",
              "      <td>1.0</td>\n",
              "      <td>9.14</td>\n",
              "    </tr>\n",
              "    <tr>\n",
              "      <th>2</th>\n",
              "      <td>1.0</td>\n",
              "      <td>4.03</td>\n",
              "    </tr>\n",
              "    <tr>\n",
              "      <th>3</th>\n",
              "      <td>1.0</td>\n",
              "      <td>2.94</td>\n",
              "    </tr>\n",
              "  </tbody>\n",
              "</table>\n",
              "</div>\n",
              "    <div class=\"colab-df-buttons\">\n",
              "\n",
              "  <div class=\"colab-df-container\">\n",
              "    <button class=\"colab-df-convert\" onclick=\"convertToInteractive('df-d1170e04-e36b-43e0-a274-83b3ff15ca28')\"\n",
              "            title=\"Convert this dataframe to an interactive table.\"\n",
              "            style=\"display:none;\">\n",
              "\n",
              "  <svg xmlns=\"http://www.w3.org/2000/svg\" height=\"24px\" viewBox=\"0 -960 960 960\">\n",
              "    <path d=\"M120-120v-720h720v720H120Zm60-500h600v-160H180v160Zm220 220h160v-160H400v160Zm0 220h160v-160H400v160ZM180-400h160v-160H180v160Zm440 0h160v-160H620v160ZM180-180h160v-160H180v160Zm440 0h160v-160H620v160Z\"/>\n",
              "  </svg>\n",
              "    </button>\n",
              "\n",
              "  <style>\n",
              "    .colab-df-container {\n",
              "      display:flex;\n",
              "      gap: 12px;\n",
              "    }\n",
              "\n",
              "    .colab-df-convert {\n",
              "      background-color: #E8F0FE;\n",
              "      border: none;\n",
              "      border-radius: 50%;\n",
              "      cursor: pointer;\n",
              "      display: none;\n",
              "      fill: #1967D2;\n",
              "      height: 32px;\n",
              "      padding: 0 0 0 0;\n",
              "      width: 32px;\n",
              "    }\n",
              "\n",
              "    .colab-df-convert:hover {\n",
              "      background-color: #E2EBFA;\n",
              "      box-shadow: 0px 1px 2px rgba(60, 64, 67, 0.3), 0px 1px 3px 1px rgba(60, 64, 67, 0.15);\n",
              "      fill: #174EA6;\n",
              "    }\n",
              "\n",
              "    .colab-df-buttons div {\n",
              "      margin-bottom: 4px;\n",
              "    }\n",
              "\n",
              "    [theme=dark] .colab-df-convert {\n",
              "      background-color: #3B4455;\n",
              "      fill: #D2E3FC;\n",
              "    }\n",
              "\n",
              "    [theme=dark] .colab-df-convert:hover {\n",
              "      background-color: #434B5C;\n",
              "      box-shadow: 0px 1px 3px 1px rgba(0, 0, 0, 0.15);\n",
              "      filter: drop-shadow(0px 1px 2px rgba(0, 0, 0, 0.3));\n",
              "      fill: #FFFFFF;\n",
              "    }\n",
              "  </style>\n",
              "\n",
              "    <script>\n",
              "      const buttonEl =\n",
              "        document.querySelector('#df-d1170e04-e36b-43e0-a274-83b3ff15ca28 button.colab-df-convert');\n",
              "      buttonEl.style.display =\n",
              "        google.colab.kernel.accessAllowed ? 'block' : 'none';\n",
              "\n",
              "      async function convertToInteractive(key) {\n",
              "        const element = document.querySelector('#df-d1170e04-e36b-43e0-a274-83b3ff15ca28');\n",
              "        const dataTable =\n",
              "          await google.colab.kernel.invokeFunction('convertToInteractive',\n",
              "                                                    [key], {});\n",
              "        if (!dataTable) return;\n",
              "\n",
              "        const docLinkHtml = 'Like what you see? Visit the ' +\n",
              "          '<a target=\"_blank\" href=https://colab.research.google.com/notebooks/data_table.ipynb>data table notebook</a>'\n",
              "          + ' to learn more about interactive tables.';\n",
              "        element.innerHTML = '';\n",
              "        dataTable['output_type'] = 'display_data';\n",
              "        await google.colab.output.renderOutput(dataTable, element);\n",
              "        const docLink = document.createElement('div');\n",
              "        docLink.innerHTML = docLinkHtml;\n",
              "        element.appendChild(docLink);\n",
              "      }\n",
              "    </script>\n",
              "  </div>\n",
              "\n",
              "\n",
              "<div id=\"df-537277c7-a8f3-4466-8a8f-2585abc3dea0\">\n",
              "  <button class=\"colab-df-quickchart\" onclick=\"quickchart('df-537277c7-a8f3-4466-8a8f-2585abc3dea0')\"\n",
              "            title=\"Suggest charts\"\n",
              "            style=\"display:none;\">\n",
              "\n",
              "<svg xmlns=\"http://www.w3.org/2000/svg\" height=\"24px\"viewBox=\"0 0 24 24\"\n",
              "     width=\"24px\">\n",
              "    <g>\n",
              "        <path d=\"M19 3H5c-1.1 0-2 .9-2 2v14c0 1.1.9 2 2 2h14c1.1 0 2-.9 2-2V5c0-1.1-.9-2-2-2zM9 17H7v-7h2v7zm4 0h-2V7h2v10zm4 0h-2v-4h2v4z\"/>\n",
              "    </g>\n",
              "</svg>\n",
              "  </button>\n",
              "\n",
              "<style>\n",
              "  .colab-df-quickchart {\n",
              "      --bg-color: #E8F0FE;\n",
              "      --fill-color: #1967D2;\n",
              "      --hover-bg-color: #E2EBFA;\n",
              "      --hover-fill-color: #174EA6;\n",
              "      --disabled-fill-color: #AAA;\n",
              "      --disabled-bg-color: #DDD;\n",
              "  }\n",
              "\n",
              "  [theme=dark] .colab-df-quickchart {\n",
              "      --bg-color: #3B4455;\n",
              "      --fill-color: #D2E3FC;\n",
              "      --hover-bg-color: #434B5C;\n",
              "      --hover-fill-color: #FFFFFF;\n",
              "      --disabled-bg-color: #3B4455;\n",
              "      --disabled-fill-color: #666;\n",
              "  }\n",
              "\n",
              "  .colab-df-quickchart {\n",
              "    background-color: var(--bg-color);\n",
              "    border: none;\n",
              "    border-radius: 50%;\n",
              "    cursor: pointer;\n",
              "    display: none;\n",
              "    fill: var(--fill-color);\n",
              "    height: 32px;\n",
              "    padding: 0;\n",
              "    width: 32px;\n",
              "  }\n",
              "\n",
              "  .colab-df-quickchart:hover {\n",
              "    background-color: var(--hover-bg-color);\n",
              "    box-shadow: 0 1px 2px rgba(60, 64, 67, 0.3), 0 1px 3px 1px rgba(60, 64, 67, 0.15);\n",
              "    fill: var(--button-hover-fill-color);\n",
              "  }\n",
              "\n",
              "  .colab-df-quickchart-complete:disabled,\n",
              "  .colab-df-quickchart-complete:disabled:hover {\n",
              "    background-color: var(--disabled-bg-color);\n",
              "    fill: var(--disabled-fill-color);\n",
              "    box-shadow: none;\n",
              "  }\n",
              "\n",
              "  .colab-df-spinner {\n",
              "    border: 2px solid var(--fill-color);\n",
              "    border-color: transparent;\n",
              "    border-bottom-color: var(--fill-color);\n",
              "    animation:\n",
              "      spin 1s steps(1) infinite;\n",
              "  }\n",
              "\n",
              "  @keyframes spin {\n",
              "    0% {\n",
              "      border-color: transparent;\n",
              "      border-bottom-color: var(--fill-color);\n",
              "      border-left-color: var(--fill-color);\n",
              "    }\n",
              "    20% {\n",
              "      border-color: transparent;\n",
              "      border-left-color: var(--fill-color);\n",
              "      border-top-color: var(--fill-color);\n",
              "    }\n",
              "    30% {\n",
              "      border-color: transparent;\n",
              "      border-left-color: var(--fill-color);\n",
              "      border-top-color: var(--fill-color);\n",
              "      border-right-color: var(--fill-color);\n",
              "    }\n",
              "    40% {\n",
              "      border-color: transparent;\n",
              "      border-right-color: var(--fill-color);\n",
              "      border-top-color: var(--fill-color);\n",
              "    }\n",
              "    60% {\n",
              "      border-color: transparent;\n",
              "      border-right-color: var(--fill-color);\n",
              "    }\n",
              "    80% {\n",
              "      border-color: transparent;\n",
              "      border-right-color: var(--fill-color);\n",
              "      border-bottom-color: var(--fill-color);\n",
              "    }\n",
              "    90% {\n",
              "      border-color: transparent;\n",
              "      border-bottom-color: var(--fill-color);\n",
              "    }\n",
              "  }\n",
              "</style>\n",
              "\n",
              "  <script>\n",
              "    async function quickchart(key) {\n",
              "      const quickchartButtonEl =\n",
              "        document.querySelector('#' + key + ' button');\n",
              "      quickchartButtonEl.disabled = true;  // To prevent multiple clicks.\n",
              "      quickchartButtonEl.classList.add('colab-df-spinner');\n",
              "      try {\n",
              "        const charts = await google.colab.kernel.invokeFunction(\n",
              "            'suggestCharts', [key], {});\n",
              "      } catch (error) {\n",
              "        console.error('Error during call to suggestCharts:', error);\n",
              "      }\n",
              "      quickchartButtonEl.classList.remove('colab-df-spinner');\n",
              "      quickchartButtonEl.classList.add('colab-df-quickchart-complete');\n",
              "    }\n",
              "    (() => {\n",
              "      let quickchartButtonEl =\n",
              "        document.querySelector('#df-537277c7-a8f3-4466-8a8f-2585abc3dea0 button');\n",
              "      quickchartButtonEl.style.display =\n",
              "        google.colab.kernel.accessAllowed ? 'block' : 'none';\n",
              "    })();\n",
              "  </script>\n",
              "</div>\n",
              "\n",
              "    </div>\n",
              "  </div>\n"
            ],
            "application/vnd.google.colaboratory.intrinsic+json": {
              "type": "dataframe",
              "summary": "{\n  \"name\": \"X[:4]\",\n  \"rows\": 4,\n  \"fields\": [\n    {\n      \"column\": \"intercept\",\n      \"properties\": {\n        \"dtype\": \"number\",\n        \"std\": 0.0,\n        \"min\": 1.0,\n        \"max\": 1.0,\n        \"num_unique_values\": 1,\n        \"samples\": [\n          1.0\n        ],\n        \"semantic_type\": \"\",\n        \"description\": \"\"\n      }\n    },\n    {\n      \"column\": \"lstat\",\n      \"properties\": {\n        \"dtype\": \"number\",\n        \"std\": 2.709703243284524,\n        \"min\": 2.94,\n        \"max\": 9.14,\n        \"num_unique_values\": 4,\n        \"samples\": [\n          9.14\n        ],\n        \"semantic_type\": \"\",\n        \"description\": \"\"\n      }\n    }\n  ]\n}"
            }
          },
          "metadata": {},
          "execution_count": 9
        }
      ],
      "source": [
        "X = pd.DataFrame({'intercept': np.ones(Boston.shape[0]),\n",
        "                  'lstat': Boston['lstat']})\n",
        "X[:4]\n"
      ]
    },
    {
      "cell_type": "markdown",
      "id": "162d93ef",
      "metadata": {
        "id": "162d93ef"
      },
      "source": [
        "We extract the response, and fit the model."
      ]
    },
    {
      "cell_type": "code",
      "execution_count": null,
      "id": "c1d544d6",
      "metadata": {
        "execution": {
          "iopub.execute_input": "2024-06-04T23:19:08.002003Z",
          "iopub.status.busy": "2024-06-04T23:19:08.001934Z",
          "iopub.status.idle": "2024-06-04T23:19:08.003890Z",
          "shell.execute_reply": "2024-06-04T23:19:08.003673Z"
        },
        "lines_to_next_cell": 0,
        "colab": {
          "base_uri": "https://localhost:8080/",
          "height": 339
        },
        "id": "c1d544d6",
        "outputId": "f7ad9485-774b-4a76-e3cb-a51e9a08925f"
      },
      "outputs": [
        {
          "output_type": "error",
          "ename": "ValueError",
          "evalue": "The indices for endog and exog are not aligned",
          "traceback": [
            "\u001b[0;31m---------------------------------------------------------------------------\u001b[0m",
            "\u001b[0;31mValueError\u001b[0m                                Traceback (most recent call last)",
            "\u001b[0;32m<ipython-input-29-da1a9ea3de73>\u001b[0m in \u001b[0;36m<cell line: 0>\u001b[0;34m()\u001b[0m\n\u001b[1;32m      1\u001b[0m \u001b[0my\u001b[0m \u001b[0;34m=\u001b[0m \u001b[0mBoston\u001b[0m\u001b[0;34m[\u001b[0m\u001b[0;34m'medv'\u001b[0m\u001b[0;34m]\u001b[0m\u001b[0;34m\u001b[0m\u001b[0;34m\u001b[0m\u001b[0m\n\u001b[0;32m----> 2\u001b[0;31m \u001b[0mmodel\u001b[0m \u001b[0;34m=\u001b[0m \u001b[0msm\u001b[0m\u001b[0;34m.\u001b[0m\u001b[0mOLS\u001b[0m\u001b[0;34m(\u001b[0m\u001b[0my\u001b[0m\u001b[0;34m,\u001b[0m \u001b[0mX\u001b[0m\u001b[0;34m)\u001b[0m\u001b[0;34m\u001b[0m\u001b[0;34m\u001b[0m\u001b[0m\n\u001b[0m\u001b[1;32m      3\u001b[0m \u001b[0mresults\u001b[0m \u001b[0;34m=\u001b[0m \u001b[0mmodel\u001b[0m\u001b[0;34m.\u001b[0m\u001b[0mfit\u001b[0m\u001b[0;34m(\u001b[0m\u001b[0;34m)\u001b[0m\u001b[0;34m\u001b[0m\u001b[0;34m\u001b[0m\u001b[0m\n\u001b[1;32m      4\u001b[0m \u001b[0mresults\u001b[0m\u001b[0;34m.\u001b[0m\u001b[0mdtype\u001b[0m\u001b[0;34m\u001b[0m\u001b[0;34m\u001b[0m\u001b[0m\n",
            "\u001b[0;32m/usr/local/lib/python3.11/dist-packages/statsmodels/regression/linear_model.py\u001b[0m in \u001b[0;36m__init__\u001b[0;34m(self, endog, exog, missing, hasconst, **kwargs)\u001b[0m\n\u001b[1;32m    919\u001b[0m                    \"An exception will be raised in the next version.\")\n\u001b[1;32m    920\u001b[0m             \u001b[0mwarnings\u001b[0m\u001b[0;34m.\u001b[0m\u001b[0mwarn\u001b[0m\u001b[0;34m(\u001b[0m\u001b[0mmsg\u001b[0m\u001b[0;34m,\u001b[0m \u001b[0mValueWarning\u001b[0m\u001b[0;34m)\u001b[0m\u001b[0;34m\u001b[0m\u001b[0;34m\u001b[0m\u001b[0m\n\u001b[0;32m--> 921\u001b[0;31m         super().__init__(endog, exog, missing=missing,\n\u001b[0m\u001b[1;32m    922\u001b[0m                                   hasconst=hasconst, **kwargs)\n\u001b[1;32m    923\u001b[0m         \u001b[0;32mif\u001b[0m \u001b[0;34m\"weights\"\u001b[0m \u001b[0;32min\u001b[0m \u001b[0mself\u001b[0m\u001b[0;34m.\u001b[0m\u001b[0m_init_keys\u001b[0m\u001b[0;34m:\u001b[0m\u001b[0;34m\u001b[0m\u001b[0;34m\u001b[0m\u001b[0m\n",
            "\u001b[0;32m/usr/local/lib/python3.11/dist-packages/statsmodels/regression/linear_model.py\u001b[0m in \u001b[0;36m__init__\u001b[0;34m(self, endog, exog, weights, missing, hasconst, **kwargs)\u001b[0m\n\u001b[1;32m    744\u001b[0m         \u001b[0;32melse\u001b[0m\u001b[0;34m:\u001b[0m\u001b[0;34m\u001b[0m\u001b[0;34m\u001b[0m\u001b[0m\n\u001b[1;32m    745\u001b[0m             \u001b[0mweights\u001b[0m \u001b[0;34m=\u001b[0m \u001b[0mweights\u001b[0m\u001b[0;34m.\u001b[0m\u001b[0msqueeze\u001b[0m\u001b[0;34m(\u001b[0m\u001b[0;34m)\u001b[0m\u001b[0;34m\u001b[0m\u001b[0;34m\u001b[0m\u001b[0m\n\u001b[0;32m--> 746\u001b[0;31m         super().__init__(endog, exog, missing=missing,\n\u001b[0m\u001b[1;32m    747\u001b[0m                                   weights=weights, hasconst=hasconst, **kwargs)\n\u001b[1;32m    748\u001b[0m         \u001b[0mnobs\u001b[0m \u001b[0;34m=\u001b[0m \u001b[0mself\u001b[0m\u001b[0;34m.\u001b[0m\u001b[0mexog\u001b[0m\u001b[0;34m.\u001b[0m\u001b[0mshape\u001b[0m\u001b[0;34m[\u001b[0m\u001b[0;36m0\u001b[0m\u001b[0;34m]\u001b[0m\u001b[0;34m\u001b[0m\u001b[0;34m\u001b[0m\u001b[0m\n",
            "\u001b[0;32m/usr/local/lib/python3.11/dist-packages/statsmodels/regression/linear_model.py\u001b[0m in \u001b[0;36m__init__\u001b[0;34m(self, endog, exog, **kwargs)\u001b[0m\n\u001b[1;32m    198\u001b[0m     \"\"\"\n\u001b[1;32m    199\u001b[0m     \u001b[0;32mdef\u001b[0m \u001b[0m__init__\u001b[0m\u001b[0;34m(\u001b[0m\u001b[0mself\u001b[0m\u001b[0;34m,\u001b[0m \u001b[0mendog\u001b[0m\u001b[0;34m,\u001b[0m \u001b[0mexog\u001b[0m\u001b[0;34m,\u001b[0m \u001b[0;34m**\u001b[0m\u001b[0mkwargs\u001b[0m\u001b[0;34m)\u001b[0m\u001b[0;34m:\u001b[0m\u001b[0;34m\u001b[0m\u001b[0;34m\u001b[0m\u001b[0m\n\u001b[0;32m--> 200\u001b[0;31m         \u001b[0msuper\u001b[0m\u001b[0;34m(\u001b[0m\u001b[0;34m)\u001b[0m\u001b[0;34m.\u001b[0m\u001b[0m__init__\u001b[0m\u001b[0;34m(\u001b[0m\u001b[0mendog\u001b[0m\u001b[0;34m,\u001b[0m \u001b[0mexog\u001b[0m\u001b[0;34m,\u001b[0m \u001b[0;34m**\u001b[0m\u001b[0mkwargs\u001b[0m\u001b[0;34m)\u001b[0m\u001b[0;34m\u001b[0m\u001b[0;34m\u001b[0m\u001b[0m\n\u001b[0m\u001b[1;32m    201\u001b[0m         \u001b[0mself\u001b[0m\u001b[0;34m.\u001b[0m\u001b[0mpinv_wexog\u001b[0m\u001b[0;34m:\u001b[0m \u001b[0mFloat64Array\u001b[0m \u001b[0;34m|\u001b[0m \u001b[0;32mNone\u001b[0m \u001b[0;34m=\u001b[0m \u001b[0;32mNone\u001b[0m\u001b[0;34m\u001b[0m\u001b[0;34m\u001b[0m\u001b[0m\n\u001b[1;32m    202\u001b[0m         \u001b[0mself\u001b[0m\u001b[0;34m.\u001b[0m\u001b[0m_data_attr\u001b[0m\u001b[0;34m.\u001b[0m\u001b[0mextend\u001b[0m\u001b[0;34m(\u001b[0m\u001b[0;34m[\u001b[0m\u001b[0;34m'pinv_wexog'\u001b[0m\u001b[0;34m,\u001b[0m \u001b[0;34m'wendog'\u001b[0m\u001b[0;34m,\u001b[0m \u001b[0;34m'wexog'\u001b[0m\u001b[0;34m,\u001b[0m \u001b[0;34m'weights'\u001b[0m\u001b[0;34m]\u001b[0m\u001b[0;34m)\u001b[0m\u001b[0;34m\u001b[0m\u001b[0;34m\u001b[0m\u001b[0m\n",
            "\u001b[0;32m/usr/local/lib/python3.11/dist-packages/statsmodels/base/model.py\u001b[0m in \u001b[0;36m__init__\u001b[0;34m(self, endog, exog, **kwargs)\u001b[0m\n\u001b[1;32m    268\u001b[0m \u001b[0;34m\u001b[0m\u001b[0m\n\u001b[1;32m    269\u001b[0m     \u001b[0;32mdef\u001b[0m \u001b[0m__init__\u001b[0m\u001b[0;34m(\u001b[0m\u001b[0mself\u001b[0m\u001b[0;34m,\u001b[0m \u001b[0mendog\u001b[0m\u001b[0;34m,\u001b[0m \u001b[0mexog\u001b[0m\u001b[0;34m=\u001b[0m\u001b[0;32mNone\u001b[0m\u001b[0;34m,\u001b[0m \u001b[0;34m**\u001b[0m\u001b[0mkwargs\u001b[0m\u001b[0;34m)\u001b[0m\u001b[0;34m:\u001b[0m\u001b[0;34m\u001b[0m\u001b[0;34m\u001b[0m\u001b[0m\n\u001b[0;32m--> 270\u001b[0;31m         \u001b[0msuper\u001b[0m\u001b[0;34m(\u001b[0m\u001b[0;34m)\u001b[0m\u001b[0;34m.\u001b[0m\u001b[0m__init__\u001b[0m\u001b[0;34m(\u001b[0m\u001b[0mendog\u001b[0m\u001b[0;34m,\u001b[0m \u001b[0mexog\u001b[0m\u001b[0;34m,\u001b[0m \u001b[0;34m**\u001b[0m\u001b[0mkwargs\u001b[0m\u001b[0;34m)\u001b[0m\u001b[0;34m\u001b[0m\u001b[0;34m\u001b[0m\u001b[0m\n\u001b[0m\u001b[1;32m    271\u001b[0m         \u001b[0mself\u001b[0m\u001b[0;34m.\u001b[0m\u001b[0minitialize\u001b[0m\u001b[0;34m(\u001b[0m\u001b[0;34m)\u001b[0m\u001b[0;34m\u001b[0m\u001b[0;34m\u001b[0m\u001b[0m\n\u001b[1;32m    272\u001b[0m \u001b[0;34m\u001b[0m\u001b[0m\n",
            "\u001b[0;32m/usr/local/lib/python3.11/dist-packages/statsmodels/base/model.py\u001b[0m in \u001b[0;36m__init__\u001b[0;34m(self, endog, exog, **kwargs)\u001b[0m\n\u001b[1;32m     93\u001b[0m         \u001b[0mmissing\u001b[0m \u001b[0;34m=\u001b[0m \u001b[0mkwargs\u001b[0m\u001b[0;34m.\u001b[0m\u001b[0mpop\u001b[0m\u001b[0;34m(\u001b[0m\u001b[0;34m'missing'\u001b[0m\u001b[0;34m,\u001b[0m \u001b[0;34m'none'\u001b[0m\u001b[0;34m)\u001b[0m\u001b[0;34m\u001b[0m\u001b[0;34m\u001b[0m\u001b[0m\n\u001b[1;32m     94\u001b[0m         \u001b[0mhasconst\u001b[0m \u001b[0;34m=\u001b[0m \u001b[0mkwargs\u001b[0m\u001b[0;34m.\u001b[0m\u001b[0mpop\u001b[0m\u001b[0;34m(\u001b[0m\u001b[0;34m'hasconst'\u001b[0m\u001b[0;34m,\u001b[0m \u001b[0;32mNone\u001b[0m\u001b[0;34m)\u001b[0m\u001b[0;34m\u001b[0m\u001b[0;34m\u001b[0m\u001b[0m\n\u001b[0;32m---> 95\u001b[0;31m         self.data = self._handle_data(endog, exog, missing, hasconst,\n\u001b[0m\u001b[1;32m     96\u001b[0m                                       **kwargs)\n\u001b[1;32m     97\u001b[0m         \u001b[0mself\u001b[0m\u001b[0;34m.\u001b[0m\u001b[0mk_constant\u001b[0m \u001b[0;34m=\u001b[0m \u001b[0mself\u001b[0m\u001b[0;34m.\u001b[0m\u001b[0mdata\u001b[0m\u001b[0;34m.\u001b[0m\u001b[0mk_constant\u001b[0m\u001b[0;34m\u001b[0m\u001b[0;34m\u001b[0m\u001b[0m\n",
            "\u001b[0;32m/usr/local/lib/python3.11/dist-packages/statsmodels/base/model.py\u001b[0m in \u001b[0;36m_handle_data\u001b[0;34m(self, endog, exog, missing, hasconst, **kwargs)\u001b[0m\n\u001b[1;32m    133\u001b[0m \u001b[0;34m\u001b[0m\u001b[0m\n\u001b[1;32m    134\u001b[0m     \u001b[0;32mdef\u001b[0m \u001b[0m_handle_data\u001b[0m\u001b[0;34m(\u001b[0m\u001b[0mself\u001b[0m\u001b[0;34m,\u001b[0m \u001b[0mendog\u001b[0m\u001b[0;34m,\u001b[0m \u001b[0mexog\u001b[0m\u001b[0;34m,\u001b[0m \u001b[0mmissing\u001b[0m\u001b[0;34m,\u001b[0m \u001b[0mhasconst\u001b[0m\u001b[0;34m,\u001b[0m \u001b[0;34m**\u001b[0m\u001b[0mkwargs\u001b[0m\u001b[0;34m)\u001b[0m\u001b[0;34m:\u001b[0m\u001b[0;34m\u001b[0m\u001b[0;34m\u001b[0m\u001b[0m\n\u001b[0;32m--> 135\u001b[0;31m         \u001b[0mdata\u001b[0m \u001b[0;34m=\u001b[0m \u001b[0mhandle_data\u001b[0m\u001b[0;34m(\u001b[0m\u001b[0mendog\u001b[0m\u001b[0;34m,\u001b[0m \u001b[0mexog\u001b[0m\u001b[0;34m,\u001b[0m \u001b[0mmissing\u001b[0m\u001b[0;34m,\u001b[0m \u001b[0mhasconst\u001b[0m\u001b[0;34m,\u001b[0m \u001b[0;34m**\u001b[0m\u001b[0mkwargs\u001b[0m\u001b[0;34m)\u001b[0m\u001b[0;34m\u001b[0m\u001b[0;34m\u001b[0m\u001b[0m\n\u001b[0m\u001b[1;32m    136\u001b[0m         \u001b[0;31m# kwargs arrays could have changed, easier to just attach here\u001b[0m\u001b[0;34m\u001b[0m\u001b[0;34m\u001b[0m\u001b[0m\n\u001b[1;32m    137\u001b[0m         \u001b[0;32mfor\u001b[0m \u001b[0mkey\u001b[0m \u001b[0;32min\u001b[0m \u001b[0mkwargs\u001b[0m\u001b[0;34m:\u001b[0m\u001b[0;34m\u001b[0m\u001b[0;34m\u001b[0m\u001b[0m\n",
            "\u001b[0;32m/usr/local/lib/python3.11/dist-packages/statsmodels/base/data.py\u001b[0m in \u001b[0;36mhandle_data\u001b[0;34m(endog, exog, missing, hasconst, **kwargs)\u001b[0m\n\u001b[1;32m    673\u001b[0m \u001b[0;34m\u001b[0m\u001b[0m\n\u001b[1;32m    674\u001b[0m     \u001b[0mklass\u001b[0m \u001b[0;34m=\u001b[0m \u001b[0mhandle_data_class_factory\u001b[0m\u001b[0;34m(\u001b[0m\u001b[0mendog\u001b[0m\u001b[0;34m,\u001b[0m \u001b[0mexog\u001b[0m\u001b[0;34m)\u001b[0m\u001b[0;34m\u001b[0m\u001b[0;34m\u001b[0m\u001b[0m\n\u001b[0;32m--> 675\u001b[0;31m     return klass(endog, exog=exog, missing=missing, hasconst=hasconst,\n\u001b[0m\u001b[1;32m    676\u001b[0m                  **kwargs)\n",
            "\u001b[0;32m/usr/local/lib/python3.11/dist-packages/statsmodels/base/data.py\u001b[0m in \u001b[0;36m__init__\u001b[0;34m(self, endog, exog, missing, hasconst, **kwargs)\u001b[0m\n\u001b[1;32m     87\u001b[0m         \u001b[0mself\u001b[0m\u001b[0;34m.\u001b[0m\u001b[0mk_constant\u001b[0m \u001b[0;34m=\u001b[0m \u001b[0;36m0\u001b[0m\u001b[0;34m\u001b[0m\u001b[0;34m\u001b[0m\u001b[0m\n\u001b[1;32m     88\u001b[0m         \u001b[0mself\u001b[0m\u001b[0;34m.\u001b[0m\u001b[0m_handle_constant\u001b[0m\u001b[0;34m(\u001b[0m\u001b[0mhasconst\u001b[0m\u001b[0;34m)\u001b[0m\u001b[0;34m\u001b[0m\u001b[0;34m\u001b[0m\u001b[0m\n\u001b[0;32m---> 89\u001b[0;31m         \u001b[0mself\u001b[0m\u001b[0;34m.\u001b[0m\u001b[0m_check_integrity\u001b[0m\u001b[0;34m(\u001b[0m\u001b[0;34m)\u001b[0m\u001b[0;34m\u001b[0m\u001b[0;34m\u001b[0m\u001b[0m\n\u001b[0m\u001b[1;32m     90\u001b[0m         \u001b[0mself\u001b[0m\u001b[0;34m.\u001b[0m\u001b[0m_cache\u001b[0m \u001b[0;34m=\u001b[0m \u001b[0;34m{\u001b[0m\u001b[0;34m}\u001b[0m\u001b[0;34m\u001b[0m\u001b[0;34m\u001b[0m\u001b[0m\n\u001b[1;32m     91\u001b[0m \u001b[0;34m\u001b[0m\u001b[0m\n",
            "\u001b[0;32m/usr/local/lib/python3.11/dist-packages/statsmodels/base/data.py\u001b[0m in \u001b[0;36m_check_integrity\u001b[0;34m(self)\u001b[0m\n\u001b[1;32m    531\u001b[0m                 \u001b[0;34m(\u001b[0m\u001b[0mhasattr\u001b[0m\u001b[0;34m(\u001b[0m\u001b[0mendog\u001b[0m\u001b[0;34m,\u001b[0m \u001b[0;34m'index'\u001b[0m\u001b[0;34m)\u001b[0m \u001b[0;32mand\u001b[0m \u001b[0mhasattr\u001b[0m\u001b[0;34m(\u001b[0m\u001b[0mexog\u001b[0m\u001b[0;34m,\u001b[0m \u001b[0;34m'index'\u001b[0m\u001b[0;34m)\u001b[0m\u001b[0;34m)\u001b[0m \u001b[0;32mand\u001b[0m\u001b[0;34m\u001b[0m\u001b[0;34m\u001b[0m\u001b[0m\n\u001b[1;32m    532\u001b[0m                 not self.orig_endog.index.equals(self.orig_exog.index)):\n\u001b[0;32m--> 533\u001b[0;31m             \u001b[0;32mraise\u001b[0m \u001b[0mValueError\u001b[0m\u001b[0;34m(\u001b[0m\u001b[0;34m\"The indices for endog and exog are not aligned\"\u001b[0m\u001b[0;34m)\u001b[0m\u001b[0;34m\u001b[0m\u001b[0;34m\u001b[0m\u001b[0m\n\u001b[0m\u001b[1;32m    534\u001b[0m         \u001b[0msuper\u001b[0m\u001b[0;34m(\u001b[0m\u001b[0;34m)\u001b[0m\u001b[0;34m.\u001b[0m\u001b[0m_check_integrity\u001b[0m\u001b[0;34m(\u001b[0m\u001b[0;34m)\u001b[0m\u001b[0;34m\u001b[0m\u001b[0;34m\u001b[0m\u001b[0m\n\u001b[1;32m    535\u001b[0m \u001b[0;34m\u001b[0m\u001b[0m\n",
            "\u001b[0;31mValueError\u001b[0m: The indices for endog and exog are not aligned"
          ]
        }
      ],
      "source": [
        "y = Boston['medv']\n",
        "model = sm.OLS(y, X)\n",
        "results = model.fit()\n"
      ]
    },
    {
      "cell_type": "markdown",
      "id": "2a1d62f2",
      "metadata": {
        "id": "2a1d62f2"
      },
      "source": [
        "Note that `sm.OLS()` does\n",
        "not fit the model; it specifies the model, and then `model.fit()` does the actual fitting.  \n",
        "\n",
        "Our `ISLP` function `summarize()` produces a simple table of the parameter estimates,\n",
        "their standard errors, t-statistics and p-values.\n",
        "The function takes a single argument, such as the object `results`\n",
        "returned here by the `fit`\n",
        "method, and returns such a summary."
      ]
    },
    {
      "cell_type": "code",
      "execution_count": null,
      "id": "3d340a07",
      "metadata": {
        "execution": {
          "iopub.execute_input": "2024-06-04T23:19:08.004988Z",
          "iopub.status.busy": "2024-06-04T23:19:08.004916Z",
          "iopub.status.idle": "2024-06-04T23:19:08.018774Z",
          "shell.execute_reply": "2024-06-04T23:19:08.018578Z"
        },
        "lines_to_next_cell": 2,
        "colab": {
          "base_uri": "https://localhost:8080/",
          "height": 147
        },
        "id": "3d340a07",
        "outputId": "ab979629-6ee8-42a7-a9d0-122d3a3bd946"
      },
      "outputs": [
        {
          "output_type": "execute_result",
          "data": {
            "text/plain": [
              "intercept    34.553841\n",
              "lstat        -0.950049\n",
              "dtype: float64"
            ],
            "text/html": [
              "<div>\n",
              "<style scoped>\n",
              "    .dataframe tbody tr th:only-of-type {\n",
              "        vertical-align: middle;\n",
              "    }\n",
              "\n",
              "    .dataframe tbody tr th {\n",
              "        vertical-align: top;\n",
              "    }\n",
              "\n",
              "    .dataframe thead th {\n",
              "        text-align: right;\n",
              "    }\n",
              "</style>\n",
              "<table border=\"1\" class=\"dataframe\">\n",
              "  <thead>\n",
              "    <tr style=\"text-align: right;\">\n",
              "      <th></th>\n",
              "      <th>0</th>\n",
              "    </tr>\n",
              "  </thead>\n",
              "  <tbody>\n",
              "    <tr>\n",
              "      <th>intercept</th>\n",
              "      <td>34.553841</td>\n",
              "    </tr>\n",
              "    <tr>\n",
              "      <th>lstat</th>\n",
              "      <td>-0.950049</td>\n",
              "    </tr>\n",
              "  </tbody>\n",
              "</table>\n",
              "</div><br><label><b>dtype:</b> float64</label>"
            ]
          },
          "metadata": {},
          "execution_count": 13
        }
      ],
      "source": [
        "summarize(results)\n",
        "results.params\n"
      ]
    },
    {
      "cell_type": "markdown",
      "id": "31d6b202",
      "metadata": {
        "id": "31d6b202"
      },
      "source": [
        "Before we describe other methods for working with fitted models, we outline a more useful and general framework for constructing a model matrix~`X`.\n",
        "### Using Transformations: Fit and Transform\n",
        "Our model above has a single predictor, and constructing `X` was straightforward.\n",
        "In practice  we often fit models with more than one predictor, typically selected from an array or data frame.\n",
        "We may wish to introduce transformations to the variables before fitting the model, specify interactions between variables, and expand some particular variables into sets of variables (e.g. polynomials).\n",
        "The `sklearn`  package has a particular notion\n",
        "for this type of task: a *transform*. A transform is an object\n",
        "that is created with some parameters as arguments. The\n",
        "object has two main methods: `fit()` and `transform()`.\n",
        "\n",
        "We provide a general approach for specifying models and constructing\n",
        "the model matrix through the transform `ModelSpec()` in the `ISLP` library.\n",
        "`ModelSpec()`\n",
        "(renamed `MS()` in the preamble) creates a\n",
        "transform object, and then a pair of methods\n",
        "`transform()` and `fit()` are used to construct a\n",
        "corresponding model matrix.\n",
        "\n",
        "We first describe this process for our simple regression model  using a single predictor `lstat` in\n",
        "the `Boston` data frame, but will use it repeatedly in more\n",
        "complex tasks in this and other labs in this book.\n",
        "In our case the transform is created by the expression\n",
        "`design = MS(['lstat'])`.\n",
        "\n",
        "The `fit()`  method takes the original array and may do some\n",
        "initial computations on it, as specified in the transform object.\n",
        "For example, it may compute means and standard deviations for centering and scaling.\n",
        "The `transform()`\n",
        "method applies the fitted transformation to the array of data, and produces the model matrix.\n"
      ]
    },
    {
      "cell_type": "code",
      "execution_count": null,
      "id": "11b07af0",
      "metadata": {
        "execution": {
          "iopub.execute_input": "2024-06-04T23:19:08.019954Z",
          "iopub.status.busy": "2024-06-04T23:19:08.019865Z",
          "iopub.status.idle": "2024-06-04T23:19:08.024711Z",
          "shell.execute_reply": "2024-06-04T23:19:08.024511Z"
        },
        "lines_to_next_cell": 0,
        "id": "11b07af0",
        "outputId": "86d6b740-30b1-42b0-c7e5-97370b36d2ea"
      },
      "outputs": [
        {
          "data": {
            "text/html": [
              "<div>\n",
              "<style scoped>\n",
              "    .dataframe tbody tr th:only-of-type {\n",
              "        vertical-align: middle;\n",
              "    }\n",
              "\n",
              "    .dataframe tbody tr th {\n",
              "        vertical-align: top;\n",
              "    }\n",
              "\n",
              "    .dataframe thead th {\n",
              "        text-align: right;\n",
              "    }\n",
              "</style>\n",
              "<table border=\"1\" class=\"dataframe\">\n",
              "  <thead>\n",
              "    <tr style=\"text-align: right;\">\n",
              "      <th></th>\n",
              "      <th>intercept</th>\n",
              "      <th>lstat</th>\n",
              "    </tr>\n",
              "  </thead>\n",
              "  <tbody>\n",
              "    <tr>\n",
              "      <th>0</th>\n",
              "      <td>1.0</td>\n",
              "      <td>4.98</td>\n",
              "    </tr>\n",
              "    <tr>\n",
              "      <th>1</th>\n",
              "      <td>1.0</td>\n",
              "      <td>9.14</td>\n",
              "    </tr>\n",
              "    <tr>\n",
              "      <th>2</th>\n",
              "      <td>1.0</td>\n",
              "      <td>4.03</td>\n",
              "    </tr>\n",
              "    <tr>\n",
              "      <th>3</th>\n",
              "      <td>1.0</td>\n",
              "      <td>2.94</td>\n",
              "    </tr>\n",
              "  </tbody>\n",
              "</table>\n",
              "</div>"
            ],
            "text/plain": [
              "   intercept  lstat\n",
              "0        1.0   4.98\n",
              "1        1.0   9.14\n",
              "2        1.0   4.03\n",
              "3        1.0   2.94"
            ]
          },
          "execution_count": 12,
          "metadata": {},
          "output_type": "execute_result"
        }
      ],
      "source": [
        "design = MS(['lstat'])\n",
        "design = design.fit(Boston)\n",
        "X = design.transform(Boston)\n",
        "X[:4]"
      ]
    },
    {
      "cell_type": "markdown",
      "id": "f35e5292",
      "metadata": {
        "id": "f35e5292"
      },
      "source": [
        "In this simple case, the `fit()`  method does very little; it simply checks that the variable `'lstat'` specified in `design` exists in `Boston`. Then `transform()` constructs the model matrix with two columns: an `intercept` and the variable `lstat`.\n",
        "\n",
        "These two operations can be  combined with the\n",
        "`fit_transform()`  method."
      ]
    },
    {
      "cell_type": "code",
      "execution_count": null,
      "id": "d5c7b370",
      "metadata": {
        "execution": {
          "iopub.execute_input": "2024-06-04T23:19:08.025839Z",
          "iopub.status.busy": "2024-06-04T23:19:08.025769Z",
          "iopub.status.idle": "2024-06-04T23:19:08.030216Z",
          "shell.execute_reply": "2024-06-04T23:19:08.030007Z"
        },
        "lines_to_next_cell": 0,
        "id": "d5c7b370",
        "outputId": "7a2c3913-9bde-4ab2-94ac-a196b45ff730"
      },
      "outputs": [
        {
          "data": {
            "text/html": [
              "<div>\n",
              "<style scoped>\n",
              "    .dataframe tbody tr th:only-of-type {\n",
              "        vertical-align: middle;\n",
              "    }\n",
              "\n",
              "    .dataframe tbody tr th {\n",
              "        vertical-align: top;\n",
              "    }\n",
              "\n",
              "    .dataframe thead th {\n",
              "        text-align: right;\n",
              "    }\n",
              "</style>\n",
              "<table border=\"1\" class=\"dataframe\">\n",
              "  <thead>\n",
              "    <tr style=\"text-align: right;\">\n",
              "      <th></th>\n",
              "      <th>intercept</th>\n",
              "      <th>lstat</th>\n",
              "    </tr>\n",
              "  </thead>\n",
              "  <tbody>\n",
              "    <tr>\n",
              "      <th>0</th>\n",
              "      <td>1.0</td>\n",
              "      <td>4.98</td>\n",
              "    </tr>\n",
              "    <tr>\n",
              "      <th>1</th>\n",
              "      <td>1.0</td>\n",
              "      <td>9.14</td>\n",
              "    </tr>\n",
              "    <tr>\n",
              "      <th>2</th>\n",
              "      <td>1.0</td>\n",
              "      <td>4.03</td>\n",
              "    </tr>\n",
              "    <tr>\n",
              "      <th>3</th>\n",
              "      <td>1.0</td>\n",
              "      <td>2.94</td>\n",
              "    </tr>\n",
              "  </tbody>\n",
              "</table>\n",
              "</div>"
            ],
            "text/plain": [
              "   intercept  lstat\n",
              "0        1.0   4.98\n",
              "1        1.0   9.14\n",
              "2        1.0   4.03\n",
              "3        1.0   2.94"
            ]
          },
          "execution_count": 13,
          "metadata": {},
          "output_type": "execute_result"
        }
      ],
      "source": [
        "design = MS(['lstat'])\n",
        "X = design.fit_transform(Boston)\n",
        "X[:4]"
      ]
    },
    {
      "cell_type": "markdown",
      "id": "8f09689d",
      "metadata": {
        "id": "8f09689d"
      },
      "source": [
        "Note that, as in the previous code chunk when the two steps were done separately, the `design` object is changed as a result of the `fit()` operation. The power of this pipeline will become clearer when we fit more complex models that involve interactions and transformations."
      ]
    },
    {
      "cell_type": "markdown",
      "id": "94a7c0aa",
      "metadata": {
        "id": "94a7c0aa"
      },
      "source": [
        "Let's return to our fitted regression model.\n",
        "The object\n",
        "`results` has several methods that can be used for inference.\n",
        "We already presented a function `summarize()` for showing the essentials of the fit.\n",
        "For a full and somewhat exhaustive summary of the fit, we can use the `summary()`\n",
        "method."
      ]
    },
    {
      "cell_type": "code",
      "execution_count": null,
      "id": "5b205c0b",
      "metadata": {
        "execution": {
          "iopub.execute_input": "2024-06-04T23:19:08.031520Z",
          "iopub.status.busy": "2024-06-04T23:19:08.031448Z",
          "iopub.status.idle": "2024-06-04T23:19:08.039162Z",
          "shell.execute_reply": "2024-06-04T23:19:08.038952Z"
        },
        "id": "5b205c0b",
        "outputId": "5b57d1b3-b1f5-44ff-d35c-f97e0d095b3a"
      },
      "outputs": [
        {
          "data": {
            "text/html": [
              "<table class=\"simpletable\">\n",
              "<caption>OLS Regression Results</caption>\n",
              "<tr>\n",
              "  <th>Dep. Variable:</th>          <td>medv</td>       <th>  R-squared:         </th> <td>   0.544</td>\n",
              "</tr>\n",
              "<tr>\n",
              "  <th>Model:</th>                   <td>OLS</td>       <th>  Adj. R-squared:    </th> <td>   0.543</td>\n",
              "</tr>\n",
              "<tr>\n",
              "  <th>Method:</th>             <td>Least Squares</td>  <th>  F-statistic:       </th> <td>   601.6</td>\n",
              "</tr>\n",
              "<tr>\n",
              "  <th>Date:</th>             <td>Tue, 04 Jun 2024</td> <th>  Prob (F-statistic):</th> <td>5.08e-88</td>\n",
              "</tr>\n",
              "<tr>\n",
              "  <th>Time:</th>                 <td>16:19:08</td>     <th>  Log-Likelihood:    </th> <td> -1641.5</td>\n",
              "</tr>\n",
              "<tr>\n",
              "  <th>No. Observations:</th>      <td>   506</td>      <th>  AIC:               </th> <td>   3287.</td>\n",
              "</tr>\n",
              "<tr>\n",
              "  <th>Df Residuals:</th>          <td>   504</td>      <th>  BIC:               </th> <td>   3295.</td>\n",
              "</tr>\n",
              "<tr>\n",
              "  <th>Df Model:</th>              <td>     1</td>      <th>                     </th>     <td> </td>   \n",
              "</tr>\n",
              "<tr>\n",
              "  <th>Covariance Type:</th>      <td>nonrobust</td>    <th>                     </th>     <td> </td>   \n",
              "</tr>\n",
              "</table>\n",
              "<table class=\"simpletable\">\n",
              "<tr>\n",
              "      <td></td>         <th>coef</th>     <th>std err</th>      <th>t</th>      <th>P>|t|</th>  <th>[0.025</th>    <th>0.975]</th>  \n",
              "</tr>\n",
              "<tr>\n",
              "  <th>intercept</th> <td>   34.5538</td> <td>    0.563</td> <td>   61.415</td> <td> 0.000</td> <td>   33.448</td> <td>   35.659</td>\n",
              "</tr>\n",
              "<tr>\n",
              "  <th>lstat</th>     <td>   -0.9500</td> <td>    0.039</td> <td>  -24.528</td> <td> 0.000</td> <td>   -1.026</td> <td>   -0.874</td>\n",
              "</tr>\n",
              "</table>\n",
              "<table class=\"simpletable\">\n",
              "<tr>\n",
              "  <th>Omnibus:</th>       <td>137.043</td> <th>  Durbin-Watson:     </th> <td>   0.892</td>\n",
              "</tr>\n",
              "<tr>\n",
              "  <th>Prob(Omnibus):</th> <td> 0.000</td>  <th>  Jarque-Bera (JB):  </th> <td> 291.373</td>\n",
              "</tr>\n",
              "<tr>\n",
              "  <th>Skew:</th>          <td> 1.453</td>  <th>  Prob(JB):          </th> <td>5.36e-64</td>\n",
              "</tr>\n",
              "<tr>\n",
              "  <th>Kurtosis:</th>      <td> 5.319</td>  <th>  Cond. No.          </th> <td>    29.7</td>\n",
              "</tr>\n",
              "</table><br/><br/>Notes:<br/>[1] Standard Errors assume that the covariance matrix of the errors is correctly specified."
            ],
            "text/latex": [
              "\\begin{center}\n",
              "\\begin{tabular}{lclc}\n",
              "\\toprule\n",
              "\\textbf{Dep. Variable:}    &       medv       & \\textbf{  R-squared:         } &     0.544   \\\\\n",
              "\\textbf{Model:}            &       OLS        & \\textbf{  Adj. R-squared:    } &     0.543   \\\\\n",
              "\\textbf{Method:}           &  Least Squares   & \\textbf{  F-statistic:       } &     601.6   \\\\\n",
              "\\textbf{Date:}             & Tue, 04 Jun 2024 & \\textbf{  Prob (F-statistic):} &  5.08e-88   \\\\\n",
              "\\textbf{Time:}             &     16:19:08     & \\textbf{  Log-Likelihood:    } &   -1641.5   \\\\\n",
              "\\textbf{No. Observations:} &         506      & \\textbf{  AIC:               } &     3287.   \\\\\n",
              "\\textbf{Df Residuals:}     &         504      & \\textbf{  BIC:               } &     3295.   \\\\\n",
              "\\textbf{Df Model:}         &           1      & \\textbf{                     } &             \\\\\n",
              "\\textbf{Covariance Type:}  &    nonrobust     & \\textbf{                     } &             \\\\\n",
              "\\bottomrule\n",
              "\\end{tabular}\n",
              "\\begin{tabular}{lcccccc}\n",
              "                   & \\textbf{coef} & \\textbf{std err} & \\textbf{t} & \\textbf{P$> |$t$|$} & \\textbf{[0.025} & \\textbf{0.975]}  \\\\\n",
              "\\midrule\n",
              "\\textbf{intercept} &      34.5538  &        0.563     &    61.415  &         0.000        &       33.448    &       35.659     \\\\\n",
              "\\textbf{lstat}     &      -0.9500  &        0.039     &   -24.528  &         0.000        &       -1.026    &       -0.874     \\\\\n",
              "\\bottomrule\n",
              "\\end{tabular}\n",
              "\\begin{tabular}{lclc}\n",
              "\\textbf{Omnibus:}       & 137.043 & \\textbf{  Durbin-Watson:     } &    0.892  \\\\\n",
              "\\textbf{Prob(Omnibus):} &   0.000 & \\textbf{  Jarque-Bera (JB):  } &  291.373  \\\\\n",
              "\\textbf{Skew:}          &   1.453 & \\textbf{  Prob(JB):          } & 5.36e-64  \\\\\n",
              "\\textbf{Kurtosis:}      &   5.319 & \\textbf{  Cond. No.          } &     29.7  \\\\\n",
              "\\bottomrule\n",
              "\\end{tabular}\n",
              "%\\caption{OLS Regression Results}\n",
              "\\end{center}\n",
              "\n",
              "Notes: \\newline\n",
              " [1] Standard Errors assume that the covariance matrix of the errors is correctly specified."
            ],
            "text/plain": [
              "<class 'statsmodels.iolib.summary.Summary'>\n",
              "\"\"\"\n",
              "                            OLS Regression Results                            \n",
              "==============================================================================\n",
              "Dep. Variable:                   medv   R-squared:                       0.544\n",
              "Model:                            OLS   Adj. R-squared:                  0.543\n",
              "Method:                 Least Squares   F-statistic:                     601.6\n",
              "Date:                Tue, 04 Jun 2024   Prob (F-statistic):           5.08e-88\n",
              "Time:                        16:19:08   Log-Likelihood:                -1641.5\n",
              "No. Observations:                 506   AIC:                             3287.\n",
              "Df Residuals:                     504   BIC:                             3295.\n",
              "Df Model:                           1                                         \n",
              "Covariance Type:            nonrobust                                         \n",
              "==============================================================================\n",
              "                 coef    std err          t      P>|t|      [0.025      0.975]\n",
              "------------------------------------------------------------------------------\n",
              "intercept     34.5538      0.563     61.415      0.000      33.448      35.659\n",
              "lstat         -0.9500      0.039    -24.528      0.000      -1.026      -0.874\n",
              "==============================================================================\n",
              "Omnibus:                      137.043   Durbin-Watson:                   0.892\n",
              "Prob(Omnibus):                  0.000   Jarque-Bera (JB):              291.373\n",
              "Skew:                           1.453   Prob(JB):                     5.36e-64\n",
              "Kurtosis:                       5.319   Cond. No.                         29.7\n",
              "==============================================================================\n",
              "\n",
              "Notes:\n",
              "[1] Standard Errors assume that the covariance matrix of the errors is correctly specified.\n",
              "\"\"\""
            ]
          },
          "execution_count": 14,
          "metadata": {},
          "output_type": "execute_result"
        }
      ],
      "source": [
        "results.summary()\n"
      ]
    },
    {
      "cell_type": "markdown",
      "id": "6c30baa4",
      "metadata": {
        "id": "6c30baa4"
      },
      "source": [
        "The fitted coefficients can also be retrieved as the\n",
        "`params` attribute of `results`."
      ]
    },
    {
      "cell_type": "code",
      "execution_count": null,
      "id": "4b024467",
      "metadata": {
        "execution": {
          "iopub.execute_input": "2024-06-04T23:19:08.040404Z",
          "iopub.status.busy": "2024-06-04T23:19:08.040333Z",
          "iopub.status.idle": "2024-06-04T23:19:08.042402Z",
          "shell.execute_reply": "2024-06-04T23:19:08.042202Z"
        },
        "lines_to_next_cell": 2,
        "id": "4b024467",
        "outputId": "846cf779-4e5b-422c-eac8-daae31acf837"
      },
      "outputs": [
        {
          "data": {
            "text/plain": [
              "intercept    34.553841\n",
              "lstat        -0.950049\n",
              "dtype: float64"
            ]
          },
          "execution_count": 15,
          "metadata": {},
          "output_type": "execute_result"
        }
      ],
      "source": [
        "results.params\n"
      ]
    },
    {
      "cell_type": "markdown",
      "id": "fb7bbd4c",
      "metadata": {
        "id": "fb7bbd4c"
      },
      "source": [
        "The `get_prediction()`  method can be used to obtain predictions, and produce confidence intervals and\n",
        "prediction intervals for the prediction of  `medv`  for  given values of  `lstat`.\n",
        "\n",
        "We first create a new data frame, in this case containing only the variable `lstat`, with the values for this variable at which we wish to make predictions.\n",
        "We then use the `transform()` method of `design` to create the corresponding model matrix."
      ]
    },
    {
      "cell_type": "code",
      "execution_count": null,
      "id": "195e0ace",
      "metadata": {
        "execution": {
          "iopub.execute_input": "2024-06-04T23:19:08.043693Z",
          "iopub.status.busy": "2024-06-04T23:19:08.043622Z",
          "iopub.status.idle": "2024-06-04T23:19:08.046777Z",
          "shell.execute_reply": "2024-06-04T23:19:08.046559Z"
        },
        "id": "195e0ace",
        "outputId": "5aee9e8e-b5e0-440d-f352-98d9b6085bd5"
      },
      "outputs": [
        {
          "data": {
            "text/html": [
              "<div>\n",
              "<style scoped>\n",
              "    .dataframe tbody tr th:only-of-type {\n",
              "        vertical-align: middle;\n",
              "    }\n",
              "\n",
              "    .dataframe tbody tr th {\n",
              "        vertical-align: top;\n",
              "    }\n",
              "\n",
              "    .dataframe thead th {\n",
              "        text-align: right;\n",
              "    }\n",
              "</style>\n",
              "<table border=\"1\" class=\"dataframe\">\n",
              "  <thead>\n",
              "    <tr style=\"text-align: right;\">\n",
              "      <th></th>\n",
              "      <th>intercept</th>\n",
              "      <th>lstat</th>\n",
              "    </tr>\n",
              "  </thead>\n",
              "  <tbody>\n",
              "    <tr>\n",
              "      <th>0</th>\n",
              "      <td>1.0</td>\n",
              "      <td>5</td>\n",
              "    </tr>\n",
              "    <tr>\n",
              "      <th>1</th>\n",
              "      <td>1.0</td>\n",
              "      <td>10</td>\n",
              "    </tr>\n",
              "    <tr>\n",
              "      <th>2</th>\n",
              "      <td>1.0</td>\n",
              "      <td>15</td>\n",
              "    </tr>\n",
              "  </tbody>\n",
              "</table>\n",
              "</div>"
            ],
            "text/plain": [
              "   intercept  lstat\n",
              "0        1.0      5\n",
              "1        1.0     10\n",
              "2        1.0     15"
            ]
          },
          "execution_count": 16,
          "metadata": {},
          "output_type": "execute_result"
        }
      ],
      "source": [
        "new_df = pd.DataFrame({'lstat':[5, 10, 15]})\n",
        "newX = design.transform(new_df)\n",
        "newX\n"
      ]
    },
    {
      "cell_type": "markdown",
      "id": "43565f15",
      "metadata": {
        "id": "43565f15"
      },
      "source": [
        "Next we compute the predictions at `newX`, and view them by extracting the `predicted_mean` attribute."
      ]
    },
    {
      "cell_type": "code",
      "execution_count": null,
      "id": "768374f6",
      "metadata": {
        "execution": {
          "iopub.execute_input": "2024-06-04T23:19:08.047996Z",
          "iopub.status.busy": "2024-06-04T23:19:08.047918Z",
          "iopub.status.idle": "2024-06-04T23:19:08.049956Z",
          "shell.execute_reply": "2024-06-04T23:19:08.049747Z"
        },
        "lines_to_next_cell": 0,
        "id": "768374f6",
        "outputId": "6c894d24-de98-4b41-f429-4b2e71732409"
      },
      "outputs": [
        {
          "data": {
            "text/plain": [
              "array([29.80359411, 25.05334734, 20.30310057])"
            ]
          },
          "execution_count": 17,
          "metadata": {},
          "output_type": "execute_result"
        }
      ],
      "source": [
        "new_predictions = results.get_prediction(newX);\n",
        "new_predictions.predicted_mean\n"
      ]
    },
    {
      "cell_type": "markdown",
      "id": "313c1720",
      "metadata": {
        "id": "313c1720"
      },
      "source": [
        "We can produce confidence intervals for the predicted values."
      ]
    },
    {
      "cell_type": "code",
      "execution_count": null,
      "id": "1a86b943",
      "metadata": {
        "execution": {
          "iopub.execute_input": "2024-06-04T23:19:08.051110Z",
          "iopub.status.busy": "2024-06-04T23:19:08.051038Z",
          "iopub.status.idle": "2024-06-04T23:19:08.052989Z",
          "shell.execute_reply": "2024-06-04T23:19:08.052779Z"
        },
        "lines_to_next_cell": 0,
        "id": "1a86b943",
        "outputId": "94ef76a0-809c-4f71-e6b7-8286ee3cad3c"
      },
      "outputs": [
        {
          "data": {
            "text/plain": [
              "array([[29.00741194, 30.59977628],\n",
              "       [24.47413202, 25.63256267],\n",
              "       [19.73158815, 20.87461299]])"
            ]
          },
          "execution_count": 18,
          "metadata": {},
          "output_type": "execute_result"
        }
      ],
      "source": [
        "new_predictions.conf_int(alpha=0.05)\n"
      ]
    },
    {
      "cell_type": "markdown",
      "id": "3595344e",
      "metadata": {
        "id": "3595344e"
      },
      "source": [
        "Prediction intervals are computing by setting `obs=True`:"
      ]
    },
    {
      "cell_type": "code",
      "execution_count": null,
      "id": "ea9727ca",
      "metadata": {
        "execution": {
          "iopub.execute_input": "2024-06-04T23:19:08.054282Z",
          "iopub.status.busy": "2024-06-04T23:19:08.054215Z",
          "iopub.status.idle": "2024-06-04T23:19:08.056172Z",
          "shell.execute_reply": "2024-06-04T23:19:08.055964Z"
        },
        "lines_to_next_cell": 0,
        "id": "ea9727ca",
        "outputId": "a3d7a250-0844-4103-e60b-702d90344144"
      },
      "outputs": [
        {
          "data": {
            "text/plain": [
              "array([[17.56567478, 42.04151344],\n",
              "       [12.82762635, 37.27906833],\n",
              "       [ 8.0777421 , 32.52845905]])"
            ]
          },
          "execution_count": 19,
          "metadata": {},
          "output_type": "execute_result"
        }
      ],
      "source": [
        "new_predictions.conf_int(obs=True, alpha=0.05)\n"
      ]
    },
    {
      "cell_type": "markdown",
      "id": "b157334d",
      "metadata": {
        "id": "b157334d"
      },
      "source": [
        " For instance, the 95% confidence interval associated with an\n",
        " `lstat`  value of 10 is (24.47, 25.63), and the 95% prediction\n",
        "interval is (12.82, 37.28).  As expected, the confidence and\n",
        "prediction intervals are centered around the same point (a predicted\n",
        "value of 25.05 for  `medv`  when  `lstat`  equals\n",
        "10), but the latter are substantially wider.\n",
        "\n",
        "Next we will plot  `medv`  and  `lstat`\n",
        "using `DataFrame.plot.scatter()`, \\definelongblankMR{plot.scatter()}{plot.slashslashscatter()}\n",
        "and wish to\n",
        "add the regression line to the resulting plot."
      ]
    },
    {
      "cell_type": "markdown",
      "id": "05f5b29a",
      "metadata": {
        "id": "05f5b29a"
      },
      "source": [
        "### Defining Functions\n",
        "While there is a function\n",
        "within the `ISLP` package that adds a line to an existing plot, we take this opportunity\n",
        "to define our first function to do so."
      ]
    },
    {
      "cell_type": "code",
      "execution_count": null,
      "id": "796c20f6",
      "metadata": {
        "execution": {
          "iopub.execute_input": "2024-06-04T23:19:08.057406Z",
          "iopub.status.busy": "2024-06-04T23:19:08.057339Z",
          "iopub.status.idle": "2024-06-04T23:19:08.059024Z",
          "shell.execute_reply": "2024-06-04T23:19:08.058807Z"
        },
        "lines_to_next_cell": 0,
        "id": "796c20f6"
      },
      "outputs": [],
      "source": [
        "def abline(ax, b, m):\n",
        "    \"Add a line with slope m and intercept b to ax\"\n",
        "    xlim = ax.get_xlim()\n",
        "    ylim = [m * xlim[0] + b, m * xlim[1] + b]\n",
        "    ax.plot(xlim, ylim)\n"
      ]
    },
    {
      "cell_type": "markdown",
      "id": "5eb99e73",
      "metadata": {
        "id": "5eb99e73"
      },
      "source": [
        " A few things are illustrated above. First we see the syntax for defining a function:\n",
        "`def funcname(...)`. The function has arguments `ax, b, m`\n",
        "where `ax` is an axis object for an exisiting plot, `b` is the intercept and\n",
        "`m` is the slope of the desired line. Other plotting  options can be passed on to\n",
        "`ax.plot` by including additional optional arguments as follows:"
      ]
    },
    {
      "cell_type": "code",
      "execution_count": null,
      "id": "a258b8c0",
      "metadata": {
        "execution": {
          "iopub.execute_input": "2024-06-04T23:19:08.060183Z",
          "iopub.status.busy": "2024-06-04T23:19:08.060117Z",
          "iopub.status.idle": "2024-06-04T23:19:08.061624Z",
          "shell.execute_reply": "2024-06-04T23:19:08.061396Z"
        },
        "lines_to_next_cell": 0,
        "id": "a258b8c0"
      },
      "outputs": [],
      "source": [
        "def abline(ax, b, m, *args, **kwargs):\n",
        "    \"Add a line with slope m and intercept b to ax\"\n",
        "    xlim = ax.get_xlim()\n",
        "    ylim = [m * xlim[0] + b, m * xlim[1] + b]\n",
        "    ax.plot(xlim, ylim, *args, **kwargs)\n"
      ]
    },
    {
      "cell_type": "markdown",
      "id": "be8f4615",
      "metadata": {
        "id": "be8f4615"
      },
      "source": [
        "The addition of `*args` allows any number of\n",
        "non-named arguments to `abline`, while `*kwargs` allows any\n",
        "number of named arguments (such as `linewidth=3`) to `abline`.\n",
        "In our function, we pass\n",
        "these arguments verbatim to `ax.plot` above. Readers\n",
        "interested in learning more about\n",
        "functions are referred to the section on\n",
        "defining functions in [docs.python.org/tutorial](https://docs.python.org/3/tutorial/controlflow.html#defining-functions).\n",
        "\n",
        "Let’s use our new function to add this regression line to a plot of\n",
        "`medv` vs. `lstat`."
      ]
    },
    {
      "cell_type": "code",
      "execution_count": null,
      "id": "56b75491",
      "metadata": {
        "execution": {
          "iopub.execute_input": "2024-06-04T23:19:08.062821Z",
          "iopub.status.busy": "2024-06-04T23:19:08.062745Z",
          "iopub.status.idle": "2024-06-04T23:19:08.177528Z",
          "shell.execute_reply": "2024-06-04T23:19:08.175973Z"
        },
        "lines_to_next_cell": 0,
        "id": "56b75491",
        "outputId": "27d78f92-fd9d-4bee-b5c1-dffce6e71d91"
      },
      "outputs": [
        {
          "data": {
            "image/png": "[encoded data removed]",
            "text/plain": [
              "<Figure size 640x480 with 1 Axes>"
            ]
          },
          "metadata": {},
          "output_type": "display_data"
        }
      ],
      "source": [
        "ax = Boston.plot.scatter('lstat', 'medv')\n",
        "abline(ax,\n",
        "       results.params[0],\n",
        "       results.params[1],\n",
        "       'r--',\n",
        "       linewidth=3)\n"
      ]
    },
    {
      "cell_type": "markdown",
      "id": "04a1e56f",
      "metadata": {
        "id": "04a1e56f"
      },
      "source": [
        "Thus, the final call to `ax.plot()` is `ax.plot(xlim, ylim, 'r--', linewidth=3)`.\n",
        "We have used the argument `'r--'` to produce a red dashed line, and added\n",
        "an argument to make it of width 3.\n",
        "There is some evidence for non-linearity in the relationship between  `lstat`  and  `medv`. We will explore this issue later in this lab.\n",
        "\n",
        "As mentioned above, there is an existing function to add a line to a plot --- `ax.axline()` --- but knowing how to write such functions empowers us to create more expressive displays.\n",
        "\n"
      ]
    },
    {
      "cell_type": "markdown",
      "id": "1a083307",
      "metadata": {
        "id": "1a083307"
      },
      "source": [
        "Next we examine some diagnostic plots, several of which were discussed\n",
        "in Section~\\ref{Ch3:problems.sec}.\n",
        "We can find the fitted values and residuals\n",
        "of the fit as attributes of the `results` object.\n",
        "Various influence measures describing the regression model\n",
        "are computed with the `get_influence()` method.\n",
        "As we will not use the `fig` component returned\n",
        "as the first value from `subplots()`, we simply\n",
        "capture the second returned value in `ax` below."
      ]
    },
    {
      "cell_type": "code",
      "execution_count": null,
      "id": "74be2100",
      "metadata": {
        "execution": {
          "iopub.execute_input": "2024-06-04T23:19:08.180863Z",
          "iopub.status.busy": "2024-06-04T23:19:08.180691Z",
          "iopub.status.idle": "2024-06-04T23:19:08.331926Z",
          "shell.execute_reply": "2024-06-04T23:19:08.331152Z"
        },
        "lines_to_next_cell": 0,
        "id": "74be2100",
        "outputId": "ba6bfa4b-821b-4acb-fc15-14b9e477be58"
      },
      "outputs": [
        {
          "data": {
            "image/png": "[encoded data removed]",
            "text/plain": [
              "<Figure size 800x800 with 1 Axes>"
            ]
          },
          "metadata": {},
          "output_type": "display_data"
        }
      ],
      "source": [
        "ax = subplots(figsize=(8,8))[1]\n",
        "ax.scatter(results.fittedvalues, results.resid)\n",
        "ax.set_xlabel('Fitted value')\n",
        "ax.set_ylabel('Residual')\n",
        "ax.axhline(0, c='k', ls='--');\n"
      ]
    },
    {
      "cell_type": "markdown",
      "id": "c00db5a1",
      "metadata": {
        "id": "c00db5a1"
      },
      "source": [
        " We add a horizontal line at 0 for reference using the\n",
        " `ax.axhline()`   method, indicating\n",
        "it should be black (`c='k'`) and have a dashed linestyle (`ls='--'`).\n",
        "\n",
        "On the basis of the residual plot, there is some evidence of non-linearity.\n",
        "Leverage statistics can be computed for any number of predictors using the\n",
        "`hat_matrix_diag` attribute of the value returned by the\n",
        "`get_influence()`  method."
      ]
    },
    {
      "cell_type": "code",
      "execution_count": null,
      "id": "db8bc925",
      "metadata": {
        "execution": {
          "iopub.execute_input": "2024-06-04T23:19:08.334603Z",
          "iopub.status.busy": "2024-06-04T23:19:08.334424Z",
          "iopub.status.idle": "2024-06-04T23:19:08.403949Z",
          "shell.execute_reply": "2024-06-04T23:19:08.403703Z"
        },
        "lines_to_next_cell": 0,
        "id": "db8bc925",
        "outputId": "bc0282c9-9e0f-4e41-f71c-ecdfa7c19d01"
      },
      "outputs": [
        {
          "data": {
            "text/plain": [
              "374"
            ]
          },
          "execution_count": 24,
          "metadata": {},
          "output_type": "execute_result"
        },
        {
          "data": {
            "image/png": "[encoded data removed]",
            "text/plain": [
              "<Figure size 800x800 with 1 Axes>"
            ]
          },
          "metadata": {},
          "output_type": "display_data"
        }
      ],
      "source": [
        "infl = results.get_influence()\n",
        "ax = subplots(figsize=(8,8))[1]\n",
        "ax.scatter(np.arange(X.shape[0]), infl.hat_matrix_diag)\n",
        "ax.set_xlabel('Index')\n",
        "ax.set_ylabel('Leverage')\n",
        "np.argmax(infl.hat_matrix_diag)\n"
      ]
    },
    {
      "cell_type": "markdown",
      "id": "4e7aa0bb",
      "metadata": {
        "id": "4e7aa0bb"
      },
      "source": [
        " The `np.argmax()`  function identifies the index of the largest element of an array, optionally computed over an axis of the array.\n",
        "In this case, we maximized over the entire array\n",
        "to determine which observation has the largest leverage statistic."
      ]
    },
    {
      "cell_type": "markdown",
      "id": "e98db373",
      "metadata": {
        "id": "e98db373"
      },
      "source": [
        "## Multiple Linear Regression\n",
        "In order to fit a multiple linear regression model using least squares, we again use\n",
        "the `ModelSpec()`  transform to construct the required\n",
        "model matrix and response. The arguments\n",
        "to `ModelSpec()` can be quite general, but in this case\n",
        "a list of column names suffice. We consider a fit here with\n",
        "the two variables `lstat` and `age`."
      ]
    },
    {
      "cell_type": "code",
      "execution_count": null,
      "id": "e479373c",
      "metadata": {
        "execution": {
          "iopub.execute_input": "2024-06-04T23:19:08.405606Z",
          "iopub.status.busy": "2024-06-04T23:19:08.405477Z",
          "iopub.status.idle": "2024-06-04T23:19:08.415531Z",
          "shell.execute_reply": "2024-06-04T23:19:08.415300Z"
        },
        "lines_to_next_cell": 0,
        "id": "e479373c",
        "outputId": "f2732b71-4685-4430-cd2a-8e5c395c21db"
      },
      "outputs": [
        {
          "data": {
            "text/html": [
              "<div>\n",
              "<style scoped>\n",
              "    .dataframe tbody tr th:only-of-type {\n",
              "        vertical-align: middle;\n",
              "    }\n",
              "\n",
              "    .dataframe tbody tr th {\n",
              "        vertical-align: top;\n",
              "    }\n",
              "\n",
              "    .dataframe thead th {\n",
              "        text-align: right;\n",
              "    }\n",
              "</style>\n",
              "<table border=\"1\" class=\"dataframe\">\n",
              "  <thead>\n",
              "    <tr style=\"text-align: right;\">\n",
              "      <th></th>\n",
              "      <th>coef</th>\n",
              "      <th>std err</th>\n",
              "      <th>t</th>\n",
              "      <th>P&gt;|t|</th>\n",
              "    </tr>\n",
              "  </thead>\n",
              "  <tbody>\n",
              "    <tr>\n",
              "      <th>intercept</th>\n",
              "      <td>33.2228</td>\n",
              "      <td>0.731</td>\n",
              "      <td>45.458</td>\n",
              "      <td>0.000</td>\n",
              "    </tr>\n",
              "    <tr>\n",
              "      <th>lstat</th>\n",
              "      <td>-1.0321</td>\n",
              "      <td>0.048</td>\n",
              "      <td>-21.416</td>\n",
              "      <td>0.000</td>\n",
              "    </tr>\n",
              "    <tr>\n",
              "      <th>age</th>\n",
              "      <td>0.0345</td>\n",
              "      <td>0.012</td>\n",
              "      <td>2.826</td>\n",
              "      <td>0.005</td>\n",
              "    </tr>\n",
              "  </tbody>\n",
              "</table>\n",
              "</div>"
            ],
            "text/plain": [
              "              coef  std err       t  P>|t|\n",
              "intercept  33.2228    0.731  45.458  0.000\n",
              "lstat      -1.0321    0.048 -21.416  0.000\n",
              "age         0.0345    0.012   2.826  0.005"
            ]
          },
          "execution_count": 25,
          "metadata": {},
          "output_type": "execute_result"
        }
      ],
      "source": [
        "X = MS(['lstat', 'age']).fit_transform(Boston)\n",
        "model1 = sm.OLS(y, X)\n",
        "results1 = model1.fit()\n",
        "summarize(results1)"
      ]
    },
    {
      "cell_type": "markdown",
      "id": "5c79b00d",
      "metadata": {
        "id": "5c79b00d"
      },
      "source": [
        "Notice how we have compacted the first line into a succinct expression describing the construction of `X`.\n",
        "\n",
        "The  `Boston`   data set contains 12 variables, and so it would be cumbersome\n",
        "to have to type all of these in order to perform a regression using all of the predictors.\n",
        "Instead, we can use the following short-hand:\\definelongblankMR{columns.drop()}{columns.slashslashdrop()}"
      ]
    },
    {
      "cell_type": "code",
      "execution_count": null,
      "id": "b903170c",
      "metadata": {
        "execution": {
          "iopub.execute_input": "2024-06-04T23:19:08.416871Z",
          "iopub.status.busy": "2024-06-04T23:19:08.416798Z",
          "iopub.status.idle": "2024-06-04T23:19:08.418929Z",
          "shell.execute_reply": "2024-06-04T23:19:08.418717Z"
        },
        "id": "b903170c",
        "outputId": "144e6f1b-6e88-478d-b59e-2be0baa111ac"
      },
      "outputs": [
        {
          "data": {
            "text/plain": [
              "Index(['crim', 'zn', 'indus', 'chas', 'nox', 'rm', 'age', 'dis', 'rad', 'tax',\n",
              "       'ptratio', 'lstat'],\n",
              "      dtype='object')"
            ]
          },
          "execution_count": 26,
          "metadata": {},
          "output_type": "execute_result"
        }
      ],
      "source": [
        "terms = Boston.columns.drop('medv')\n",
        "terms\n"
      ]
    },
    {
      "cell_type": "markdown",
      "id": "179b7846",
      "metadata": {
        "id": "179b7846"
      },
      "source": [
        "We can now fit the model with all the variables in `terms` using\n",
        "the same model matrix builder."
      ]
    },
    {
      "cell_type": "code",
      "execution_count": null,
      "id": "bbe47670",
      "metadata": {
        "execution": {
          "iopub.execute_input": "2024-06-04T23:19:08.420168Z",
          "iopub.status.busy": "2024-06-04T23:19:08.420092Z",
          "iopub.status.idle": "2024-06-04T23:19:08.434050Z",
          "shell.execute_reply": "2024-06-04T23:19:08.433809Z"
        },
        "id": "bbe47670",
        "outputId": "11f2959a-6252-409c-db27-217dc4c6df59"
      },
      "outputs": [
        {
          "data": {
            "text/html": [
              "<div>\n",
              "<style scoped>\n",
              "    .dataframe tbody tr th:only-of-type {\n",
              "        vertical-align: middle;\n",
              "    }\n",
              "\n",
              "    .dataframe tbody tr th {\n",
              "        vertical-align: top;\n",
              "    }\n",
              "\n",
              "    .dataframe thead th {\n",
              "        text-align: right;\n",
              "    }\n",
              "</style>\n",
              "<table border=\"1\" class=\"dataframe\">\n",
              "  <thead>\n",
              "    <tr style=\"text-align: right;\">\n",
              "      <th></th>\n",
              "      <th>coef</th>\n",
              "      <th>std err</th>\n",
              "      <th>t</th>\n",
              "      <th>P&gt;|t|</th>\n",
              "    </tr>\n",
              "  </thead>\n",
              "  <tbody>\n",
              "    <tr>\n",
              "      <th>intercept</th>\n",
              "      <td>41.6173</td>\n",
              "      <td>4.936</td>\n",
              "      <td>8.431</td>\n",
              "      <td>0.000</td>\n",
              "    </tr>\n",
              "    <tr>\n",
              "      <th>crim</th>\n",
              "      <td>-0.1214</td>\n",
              "      <td>0.033</td>\n",
              "      <td>-3.678</td>\n",
              "      <td>0.000</td>\n",
              "    </tr>\n",
              "    <tr>\n",
              "      <th>zn</th>\n",
              "      <td>0.0470</td>\n",
              "      <td>0.014</td>\n",
              "      <td>3.384</td>\n",
              "      <td>0.001</td>\n",
              "    </tr>\n",
              "    <tr>\n",
              "      <th>indus</th>\n",
              "      <td>0.0135</td>\n",
              "      <td>0.062</td>\n",
              "      <td>0.217</td>\n",
              "      <td>0.829</td>\n",
              "    </tr>\n",
              "    <tr>\n",
              "      <th>chas</th>\n",
              "      <td>2.8400</td>\n",
              "      <td>0.870</td>\n",
              "      <td>3.264</td>\n",
              "      <td>0.001</td>\n",
              "    </tr>\n",
              "    <tr>\n",
              "      <th>nox</th>\n",
              "      <td>-18.7580</td>\n",
              "      <td>3.851</td>\n",
              "      <td>-4.870</td>\n",
              "      <td>0.000</td>\n",
              "    </tr>\n",
              "    <tr>\n",
              "      <th>rm</th>\n",
              "      <td>3.6581</td>\n",
              "      <td>0.420</td>\n",
              "      <td>8.705</td>\n",
              "      <td>0.000</td>\n",
              "    </tr>\n",
              "    <tr>\n",
              "      <th>age</th>\n",
              "      <td>0.0036</td>\n",
              "      <td>0.013</td>\n",
              "      <td>0.271</td>\n",
              "      <td>0.787</td>\n",
              "    </tr>\n",
              "    <tr>\n",
              "      <th>dis</th>\n",
              "      <td>-1.4908</td>\n",
              "      <td>0.202</td>\n",
              "      <td>-7.394</td>\n",
              "      <td>0.000</td>\n",
              "    </tr>\n",
              "    <tr>\n",
              "      <th>rad</th>\n",
              "      <td>0.2894</td>\n",
              "      <td>0.067</td>\n",
              "      <td>4.325</td>\n",
              "      <td>0.000</td>\n",
              "    </tr>\n",
              "    <tr>\n",
              "      <th>tax</th>\n",
              "      <td>-0.0127</td>\n",
              "      <td>0.004</td>\n",
              "      <td>-3.337</td>\n",
              "      <td>0.001</td>\n",
              "    </tr>\n",
              "    <tr>\n",
              "      <th>ptratio</th>\n",
              "      <td>-0.9375</td>\n",
              "      <td>0.132</td>\n",
              "      <td>-7.091</td>\n",
              "      <td>0.000</td>\n",
              "    </tr>\n",
              "    <tr>\n",
              "      <th>lstat</th>\n",
              "      <td>-0.5520</td>\n",
              "      <td>0.051</td>\n",
              "      <td>-10.897</td>\n",
              "      <td>0.000</td>\n",
              "    </tr>\n",
              "  </tbody>\n",
              "</table>\n",
              "</div>"
            ],
            "text/plain": [
              "              coef  std err       t  P>|t|\n",
              "intercept  41.6173    4.936   8.431  0.000\n",
              "crim       -0.1214    0.033  -3.678  0.000\n",
              "zn          0.0470    0.014   3.384  0.001\n",
              "indus       0.0135    0.062   0.217  0.829\n",
              "chas        2.8400    0.870   3.264  0.001\n",
              "nox       -18.7580    3.851  -4.870  0.000\n",
              "rm          3.6581    0.420   8.705  0.000\n",
              "age         0.0036    0.013   0.271  0.787\n",
              "dis        -1.4908    0.202  -7.394  0.000\n",
              "rad         0.2894    0.067   4.325  0.000\n",
              "tax        -0.0127    0.004  -3.337  0.001\n",
              "ptratio    -0.9375    0.132  -7.091  0.000\n",
              "lstat      -0.5520    0.051 -10.897  0.000"
            ]
          },
          "execution_count": 27,
          "metadata": {},
          "output_type": "execute_result"
        }
      ],
      "source": [
        "X = MS(terms).fit_transform(Boston)\n",
        "model = sm.OLS(y, X)\n",
        "results = model.fit()\n",
        "summarize(results)\n"
      ]
    },
    {
      "cell_type": "markdown",
      "id": "183c3c40",
      "metadata": {
        "id": "183c3c40"
      },
      "source": [
        "What if we would like to perform a regression using all of the variables but one?  For\n",
        "example, in the above regression output,   `age`  has a high $p$-value.\n",
        "So we may wish to run a regression excluding this predictor.\n",
        "The following syntax results in a regression using all predictors except  `age`."
      ]
    },
    {
      "cell_type": "code",
      "execution_count": null,
      "id": "a1484d00",
      "metadata": {
        "execution": {
          "iopub.execute_input": "2024-06-04T23:19:08.435432Z",
          "iopub.status.busy": "2024-06-04T23:19:08.435353Z",
          "iopub.status.idle": "2024-06-04T23:19:08.448669Z",
          "shell.execute_reply": "2024-06-04T23:19:08.448429Z"
        },
        "id": "a1484d00",
        "outputId": "54573f15-dfe7-467a-8af8-24dd530ad785"
      },
      "outputs": [
        {
          "data": {
            "text/html": [
              "<div>\n",
              "<style scoped>\n",
              "    .dataframe tbody tr th:only-of-type {\n",
              "        vertical-align: middle;\n",
              "    }\n",
              "\n",
              "    .dataframe tbody tr th {\n",
              "        vertical-align: top;\n",
              "    }\n",
              "\n",
              "    .dataframe thead th {\n",
              "        text-align: right;\n",
              "    }\n",
              "</style>\n",
              "<table border=\"1\" class=\"dataframe\">\n",
              "  <thead>\n",
              "    <tr style=\"text-align: right;\">\n",
              "      <th></th>\n",
              "      <th>coef</th>\n",
              "      <th>std err</th>\n",
              "      <th>t</th>\n",
              "      <th>P&gt;|t|</th>\n",
              "    </tr>\n",
              "  </thead>\n",
              "  <tbody>\n",
              "    <tr>\n",
              "      <th>intercept</th>\n",
              "      <td>41.5251</td>\n",
              "      <td>4.920</td>\n",
              "      <td>8.441</td>\n",
              "      <td>0.000</td>\n",
              "    </tr>\n",
              "    <tr>\n",
              "      <th>crim</th>\n",
              "      <td>-0.1214</td>\n",
              "      <td>0.033</td>\n",
              "      <td>-3.683</td>\n",
              "      <td>0.000</td>\n",
              "    </tr>\n",
              "    <tr>\n",
              "      <th>zn</th>\n",
              "      <td>0.0465</td>\n",
              "      <td>0.014</td>\n",
              "      <td>3.379</td>\n",
              "      <td>0.001</td>\n",
              "    </tr>\n",
              "    <tr>\n",
              "      <th>indus</th>\n",
              "      <td>0.0135</td>\n",
              "      <td>0.062</td>\n",
              "      <td>0.217</td>\n",
              "      <td>0.829</td>\n",
              "    </tr>\n",
              "    <tr>\n",
              "      <th>chas</th>\n",
              "      <td>2.8528</td>\n",
              "      <td>0.868</td>\n",
              "      <td>3.287</td>\n",
              "      <td>0.001</td>\n",
              "    </tr>\n",
              "    <tr>\n",
              "      <th>nox</th>\n",
              "      <td>-18.4851</td>\n",
              "      <td>3.714</td>\n",
              "      <td>-4.978</td>\n",
              "      <td>0.000</td>\n",
              "    </tr>\n",
              "    <tr>\n",
              "      <th>rm</th>\n",
              "      <td>3.6811</td>\n",
              "      <td>0.411</td>\n",
              "      <td>8.951</td>\n",
              "      <td>0.000</td>\n",
              "    </tr>\n",
              "    <tr>\n",
              "      <th>dis</th>\n",
              "      <td>-1.5068</td>\n",
              "      <td>0.193</td>\n",
              "      <td>-7.825</td>\n",
              "      <td>0.000</td>\n",
              "    </tr>\n",
              "    <tr>\n",
              "      <th>rad</th>\n",
              "      <td>0.2879</td>\n",
              "      <td>0.067</td>\n",
              "      <td>4.322</td>\n",
              "      <td>0.000</td>\n",
              "    </tr>\n",
              "    <tr>\n",
              "      <th>tax</th>\n",
              "      <td>-0.0127</td>\n",
              "      <td>0.004</td>\n",
              "      <td>-3.333</td>\n",
              "      <td>0.001</td>\n",
              "    </tr>\n",
              "    <tr>\n",
              "      <th>ptratio</th>\n",
              "      <td>-0.9346</td>\n",
              "      <td>0.132</td>\n",
              "      <td>-7.099</td>\n",
              "      <td>0.000</td>\n",
              "    </tr>\n",
              "    <tr>\n",
              "      <th>lstat</th>\n",
              "      <td>-0.5474</td>\n",
              "      <td>0.048</td>\n",
              "      <td>-11.483</td>\n",
              "      <td>0.000</td>\n",
              "    </tr>\n",
              "  </tbody>\n",
              "</table>\n",
              "</div>"
            ],
            "text/plain": [
              "              coef  std err       t  P>|t|\n",
              "intercept  41.5251    4.920   8.441  0.000\n",
              "crim       -0.1214    0.033  -3.683  0.000\n",
              "zn          0.0465    0.014   3.379  0.001\n",
              "indus       0.0135    0.062   0.217  0.829\n",
              "chas        2.8528    0.868   3.287  0.001\n",
              "nox       -18.4851    3.714  -4.978  0.000\n",
              "rm          3.6811    0.411   8.951  0.000\n",
              "dis        -1.5068    0.193  -7.825  0.000\n",
              "rad         0.2879    0.067   4.322  0.000\n",
              "tax        -0.0127    0.004  -3.333  0.001\n",
              "ptratio    -0.9346    0.132  -7.099  0.000\n",
              "lstat      -0.5474    0.048 -11.483  0.000"
            ]
          },
          "execution_count": 28,
          "metadata": {},
          "output_type": "execute_result"
        }
      ],
      "source": [
        "minus_age = Boston.columns.drop(['medv', 'age'])\n",
        "Xma = MS(minus_age).fit_transform(Boston)\n",
        "model1 = sm.OLS(y, Xma)\n",
        "summarize(model1.fit())\n"
      ]
    },
    {
      "cell_type": "markdown",
      "id": "74ec4654",
      "metadata": {
        "id": "74ec4654"
      },
      "source": [
        "## Multivariate Goodness of Fit\n",
        "We can access the individual components of `results` by name\n",
        "(`dir(results)` shows us what is available). Hence\n",
        "`results.rsquared` gives us the $R^2$,\n",
        "and\n",
        "`np.sqrt(results.scale)` gives us the RSE.\n",
        "\n",
        "Variance inflation factors (section~\\ref{Ch3:problems.sec}) are sometimes useful\n",
        "to assess the effect of collinearity in the model matrix of a regression model.\n",
        "We will compute the VIFs in our multiple regression fit, and use the opportunity to introduce the idea of *list comprehension*.\n",
        "\n",
        "### List Comprehension\n",
        "Often we encounter a sequence of objects which we would like to transform\n",
        "for some other task. Below, we compute the VIF for each\n",
        "feature in our `X` matrix and produce a data frame\n",
        "whose index agrees with the columns of `X`.\n",
        "The notion of list comprehension can often make such\n",
        "a task easier.\n",
        "\n",
        "List comprehensions are simple and powerful ways to form\n",
        "lists of `Python` objects. The language also supports\n",
        "dictionary and *generator* comprehension, though these are\n",
        "beyond our scope here. Let's look at an example. We compute the VIF for each of the variables\n",
        "in the model matrix `X`, using the function `variance_inflation_factor()`.\n"
      ]
    },
    {
      "cell_type": "code",
      "execution_count": null,
      "id": "46ac946c",
      "metadata": {
        "execution": {
          "iopub.execute_input": "2024-06-04T23:19:08.449986Z",
          "iopub.status.busy": "2024-06-04T23:19:08.449918Z",
          "iopub.status.idle": "2024-06-04T23:19:08.455447Z",
          "shell.execute_reply": "2024-06-04T23:19:08.455211Z"
        },
        "lines_to_next_cell": 0,
        "id": "46ac946c",
        "outputId": "5b5a351e-47aa-4490-a529-cc7c14d779c9"
      },
      "outputs": [
        {
          "data": {
            "text/html": [
              "<div>\n",
              "<style scoped>\n",
              "    .dataframe tbody tr th:only-of-type {\n",
              "        vertical-align: middle;\n",
              "    }\n",
              "\n",
              "    .dataframe tbody tr th {\n",
              "        vertical-align: top;\n",
              "    }\n",
              "\n",
              "    .dataframe thead th {\n",
              "        text-align: right;\n",
              "    }\n",
              "</style>\n",
              "<table border=\"1\" class=\"dataframe\">\n",
              "  <thead>\n",
              "    <tr style=\"text-align: right;\">\n",
              "      <th></th>\n",
              "      <th>vif</th>\n",
              "    </tr>\n",
              "  </thead>\n",
              "  <tbody>\n",
              "    <tr>\n",
              "      <th>crim</th>\n",
              "      <td>1.767486</td>\n",
              "    </tr>\n",
              "    <tr>\n",
              "      <th>zn</th>\n",
              "      <td>2.298459</td>\n",
              "    </tr>\n",
              "    <tr>\n",
              "      <th>indus</th>\n",
              "      <td>3.987181</td>\n",
              "    </tr>\n",
              "    <tr>\n",
              "      <th>chas</th>\n",
              "      <td>1.071168</td>\n",
              "    </tr>\n",
              "    <tr>\n",
              "      <th>nox</th>\n",
              "      <td>4.369093</td>\n",
              "    </tr>\n",
              "    <tr>\n",
              "      <th>rm</th>\n",
              "      <td>1.912532</td>\n",
              "    </tr>\n",
              "    <tr>\n",
              "      <th>age</th>\n",
              "      <td>3.088232</td>\n",
              "    </tr>\n",
              "    <tr>\n",
              "      <th>dis</th>\n",
              "      <td>3.954037</td>\n",
              "    </tr>\n",
              "    <tr>\n",
              "      <th>rad</th>\n",
              "      <td>7.445301</td>\n",
              "    </tr>\n",
              "    <tr>\n",
              "      <th>tax</th>\n",
              "      <td>9.002158</td>\n",
              "    </tr>\n",
              "    <tr>\n",
              "      <th>ptratio</th>\n",
              "      <td>1.797060</td>\n",
              "    </tr>\n",
              "    <tr>\n",
              "      <th>lstat</th>\n",
              "      <td>2.870777</td>\n",
              "    </tr>\n",
              "  </tbody>\n",
              "</table>\n",
              "</div>"
            ],
            "text/plain": [
              "              vif\n",
              "crim     1.767486\n",
              "zn       2.298459\n",
              "indus    3.987181\n",
              "chas     1.071168\n",
              "nox      4.369093\n",
              "rm       1.912532\n",
              "age      3.088232\n",
              "dis      3.954037\n",
              "rad      7.445301\n",
              "tax      9.002158\n",
              "ptratio  1.797060\n",
              "lstat    2.870777"
            ]
          },
          "execution_count": 29,
          "metadata": {},
          "output_type": "execute_result"
        }
      ],
      "source": [
        "vals = [VIF(X, i)\n",
        "        for i in range(1, X.shape[1])]\n",
        "vif = pd.DataFrame({'vif':vals},\n",
        "                   index=X.columns[1:])\n",
        "vif\n"
      ]
    },
    {
      "cell_type": "markdown",
      "id": "45a29903",
      "metadata": {
        "id": "45a29903"
      },
      "source": [
        "The function `VIF()` takes two arguments: a dataframe or array,\n",
        "and a variable column index. In the code above we call `VIF()` on the fly for all columns in `X`.  \n",
        "We have excluded column 0 above (the intercept), which is not of interest. In this case the VIFs are not that exciting.\n",
        "\n",
        "The object `vals` above could have been constructed with the following for loop:"
      ]
    },
    {
      "cell_type": "code",
      "execution_count": null,
      "id": "b626ecb9",
      "metadata": {
        "execution": {
          "iopub.execute_input": "2024-06-04T23:19:08.456814Z",
          "iopub.status.busy": "2024-06-04T23:19:08.456747Z",
          "iopub.status.idle": "2024-06-04T23:19:08.461039Z",
          "shell.execute_reply": "2024-06-04T23:19:08.460801Z"
        },
        "lines_to_next_cell": 0,
        "id": "b626ecb9"
      },
      "outputs": [],
      "source": [
        "vals = []\n",
        "for i in range(1, X.values.shape[1]):\n",
        "    vals.append(VIF(X.values, i))\n"
      ]
    },
    {
      "cell_type": "markdown",
      "id": "6e504ae2",
      "metadata": {
        "id": "6e504ae2"
      },
      "source": [
        "List comprehension allows us to perform such repetitive operations in a more straightforward way.\n",
        "## Interaction Terms\n",
        "It is easy to include interaction terms in a linear model using `ModelSpec()`.\n",
        "Including a tuple `(\"lstat\",\"age\")` tells the model\n",
        "matrix builder to include an interaction term between\n",
        " `lstat`  and  `age`."
      ]
    },
    {
      "cell_type": "code",
      "execution_count": null,
      "id": "8bf77477",
      "metadata": {
        "execution": {
          "iopub.execute_input": "2024-06-04T23:19:08.462456Z",
          "iopub.status.busy": "2024-06-04T23:19:08.462383Z",
          "iopub.status.idle": "2024-06-04T23:19:08.473081Z",
          "shell.execute_reply": "2024-06-04T23:19:08.472857Z"
        },
        "lines_to_next_cell": 2,
        "id": "8bf77477",
        "outputId": "ce7959b1-8e0d-4a31-ecdd-699f76978a3e"
      },
      "outputs": [
        {
          "data": {
            "text/html": [
              "<div>\n",
              "<style scoped>\n",
              "    .dataframe tbody tr th:only-of-type {\n",
              "        vertical-align: middle;\n",
              "    }\n",
              "\n",
              "    .dataframe tbody tr th {\n",
              "        vertical-align: top;\n",
              "    }\n",
              "\n",
              "    .dataframe thead th {\n",
              "        text-align: right;\n",
              "    }\n",
              "</style>\n",
              "<table border=\"1\" class=\"dataframe\">\n",
              "  <thead>\n",
              "    <tr style=\"text-align: right;\">\n",
              "      <th></th>\n",
              "      <th>coef</th>\n",
              "      <th>std err</th>\n",
              "      <th>t</th>\n",
              "      <th>P&gt;|t|</th>\n",
              "    </tr>\n",
              "  </thead>\n",
              "  <tbody>\n",
              "    <tr>\n",
              "      <th>intercept</th>\n",
              "      <td>36.0885</td>\n",
              "      <td>1.470</td>\n",
              "      <td>24.553</td>\n",
              "      <td>0.000</td>\n",
              "    </tr>\n",
              "    <tr>\n",
              "      <th>lstat</th>\n",
              "      <td>-1.3921</td>\n",
              "      <td>0.167</td>\n",
              "      <td>-8.313</td>\n",
              "      <td>0.000</td>\n",
              "    </tr>\n",
              "    <tr>\n",
              "      <th>age</th>\n",
              "      <td>-0.0007</td>\n",
              "      <td>0.020</td>\n",
              "      <td>-0.036</td>\n",
              "      <td>0.971</td>\n",
              "    </tr>\n",
              "    <tr>\n",
              "      <th>lstat:age</th>\n",
              "      <td>0.0042</td>\n",
              "      <td>0.002</td>\n",
              "      <td>2.244</td>\n",
              "      <td>0.025</td>\n",
              "    </tr>\n",
              "  </tbody>\n",
              "</table>\n",
              "</div>"
            ],
            "text/plain": [
              "              coef  std err       t  P>|t|\n",
              "intercept  36.0885    1.470  24.553  0.000\n",
              "lstat      -1.3921    0.167  -8.313  0.000\n",
              "age        -0.0007    0.020  -0.036  0.971\n",
              "lstat:age   0.0042    0.002   2.244  0.025"
            ]
          },
          "execution_count": 31,
          "metadata": {},
          "output_type": "execute_result"
        }
      ],
      "source": [
        "X = MS(['lstat',\n",
        "        'age',\n",
        "        ('lstat', 'age')]).fit_transform(Boston)\n",
        "model2 = sm.OLS(y, X)\n",
        "summarize(model2.fit())\n"
      ]
    },
    {
      "cell_type": "markdown",
      "id": "e2323ab9",
      "metadata": {
        "id": "e2323ab9"
      },
      "source": [
        "## Non-linear Transformations of the Predictors\n",
        "The model matrix builder can include terms beyond\n",
        "just column names and interactions. For instance,\n",
        "the `poly()` function supplied in `ISLP` specifies that\n",
        "columns representing polynomial functions\n",
        "of its first argument are added to the model matrix."
      ]
    },
    {
      "cell_type": "code",
      "execution_count": null,
      "id": "6289c3cb",
      "metadata": {
        "execution": {
          "iopub.execute_input": "2024-06-04T23:19:08.474420Z",
          "iopub.status.busy": "2024-06-04T23:19:08.474348Z",
          "iopub.status.idle": "2024-06-04T23:19:08.484309Z",
          "shell.execute_reply": "2024-06-04T23:19:08.484088Z"
        },
        "lines_to_next_cell": 0,
        "id": "6289c3cb",
        "outputId": "b1b0f85b-57de-4028-8cb3-359e22c5927a"
      },
      "outputs": [
        {
          "data": {
            "text/html": [
              "<div>\n",
              "<style scoped>\n",
              "    .dataframe tbody tr th:only-of-type {\n",
              "        vertical-align: middle;\n",
              "    }\n",
              "\n",
              "    .dataframe tbody tr th {\n",
              "        vertical-align: top;\n",
              "    }\n",
              "\n",
              "    .dataframe thead th {\n",
              "        text-align: right;\n",
              "    }\n",
              "</style>\n",
              "<table border=\"1\" class=\"dataframe\">\n",
              "  <thead>\n",
              "    <tr style=\"text-align: right;\">\n",
              "      <th></th>\n",
              "      <th>coef</th>\n",
              "      <th>std err</th>\n",
              "      <th>t</th>\n",
              "      <th>P&gt;|t|</th>\n",
              "    </tr>\n",
              "  </thead>\n",
              "  <tbody>\n",
              "    <tr>\n",
              "      <th>intercept</th>\n",
              "      <td>17.7151</td>\n",
              "      <td>0.781</td>\n",
              "      <td>22.681</td>\n",
              "      <td>0.0</td>\n",
              "    </tr>\n",
              "    <tr>\n",
              "      <th>poly(lstat, degree=2)[0]</th>\n",
              "      <td>-179.2279</td>\n",
              "      <td>6.733</td>\n",
              "      <td>-26.620</td>\n",
              "      <td>0.0</td>\n",
              "    </tr>\n",
              "    <tr>\n",
              "      <th>poly(lstat, degree=2)[1]</th>\n",
              "      <td>72.9908</td>\n",
              "      <td>5.482</td>\n",
              "      <td>13.315</td>\n",
              "      <td>0.0</td>\n",
              "    </tr>\n",
              "    <tr>\n",
              "      <th>age</th>\n",
              "      <td>0.0703</td>\n",
              "      <td>0.011</td>\n",
              "      <td>6.471</td>\n",
              "      <td>0.0</td>\n",
              "    </tr>\n",
              "  </tbody>\n",
              "</table>\n",
              "</div>"
            ],
            "text/plain": [
              "                              coef  std err       t  P>|t|\n",
              "intercept                  17.7151    0.781  22.681    0.0\n",
              "poly(lstat, degree=2)[0] -179.2279    6.733 -26.620    0.0\n",
              "poly(lstat, degree=2)[1]   72.9908    5.482  13.315    0.0\n",
              "age                         0.0703    0.011   6.471    0.0"
            ]
          },
          "execution_count": 32,
          "metadata": {},
          "output_type": "execute_result"
        }
      ],
      "source": [
        "X = MS([poly('lstat', degree=2), 'age']).fit_transform(Boston)\n",
        "model3 = sm.OLS(y, X)\n",
        "results3 = model3.fit()\n",
        "summarize(results3)\n"
      ]
    },
    {
      "cell_type": "markdown",
      "id": "2bd67b14",
      "metadata": {
        "id": "2bd67b14"
      },
      "source": [
        "The effectively zero *p*-value associated with the quadratic term\n",
        "(i.e. the third row above) suggests that it leads to an improved model.\n",
        "\n",
        "By default, `poly()` creates a basis matrix for inclusion in the\n",
        "model matrix whose\n",
        "columns are *orthogonal polynomials*, which are designed for stable\n",
        "least squares computations. {Actually, `poly()` is a  wrapper for the workhorse and standalone  function `Poly()` that does the  work in building the model matrix.}\n",
        "Alternatively, had we included an argument\n",
        "`raw=True` in the above call to `poly()`, the basis matrix would consist simply of\n",
        "`lstat` and `lstat**2`. Since either of these bases\n",
        "represent quadratic polynomials, the fitted values  would not\n",
        "change in this case, just the polynomial coefficients.  Also by default, the columns\n",
        "created by `poly()` do not include an intercept column as\n",
        "that is automatically added by `MS()`.\n",
        "\n",
        "We use the `anova_lm()` function to further quantify the extent to which the quadratic fit is\n",
        "superior to the linear fit."
      ]
    },
    {
      "cell_type": "code",
      "execution_count": null,
      "id": "b6542ac6",
      "metadata": {
        "execution": {
          "iopub.execute_input": "2024-06-04T23:19:08.485627Z",
          "iopub.status.busy": "2024-06-04T23:19:08.485562Z",
          "iopub.status.idle": "2024-06-04T23:19:08.489875Z",
          "shell.execute_reply": "2024-06-04T23:19:08.489670Z"
        },
        "lines_to_next_cell": 0,
        "id": "b6542ac6",
        "outputId": "209b2738-b67f-40ef-b22c-cc3d3031cba4"
      },
      "outputs": [
        {
          "data": {
            "text/html": [
              "<div>\n",
              "<style scoped>\n",
              "    .dataframe tbody tr th:only-of-type {\n",
              "        vertical-align: middle;\n",
              "    }\n",
              "\n",
              "    .dataframe tbody tr th {\n",
              "        vertical-align: top;\n",
              "    }\n",
              "\n",
              "    .dataframe thead th {\n",
              "        text-align: right;\n",
              "    }\n",
              "</style>\n",
              "<table border=\"1\" class=\"dataframe\">\n",
              "  <thead>\n",
              "    <tr style=\"text-align: right;\">\n",
              "      <th></th>\n",
              "      <th>df_resid</th>\n",
              "      <th>ssr</th>\n",
              "      <th>df_diff</th>\n",
              "      <th>ss_diff</th>\n",
              "      <th>F</th>\n",
              "      <th>Pr(&gt;F)</th>\n",
              "    </tr>\n",
              "  </thead>\n",
              "  <tbody>\n",
              "    <tr>\n",
              "      <th>0</th>\n",
              "      <td>503.0</td>\n",
              "      <td>19168.128609</td>\n",
              "      <td>0.0</td>\n",
              "      <td>NaN</td>\n",
              "      <td>NaN</td>\n",
              "      <td>NaN</td>\n",
              "    </tr>\n",
              "    <tr>\n",
              "      <th>1</th>\n",
              "      <td>502.0</td>\n",
              "      <td>14165.613251</td>\n",
              "      <td>1.0</td>\n",
              "      <td>5002.515357</td>\n",
              "      <td>177.278785</td>\n",
              "      <td>7.468491e-35</td>\n",
              "    </tr>\n",
              "  </tbody>\n",
              "</table>\n",
              "</div>"
            ],
            "text/plain": [
              "   df_resid           ssr  df_diff      ss_diff           F        Pr(>F)\n",
              "0     503.0  19168.128609      0.0          NaN         NaN           NaN\n",
              "1     502.0  14165.613251      1.0  5002.515357  177.278785  7.468491e-35"
            ]
          },
          "execution_count": 33,
          "metadata": {},
          "output_type": "execute_result"
        }
      ],
      "source": [
        "anova_lm(results1, results3)\n"
      ]
    },
    {
      "cell_type": "markdown",
      "id": "3685159a",
      "metadata": {
        "id": "3685159a"
      },
      "source": [
        "Here `results1` represents the linear submodel containing\n",
        "predictors `lstat` and `age`,\n",
        "while `results3` corresponds to the larger model above  with a quadratic\n",
        "term in `lstat`.\n",
        "The `anova_lm()` function performs a hypothesis test\n",
        "comparing the two models. The null hypothesis is that the quadratic\n",
        "term in the bigger model is not needed, and the alternative hypothesis is that the\n",
        "bigger model is superior. Here the *F*-statistic is 177.28 and\n",
        "the associated *p*-value is zero.\n",
        "In this case the *F*-statistic is the square of the\n",
        "*t*-statistic for the quadratic term in the linear model summary\n",
        "for `results3` --- a consequence of the fact that these nested\n",
        "models differ by one degree of freedom.\n",
        "This provides very clear evidence that the quadratic polynomial in\n",
        "`lstat` improves the linear model.\n",
        "This is not surprising, since earlier we saw evidence for non-linearity in the relationship between `medv`\n",
        "and  `lstat`.\n",
        "\n",
        "The function `anova_lm()` can take more than two nested models\n",
        "as input, in which case it compares every successive pair of models.\n",
        "That also explains why their are `NaN`s in the first row above, since\n",
        "there is no previous model with which to compare the first.\n"
      ]
    },
    {
      "cell_type": "code",
      "execution_count": null,
      "id": "8e4c6004",
      "metadata": {
        "execution": {
          "iopub.execute_input": "2024-06-04T23:19:08.491175Z",
          "iopub.status.busy": "2024-06-04T23:19:08.491086Z",
          "iopub.status.idle": "2024-06-04T23:19:08.560976Z",
          "shell.execute_reply": "2024-06-04T23:19:08.560698Z"
        },
        "lines_to_next_cell": 0,
        "id": "8e4c6004",
        "outputId": "dd8ca698-785a-41e9-83f5-36b4f2f2fe0c"
      },
      "outputs": [
        {
          "data": {
            "image/png": "[encoded data removed]",
            "text/plain": [
              "<Figure size 800x800 with 1 Axes>"
            ]
          },
          "metadata": {},
          "output_type": "display_data"
        }
      ],
      "source": [
        "ax = subplots(figsize=(8,8))[1]\n",
        "ax.scatter(results3.fittedvalues, results3.resid)\n",
        "ax.set_xlabel('Fitted value')\n",
        "ax.set_ylabel('Residual')\n",
        "ax.axhline(0, c='k', ls='--');\n"
      ]
    },
    {
      "cell_type": "markdown",
      "id": "3c7e0661",
      "metadata": {
        "id": "3c7e0661"
      },
      "source": [
        "We see that when the quadratic term is included in the model,\n",
        "there is little discernible pattern in the residuals.\n",
        "In order to create a cubic or higher-degree polynomial fit, we can simply change the degree argument\n",
        "to `poly()`.\n"
      ]
    },
    {
      "cell_type": "markdown",
      "id": "46a4967d",
      "metadata": {
        "id": "46a4967d"
      },
      "source": [
        "## Qualitative Predictors\n",
        "Here we use the  `Carseats`  data, which is included in the\n",
        "`ISLP` package. We will  attempt to predict `Sales`\n",
        "(child car seat sales) in 400 locations based on a number of\n",
        "predictors."
      ]
    },
    {
      "cell_type": "code",
      "execution_count": null,
      "id": "a83f4bd2",
      "metadata": {
        "execution": {
          "iopub.execute_input": "2024-06-04T23:19:08.562367Z",
          "iopub.status.busy": "2024-06-04T23:19:08.562269Z",
          "iopub.status.idle": "2024-06-04T23:19:08.565879Z",
          "shell.execute_reply": "2024-06-04T23:19:08.565674Z"
        },
        "lines_to_next_cell": 0,
        "id": "a83f4bd2",
        "outputId": "3d60e9ed-f642-498d-8518-573f3e851073"
      },
      "outputs": [
        {
          "data": {
            "text/plain": [
              "Index(['Sales', 'CompPrice', 'Income', 'Advertising', 'Population', 'Price',\n",
              "       'ShelveLoc', 'Age', 'Education', 'Urban', 'US'],\n",
              "      dtype='object')"
            ]
          },
          "execution_count": 35,
          "metadata": {},
          "output_type": "execute_result"
        }
      ],
      "source": [
        "Carseats = load_data('Carseats')\n",
        "Carseats.columns\n"
      ]
    },
    {
      "cell_type": "markdown",
      "id": "69025ecd",
      "metadata": {
        "id": "69025ecd"
      },
      "source": [
        "The `Carseats`  \n",
        " data includes qualitative predictors such as\n",
        " `ShelveLoc`, an indicator of the quality of the shelving\n",
        " location --- that is,\n",
        "the  space within a store in which the car seat is displayed. The predictor\n",
        " `ShelveLoc`  takes on three possible values, `Bad`, `Medium`, and `Good`.\n",
        "Given a qualitative variable such as  `ShelveLoc`, `ModelSpec()` generates dummy\n",
        "variables automatically.\n",
        "These variables are often referred to as a *one-hot encoding* of the categorical\n",
        "feature. Their columns sum to one, so to avoid collinearity with an intercept, the first column is dropped. Below we see\n",
        "the column `ShelveLoc[Bad]` has been dropped, since `Bad` is the first level of `ShelveLoc`.\n",
        "Below we fit a multiple regression model that includes some interaction terms."
      ]
    },
    {
      "cell_type": "code",
      "execution_count": null,
      "id": "24efc6f1",
      "metadata": {
        "execution": {
          "iopub.execute_input": "2024-06-04T23:19:08.567067Z",
          "iopub.status.busy": "2024-06-04T23:19:08.566984Z",
          "iopub.status.idle": "2024-06-04T23:19:08.585971Z",
          "shell.execute_reply": "2024-06-04T23:19:08.585717Z"
        },
        "lines_to_next_cell": 0,
        "id": "24efc6f1",
        "outputId": "079686d5-ef3d-44fd-c7c6-9052c3df3506"
      },
      "outputs": [
        {
          "data": {
            "text/html": [
              "<div>\n",
              "<style scoped>\n",
              "    .dataframe tbody tr th:only-of-type {\n",
              "        vertical-align: middle;\n",
              "    }\n",
              "\n",
              "    .dataframe tbody tr th {\n",
              "        vertical-align: top;\n",
              "    }\n",
              "\n",
              "    .dataframe thead th {\n",
              "        text-align: right;\n",
              "    }\n",
              "</style>\n",
              "<table border=\"1\" class=\"dataframe\">\n",
              "  <thead>\n",
              "    <tr style=\"text-align: right;\">\n",
              "      <th></th>\n",
              "      <th>coef</th>\n",
              "      <th>std err</th>\n",
              "      <th>t</th>\n",
              "      <th>P&gt;|t|</th>\n",
              "    </tr>\n",
              "  </thead>\n",
              "  <tbody>\n",
              "    <tr>\n",
              "      <th>intercept</th>\n",
              "      <td>6.5756</td>\n",
              "      <td>1.009</td>\n",
              "      <td>6.519</td>\n",
              "      <td>0.000</td>\n",
              "    </tr>\n",
              "    <tr>\n",
              "      <th>CompPrice</th>\n",
              "      <td>0.0929</td>\n",
              "      <td>0.004</td>\n",
              "      <td>22.567</td>\n",
              "      <td>0.000</td>\n",
              "    </tr>\n",
              "    <tr>\n",
              "      <th>Income</th>\n",
              "      <td>0.0109</td>\n",
              "      <td>0.003</td>\n",
              "      <td>4.183</td>\n",
              "      <td>0.000</td>\n",
              "    </tr>\n",
              "    <tr>\n",
              "      <th>Advertising</th>\n",
              "      <td>0.0702</td>\n",
              "      <td>0.023</td>\n",
              "      <td>3.107</td>\n",
              "      <td>0.002</td>\n",
              "    </tr>\n",
              "    <tr>\n",
              "      <th>Population</th>\n",
              "      <td>0.0002</td>\n",
              "      <td>0.000</td>\n",
              "      <td>0.433</td>\n",
              "      <td>0.665</td>\n",
              "    </tr>\n",
              "    <tr>\n",
              "      <th>Price</th>\n",
              "      <td>-0.1008</td>\n",
              "      <td>0.007</td>\n",
              "      <td>-13.549</td>\n",
              "      <td>0.000</td>\n",
              "    </tr>\n",
              "    <tr>\n",
              "      <th>ShelveLoc[Good]</th>\n",
              "      <td>4.8487</td>\n",
              "      <td>0.153</td>\n",
              "      <td>31.724</td>\n",
              "      <td>0.000</td>\n",
              "    </tr>\n",
              "    <tr>\n",
              "      <th>ShelveLoc[Medium]</th>\n",
              "      <td>1.9533</td>\n",
              "      <td>0.126</td>\n",
              "      <td>15.531</td>\n",
              "      <td>0.000</td>\n",
              "    </tr>\n",
              "    <tr>\n",
              "      <th>Age</th>\n",
              "      <td>-0.0579</td>\n",
              "      <td>0.016</td>\n",
              "      <td>-3.633</td>\n",
              "      <td>0.000</td>\n",
              "    </tr>\n",
              "    <tr>\n",
              "      <th>Education</th>\n",
              "      <td>-0.0209</td>\n",
              "      <td>0.020</td>\n",
              "      <td>-1.063</td>\n",
              "      <td>0.288</td>\n",
              "    </tr>\n",
              "    <tr>\n",
              "      <th>Urban[Yes]</th>\n",
              "      <td>0.1402</td>\n",
              "      <td>0.112</td>\n",
              "      <td>1.247</td>\n",
              "      <td>0.213</td>\n",
              "    </tr>\n",
              "    <tr>\n",
              "      <th>US[Yes]</th>\n",
              "      <td>-0.1576</td>\n",
              "      <td>0.149</td>\n",
              "      <td>-1.058</td>\n",
              "      <td>0.291</td>\n",
              "    </tr>\n",
              "    <tr>\n",
              "      <th>Income:Advertising</th>\n",
              "      <td>0.0008</td>\n",
              "      <td>0.000</td>\n",
              "      <td>2.698</td>\n",
              "      <td>0.007</td>\n",
              "    </tr>\n",
              "    <tr>\n",
              "      <th>Price:Age</th>\n",
              "      <td>0.0001</td>\n",
              "      <td>0.000</td>\n",
              "      <td>0.801</td>\n",
              "      <td>0.424</td>\n",
              "    </tr>\n",
              "  </tbody>\n",
              "</table>\n",
              "</div>"
            ],
            "text/plain": [
              "                      coef  std err       t  P>|t|\n",
              "intercept           6.5756    1.009   6.519  0.000\n",
              "CompPrice           0.0929    0.004  22.567  0.000\n",
              "Income              0.0109    0.003   4.183  0.000\n",
              "Advertising         0.0702    0.023   3.107  0.002\n",
              "Population          0.0002    0.000   0.433  0.665\n",
              "Price              -0.1008    0.007 -13.549  0.000\n",
              "ShelveLoc[Good]     4.8487    0.153  31.724  0.000\n",
              "ShelveLoc[Medium]   1.9533    0.126  15.531  0.000\n",
              "Age                -0.0579    0.016  -3.633  0.000\n",
              "Education          -0.0209    0.020  -1.063  0.288\n",
              "Urban[Yes]          0.1402    0.112   1.247  0.213\n",
              "US[Yes]            -0.1576    0.149  -1.058  0.291\n",
              "Income:Advertising  0.0008    0.000   2.698  0.007\n",
              "Price:Age           0.0001    0.000   0.801  0.424"
            ]
          },
          "execution_count": 36,
          "metadata": {},
          "output_type": "execute_result"
        }
      ],
      "source": [
        "allvars = list(Carseats.columns.drop('Sales'))\n",
        "y = Carseats['Sales']\n",
        "final = allvars + [('Income', 'Advertising'),\n",
        "                   ('Price', 'Age')]\n",
        "X = MS(final).fit_transform(Carseats)\n",
        "model = sm.OLS(y, X)\n",
        "summarize(model.fit())\n"
      ]
    },
    {
      "cell_type": "markdown",
      "id": "a8a76419",
      "metadata": {
        "id": "a8a76419"
      },
      "source": [
        "In the first line above, we made `allvars` a list, so that we\n",
        "could add the interaction terms two lines down.\n",
        "Our model-matrix builder has created a `ShelveLoc[Good]`\n",
        "dummy variable that takes on a value of 1 if the\n",
        "shelving location is good, and 0 otherwise. It has also created a `ShelveLoc[Medium]`\n",
        "dummy variable that equals 1 if the shelving location is medium, and 0 otherwise.\n",
        "A bad shelving location corresponds to a zero for each of the two dummy variables.\n",
        "The fact that the coefficient for `ShelveLoc[Good]` in the regression output is\n",
        "positive indicates that a good shelving location is associated with high sales (relative to a bad location).\n",
        "And `ShelveLoc[Medium]` has a smaller positive coefficient,\n",
        "indicating that a medium shelving location leads to higher sales than a bad\n",
        "shelving location, but lower sales than a good shelving location.\n",
        "\n"
      ]
    },
    {
      "cell_type": "code",
      "source": [
        "Auto = load_data('Auto')\n",
        "y = Auto['mpg']\n",
        "design7 = MS(['horsepower'])\n",
        "X = design7.fit_transform(Auto)\n",
        "model = sm.OLS(y,X)\n",
        "results7 = model.fit()\n",
        "summarize(results7)\n",
        "# there seems to be a relationship between horespower and mpg since the p value is essentially 0\n",
        "# there is a negative relationship, being that for 100 units of horsepower increasing, 15 units decrease from mpg\n",
        "\n"
      ],
      "metadata": {
        "colab": {
          "base_uri": "https://localhost:8080/",
          "height": 112
        },
        "id": "R9U0Ivxos3oM",
        "outputId": "cac65b29-f2ac-45cb-d491-d888ed1d53a4"
      },
      "id": "R9U0Ivxos3oM",
      "execution_count": 6,
      "outputs": [
        {
          "output_type": "execute_result",
          "data": {
            "text/plain": [
              "               coef  std err       t  P>|t|\n",
              "intercept   39.9359    0.717  55.660    0.0\n",
              "horsepower  -0.1578    0.006 -24.489    0.0"
            ],
            "text/html": [
              "\n",
              "  <div id=\"df-c067147d-ad4a-4a21-a58f-747aa831c1d6\" class=\"colab-df-container\">\n",
              "    <div>\n",
              "<style scoped>\n",
              "    .dataframe tbody tr th:only-of-type {\n",
              "        vertical-align: middle;\n",
              "    }\n",
              "\n",
              "    .dataframe tbody tr th {\n",
              "        vertical-align: top;\n",
              "    }\n",
              "\n",
              "    .dataframe thead th {\n",
              "        text-align: right;\n",
              "    }\n",
              "</style>\n",
              "<table border=\"1\" class=\"dataframe\">\n",
              "  <thead>\n",
              "    <tr style=\"text-align: right;\">\n",
              "      <th></th>\n",
              "      <th>coef</th>\n",
              "      <th>std err</th>\n",
              "      <th>t</th>\n",
              "      <th>P&gt;|t|</th>\n",
              "    </tr>\n",
              "  </thead>\n",
              "  <tbody>\n",
              "    <tr>\n",
              "      <th>intercept</th>\n",
              "      <td>39.9359</td>\n",
              "      <td>0.717</td>\n",
              "      <td>55.660</td>\n",
              "      <td>0.0</td>\n",
              "    </tr>\n",
              "    <tr>\n",
              "      <th>horsepower</th>\n",
              "      <td>-0.1578</td>\n",
              "      <td>0.006</td>\n",
              "      <td>-24.489</td>\n",
              "      <td>0.0</td>\n",
              "    </tr>\n",
              "  </tbody>\n",
              "</table>\n",
              "</div>\n",
              "    <div class=\"colab-df-buttons\">\n",
              "\n",
              "  <div class=\"colab-df-container\">\n",
              "    <button class=\"colab-df-convert\" onclick=\"convertToInteractive('df-c067147d-ad4a-4a21-a58f-747aa831c1d6')\"\n",
              "            title=\"Convert this dataframe to an interactive table.\"\n",
              "            style=\"display:none;\">\n",
              "\n",
              "  <svg xmlns=\"http://www.w3.org/2000/svg\" height=\"24px\" viewBox=\"0 -960 960 960\">\n",
              "    <path d=\"M120-120v-720h720v720H120Zm60-500h600v-160H180v160Zm220 220h160v-160H400v160Zm0 220h160v-160H400v160ZM180-400h160v-160H180v160Zm440 0h160v-160H620v160ZM180-180h160v-160H180v160Zm440 0h160v-160H620v160Z\"/>\n",
              "  </svg>\n",
              "    </button>\n",
              "\n",
              "  <style>\n",
              "    .colab-df-container {\n",
              "      display:flex;\n",
              "      gap: 12px;\n",
              "    }\n",
              "\n",
              "    .colab-df-convert {\n",
              "      background-color: #E8F0FE;\n",
              "      border: none;\n",
              "      border-radius: 50%;\n",
              "      cursor: pointer;\n",
              "      display: none;\n",
              "      fill: #1967D2;\n",
              "      height: 32px;\n",
              "      padding: 0 0 0 0;\n",
              "      width: 32px;\n",
              "    }\n",
              "\n",
              "    .colab-df-convert:hover {\n",
              "      background-color: #E2EBFA;\n",
              "      box-shadow: 0px 1px 2px rgba(60, 64, 67, 0.3), 0px 1px 3px 1px rgba(60, 64, 67, 0.15);\n",
              "      fill: #174EA6;\n",
              "    }\n",
              "\n",
              "    .colab-df-buttons div {\n",
              "      margin-bottom: 4px;\n",
              "    }\n",
              "\n",
              "    [theme=dark] .colab-df-convert {\n",
              "      background-color: #3B4455;\n",
              "      fill: #D2E3FC;\n",
              "    }\n",
              "\n",
              "    [theme=dark] .colab-df-convert:hover {\n",
              "      background-color: #434B5C;\n",
              "      box-shadow: 0px 1px 3px 1px rgba(0, 0, 0, 0.15);\n",
              "      filter: drop-shadow(0px 1px 2px rgba(0, 0, 0, 0.3));\n",
              "      fill: #FFFFFF;\n",
              "    }\n",
              "  </style>\n",
              "\n",
              "    <script>\n",
              "      const buttonEl =\n",
              "        document.querySelector('#df-c067147d-ad4a-4a21-a58f-747aa831c1d6 button.colab-df-convert');\n",
              "      buttonEl.style.display =\n",
              "        google.colab.kernel.accessAllowed ? 'block' : 'none';\n",
              "\n",
              "      async function convertToInteractive(key) {\n",
              "        const element = document.querySelector('#df-c067147d-ad4a-4a21-a58f-747aa831c1d6');\n",
              "        const dataTable =\n",
              "          await google.colab.kernel.invokeFunction('convertToInteractive',\n",
              "                                                    [key], {});\n",
              "        if (!dataTable) return;\n",
              "\n",
              "        const docLinkHtml = 'Like what you see? Visit the ' +\n",
              "          '<a target=\"_blank\" href=https://colab.research.google.com/notebooks/data_table.ipynb>data table notebook</a>'\n",
              "          + ' to learn more about interactive tables.';\n",
              "        element.innerHTML = '';\n",
              "        dataTable['output_type'] = 'display_data';\n",
              "        await google.colab.output.renderOutput(dataTable, element);\n",
              "        const docLink = document.createElement('div');\n",
              "        docLink.innerHTML = docLinkHtml;\n",
              "        element.appendChild(docLink);\n",
              "      }\n",
              "    </script>\n",
              "  </div>\n",
              "\n",
              "\n",
              "<div id=\"df-0d1280ea-ba82-4989-909d-5b8f6f4d4727\">\n",
              "  <button class=\"colab-df-quickchart\" onclick=\"quickchart('df-0d1280ea-ba82-4989-909d-5b8f6f4d4727')\"\n",
              "            title=\"Suggest charts\"\n",
              "            style=\"display:none;\">\n",
              "\n",
              "<svg xmlns=\"http://www.w3.org/2000/svg\" height=\"24px\"viewBox=\"0 0 24 24\"\n",
              "     width=\"24px\">\n",
              "    <g>\n",
              "        <path d=\"M19 3H5c-1.1 0-2 .9-2 2v14c0 1.1.9 2 2 2h14c1.1 0 2-.9 2-2V5c0-1.1-.9-2-2-2zM9 17H7v-7h2v7zm4 0h-2V7h2v10zm4 0h-2v-4h2v4z\"/>\n",
              "    </g>\n",
              "</svg>\n",
              "  </button>\n",
              "\n",
              "<style>\n",
              "  .colab-df-quickchart {\n",
              "      --bg-color: #E8F0FE;\n",
              "      --fill-color: #1967D2;\n",
              "      --hover-bg-color: #E2EBFA;\n",
              "      --hover-fill-color: #174EA6;\n",
              "      --disabled-fill-color: #AAA;\n",
              "      --disabled-bg-color: #DDD;\n",
              "  }\n",
              "\n",
              "  [theme=dark] .colab-df-quickchart {\n",
              "      --bg-color: #3B4455;\n",
              "      --fill-color: #D2E3FC;\n",
              "      --hover-bg-color: #434B5C;\n",
              "      --hover-fill-color: #FFFFFF;\n",
              "      --disabled-bg-color: #3B4455;\n",
              "      --disabled-fill-color: #666;\n",
              "  }\n",
              "\n",
              "  .colab-df-quickchart {\n",
              "    background-color: var(--bg-color);\n",
              "    border: none;\n",
              "    border-radius: 50%;\n",
              "    cursor: pointer;\n",
              "    display: none;\n",
              "    fill: var(--fill-color);\n",
              "    height: 32px;\n",
              "    padding: 0;\n",
              "    width: 32px;\n",
              "  }\n",
              "\n",
              "  .colab-df-quickchart:hover {\n",
              "    background-color: var(--hover-bg-color);\n",
              "    box-shadow: 0 1px 2px rgba(60, 64, 67, 0.3), 0 1px 3px 1px rgba(60, 64, 67, 0.15);\n",
              "    fill: var(--button-hover-fill-color);\n",
              "  }\n",
              "\n",
              "  .colab-df-quickchart-complete:disabled,\n",
              "  .colab-df-quickchart-complete:disabled:hover {\n",
              "    background-color: var(--disabled-bg-color);\n",
              "    fill: var(--disabled-fill-color);\n",
              "    box-shadow: none;\n",
              "  }\n",
              "\n",
              "  .colab-df-spinner {\n",
              "    border: 2px solid var(--fill-color);\n",
              "    border-color: transparent;\n",
              "    border-bottom-color: var(--fill-color);\n",
              "    animation:\n",
              "      spin 1s steps(1) infinite;\n",
              "  }\n",
              "\n",
              "  @keyframes spin {\n",
              "    0% {\n",
              "      border-color: transparent;\n",
              "      border-bottom-color: var(--fill-color);\n",
              "      border-left-color: var(--fill-color);\n",
              "    }\n",
              "    20% {\n",
              "      border-color: transparent;\n",
              "      border-left-color: var(--fill-color);\n",
              "      border-top-color: var(--fill-color);\n",
              "    }\n",
              "    30% {\n",
              "      border-color: transparent;\n",
              "      border-left-color: var(--fill-color);\n",
              "      border-top-color: var(--fill-color);\n",
              "      border-right-color: var(--fill-color);\n",
              "    }\n",
              "    40% {\n",
              "      border-color: transparent;\n",
              "      border-right-color: var(--fill-color);\n",
              "      border-top-color: var(--fill-color);\n",
              "    }\n",
              "    60% {\n",
              "      border-color: transparent;\n",
              "      border-right-color: var(--fill-color);\n",
              "    }\n",
              "    80% {\n",
              "      border-color: transparent;\n",
              "      border-right-color: var(--fill-color);\n",
              "      border-bottom-color: var(--fill-color);\n",
              "    }\n",
              "    90% {\n",
              "      border-color: transparent;\n",
              "      border-bottom-color: var(--fill-color);\n",
              "    }\n",
              "  }\n",
              "</style>\n",
              "\n",
              "  <script>\n",
              "    async function quickchart(key) {\n",
              "      const quickchartButtonEl =\n",
              "        document.querySelector('#' + key + ' button');\n",
              "      quickchartButtonEl.disabled = true;  // To prevent multiple clicks.\n",
              "      quickchartButtonEl.classList.add('colab-df-spinner');\n",
              "      try {\n",
              "        const charts = await google.colab.kernel.invokeFunction(\n",
              "            'suggestCharts', [key], {});\n",
              "      } catch (error) {\n",
              "        console.error('Error during call to suggestCharts:', error);\n",
              "      }\n",
              "      quickchartButtonEl.classList.remove('colab-df-spinner');\n",
              "      quickchartButtonEl.classList.add('colab-df-quickchart-complete');\n",
              "    }\n",
              "    (() => {\n",
              "      let quickchartButtonEl =\n",
              "        document.querySelector('#df-0d1280ea-ba82-4989-909d-5b8f6f4d4727 button');\n",
              "      quickchartButtonEl.style.display =\n",
              "        google.colab.kernel.accessAllowed ? 'block' : 'none';\n",
              "    })();\n",
              "  </script>\n",
              "</div>\n",
              "\n",
              "    </div>\n",
              "  </div>\n"
            ],
            "application/vnd.google.colaboratory.intrinsic+json": {
              "type": "dataframe",
              "summary": "{\n  \"name\": \"# there is a negative relationship, being that for 100 units of horsepower increasing, 15 units decrease from mpg\",\n  \"rows\": 2,\n  \"fields\": [\n    {\n      \"column\": \"coef\",\n      \"properties\": {\n        \"dtype\": \"number\",\n        \"std\": 28.35052715285908,\n        \"min\": -0.1578,\n        \"max\": 39.9359,\n        \"num_unique_values\": 2,\n        \"samples\": [\n          -0.1578,\n          39.9359\n        ],\n        \"semantic_type\": \"\",\n        \"description\": \"\"\n      }\n    },\n    {\n      \"column\": \"std err\",\n      \"properties\": {\n        \"dtype\": \"number\",\n        \"std\": 0.5027529214236353,\n        \"min\": 0.006,\n        \"max\": 0.717,\n        \"num_unique_values\": 2,\n        \"samples\": [\n          0.006,\n          0.717\n        ],\n        \"semantic_type\": \"\",\n        \"description\": \"\"\n      }\n    },\n    {\n      \"column\": \"t\",\n      \"properties\": {\n        \"dtype\": \"number\",\n        \"std\": 56.6739014053206,\n        \"min\": -24.489,\n        \"max\": 55.66,\n        \"num_unique_values\": 2,\n        \"samples\": [\n          -24.489,\n          55.66\n        ],\n        \"semantic_type\": \"\",\n        \"description\": \"\"\n      }\n    },\n    {\n      \"column\": \"P>|t|\",\n      \"properties\": {\n        \"dtype\": \"number\",\n        \"std\": 0.0,\n        \"min\": 0.0,\n        \"max\": 0.0,\n        \"num_unique_values\": 1,\n        \"samples\": [\n          0.0\n        ],\n        \"semantic_type\": \"\",\n        \"description\": \"\"\n      }\n    }\n  ]\n}"
            }
          },
          "metadata": {},
          "execution_count": 6
        }
      ]
    },
    {
      "cell_type": "code",
      "source": [
        "test_df = pd.DataFrame({'horsepower': [98]})\n",
        "test_X = design7.transform(test_df)\n",
        "pred = results7.get_prediction(test_X)\n",
        "pred.predicted_mean\n",
        "#  the predicted mpg for a horsepower of 98 is 24.467"
      ],
      "metadata": {
        "colab": {
          "base_uri": "https://localhost:8080/"
        },
        "id": "3pW_mc5yvQEq",
        "outputId": "b8fce509-b010-4a41-b955-2b5285245328"
      },
      "id": "3pW_mc5yvQEq",
      "execution_count": 7,
      "outputs": [
        {
          "output_type": "execute_result",
          "data": {
            "text/plain": [
              "array([24.46707715])"
            ]
          },
          "metadata": {},
          "execution_count": 7
        }
      ]
    },
    {
      "cell_type": "code",
      "source": [
        "confidence_int = pred.conf_int(alpha=0.05)\n",
        "prediction_int = pred.conf_int(obs=True, alpha=0.05)\n",
        "print(confidence_int, prediction_int)\n",
        "# the confidence interval: [23.97, 24.96]\n",
        "# the prediction interval: [14.81, 31.12]\n"
      ],
      "metadata": {
        "colab": {
          "base_uri": "https://localhost:8080/"
        },
        "id": "5G_4-9xXwqIy",
        "outputId": "269101c0-850a-405d-f4dd-948f2d311f6d"
      },
      "id": "5G_4-9xXwqIy",
      "execution_count": 8,
      "outputs": [
        {
          "output_type": "stream",
          "name": "stdout",
          "text": [
            "[[23.97307896 24.96107534]] [[14.80939607 34.12475823]]\n"
          ]
        }
      ]
    },
    {
      "cell_type": "code",
      "source": [
        "def abline(ax, m, b,*args,**kwargs):\n",
        "  xlim = ax.get_xlim()\n",
        "  ylim = [m*xlim[0] +b , m*xlim[1]+b]\n",
        "  ax.plot(xlim,ylim,*args,**kwargs)\n",
        "\n",
        "ax = Auto.plot.scatter('horsepower','mpg')\n",
        "print(results7.params[1])\n",
        "print(results7.params[0])\n",
        "\n",
        "abline(ax, results7.params[1],results7.params[0],'r--',linewidth=3)"
      ],
      "metadata": {
        "colab": {
          "base_uri": "https://localhost:8080/",
          "height": 608
        },
        "id": "go80NLsVvRy9",
        "outputId": "7a3ba02e-dfd0-47bb-8300-ed63b92af744"
      },
      "id": "go80NLsVvRy9",
      "execution_count": 9,
      "outputs": [
        {
          "output_type": "stream",
          "name": "stderr",
          "text": [
            "<ipython-input-9-b298454bca09>:7: FutureWarning: Series.__getitem__ treating keys as positions is deprecated. In a future version, integer keys will always be treated as labels (consistent with DataFrame behavior). To access a value by position, use `ser.iloc[pos]`\n",
            "  print(results7.params[1])\n",
            "<ipython-input-9-b298454bca09>:8: FutureWarning: Series.__getitem__ treating keys as positions is deprecated. In a future version, integer keys will always be treated as labels (consistent with DataFrame behavior). To access a value by position, use `ser.iloc[pos]`\n",
            "  print(results7.params[0])\n",
            "<ipython-input-9-b298454bca09>:10: FutureWarning: Series.__getitem__ treating keys as positions is deprecated. In a future version, integer keys will always be treated as labels (consistent with DataFrame behavior). To access a value by position, use `ser.iloc[pos]`\n",
            "  abline(ax, results7.params[1],results7.params[0],'r--',linewidth=3)\n"
          ]
        },
        {
          "output_type": "stream",
          "name": "stdout",
          "text": [
            "-0.15784473335365357\n",
            "39.93586102117048\n"
          ]
        },
        {
          "output_type": "display_data",
          "data": {
            "text/plain": [
              "<Figure size 640x480 with 1 Axes>"
            ],
            "image/png": "[encoded data removed]"
          },
          "metadata": {}
        }
      ]
    },
    {
      "cell_type": "code",
      "source": [
        "from pandas.plotting import scatter_matrix\n",
        "scatter_matrix(Auto,figsize=(8,8),diagonal= 'hist',alpha=0.7)"
      ],
      "metadata": {
        "id": "f8mFw_Gu1fYw",
        "colab": {
          "base_uri": "https://localhost:8080/",
          "height": 1000
        },
        "outputId": "4ac8c73c-e62b-471f-dfb7-a2fd855d5eeb"
      },
      "id": "f8mFw_Gu1fYw",
      "execution_count": 12,
      "outputs": [
        {
          "output_type": "execute_result",
          "data": {
            "text/plain": [
              "array([[<Axes: xlabel='mpg', ylabel='mpg'>,\n",
              "        <Axes: xlabel='cylinders', ylabel='mpg'>,\n",
              "        <Axes: xlabel='displacement', ylabel='mpg'>,\n",
              "        <Axes: xlabel='horsepower', ylabel='mpg'>,\n",
              "        <Axes: xlabel='weight', ylabel='mpg'>,\n",
              "        <Axes: xlabel='acceleration', ylabel='mpg'>,\n",
              "        <Axes: xlabel='year', ylabel='mpg'>,\n",
              "        <Axes: xlabel='origin', ylabel='mpg'>],\n",
              "       [<Axes: xlabel='mpg', ylabel='cylinders'>,\n",
              "        <Axes: xlabel='cylinders', ylabel='cylinders'>,\n",
              "        <Axes: xlabel='displacement', ylabel='cylinders'>,\n",
              "        <Axes: xlabel='horsepower', ylabel='cylinders'>,\n",
              "        <Axes: xlabel='weight', ylabel='cylinders'>,\n",
              "        <Axes: xlabel='acceleration', ylabel='cylinders'>,\n",
              "        <Axes: xlabel='year', ylabel='cylinders'>,\n",
              "        <Axes: xlabel='origin', ylabel='cylinders'>],\n",
              "       [<Axes: xlabel='mpg', ylabel='displacement'>,\n",
              "        <Axes: xlabel='cylinders', ylabel='displacement'>,\n",
              "        <Axes: xlabel='displacement', ylabel='displacement'>,\n",
              "        <Axes: xlabel='horsepower', ylabel='displacement'>,\n",
              "        <Axes: xlabel='weight', ylabel='displacement'>,\n",
              "        <Axes: xlabel='acceleration', ylabel='displacement'>,\n",
              "        <Axes: xlabel='year', ylabel='displacement'>,\n",
              "        <Axes: xlabel='origin', ylabel='displacement'>],\n",
              "       [<Axes: xlabel='mpg', ylabel='horsepower'>,\n",
              "        <Axes: xlabel='cylinders', ylabel='horsepower'>,\n",
              "        <Axes: xlabel='displacement', ylabel='horsepower'>,\n",
              "        <Axes: xlabel='horsepower', ylabel='horsepower'>,\n",
              "        <Axes: xlabel='weight', ylabel='horsepower'>,\n",
              "        <Axes: xlabel='acceleration', ylabel='horsepower'>,\n",
              "        <Axes: xlabel='year', ylabel='horsepower'>,\n",
              "        <Axes: xlabel='origin', ylabel='horsepower'>],\n",
              "       [<Axes: xlabel='mpg', ylabel='weight'>,\n",
              "        <Axes: xlabel='cylinders', ylabel='weight'>,\n",
              "        <Axes: xlabel='displacement', ylabel='weight'>,\n",
              "        <Axes: xlabel='horsepower', ylabel='weight'>,\n",
              "        <Axes: xlabel='weight', ylabel='weight'>,\n",
              "        <Axes: xlabel='acceleration', ylabel='weight'>,\n",
              "        <Axes: xlabel='year', ylabel='weight'>,\n",
              "        <Axes: xlabel='origin', ylabel='weight'>],\n",
              "       [<Axes: xlabel='mpg', ylabel='acceleration'>,\n",
              "        <Axes: xlabel='cylinders', ylabel='acceleration'>,\n",
              "        <Axes: xlabel='displacement', ylabel='acceleration'>,\n",
              "        <Axes: xlabel='horsepower', ylabel='acceleration'>,\n",
              "        <Axes: xlabel='weight', ylabel='acceleration'>,\n",
              "        <Axes: xlabel='acceleration', ylabel='acceleration'>,\n",
              "        <Axes: xlabel='year', ylabel='acceleration'>,\n",
              "        <Axes: xlabel='origin', ylabel='acceleration'>],\n",
              "       [<Axes: xlabel='mpg', ylabel='year'>,\n",
              "        <Axes: xlabel='cylinders', ylabel='year'>,\n",
              "        <Axes: xlabel='displacement', ylabel='year'>,\n",
              "        <Axes: xlabel='horsepower', ylabel='year'>,\n",
              "        <Axes: xlabel='weight', ylabel='year'>,\n",
              "        <Axes: xlabel='acceleration', ylabel='year'>,\n",
              "        <Axes: xlabel='year', ylabel='year'>,\n",
              "        <Axes: xlabel='origin', ylabel='year'>],\n",
              "       [<Axes: xlabel='mpg', ylabel='origin'>,\n",
              "        <Axes: xlabel='cylinders', ylabel='origin'>,\n",
              "        <Axes: xlabel='displacement', ylabel='origin'>,\n",
              "        <Axes: xlabel='horsepower', ylabel='origin'>,\n",
              "        <Axes: xlabel='weight', ylabel='origin'>,\n",
              "        <Axes: xlabel='acceleration', ylabel='origin'>,\n",
              "        <Axes: xlabel='year', ylabel='origin'>,\n",
              "        <Axes: xlabel='origin', ylabel='origin'>]], dtype=object)"
            ]
          },
          "metadata": {},
          "execution_count": 12
        },
        {
          "output_type": "display_data",
          "data": {
            "text/plain": [
              "<Figure size 800x800 with 64 Axes>"
            ],
            "image/png": "[encoded data removed]"
          },
          "metadata": {}
        }
      ]
    },
    {
      "cell_type": "code",
      "source": [
        "Auto.corr()"
      ],
      "metadata": {
        "id": "VaZP_BuvHxuz",
        "outputId": "695dd9c7-38aa-4db4-d9b7-2f7e2121f27c",
        "colab": {
          "base_uri": "https://localhost:8080/",
          "height": 320
        }
      },
      "id": "VaZP_BuvHxuz",
      "execution_count": 13,
      "outputs": [
        {
          "output_type": "execute_result",
          "data": {
            "text/plain": [
              "                   mpg  cylinders  displacement  horsepower    weight  \\\n",
              "mpg           1.000000  -0.777618     -0.805127   -0.778427 -0.832244   \n",
              "cylinders    -0.777618   1.000000      0.950823    0.842983  0.897527   \n",
              "displacement -0.805127   0.950823      1.000000    0.897257  0.932994   \n",
              "horsepower   -0.778427   0.842983      0.897257    1.000000  0.864538   \n",
              "weight       -0.832244   0.897527      0.932994    0.864538  1.000000   \n",
              "acceleration  0.423329  -0.504683     -0.543800   -0.689196 -0.416839   \n",
              "year          0.580541  -0.345647     -0.369855   -0.416361 -0.309120   \n",
              "origin        0.565209  -0.568932     -0.614535   -0.455171 -0.585005   \n",
              "\n",
              "              acceleration      year    origin  \n",
              "mpg               0.423329  0.580541  0.565209  \n",
              "cylinders        -0.504683 -0.345647 -0.568932  \n",
              "displacement     -0.543800 -0.369855 -0.614535  \n",
              "horsepower       -0.689196 -0.416361 -0.455171  \n",
              "weight           -0.416839 -0.309120 -0.585005  \n",
              "acceleration      1.000000  0.290316  0.212746  \n",
              "year              0.290316  1.000000  0.181528  \n",
              "origin            0.212746  0.181528  1.000000  "
            ],
            "text/html": [
              "\n",
              "  <div id=\"df-48551291-b8c8-4458-8059-6a1586b0aaa5\" class=\"colab-df-container\">\n",
              "    <div>\n",
              "<style scoped>\n",
              "    .dataframe tbody tr th:only-of-type {\n",
              "        vertical-align: middle;\n",
              "    }\n",
              "\n",
              "    .dataframe tbody tr th {\n",
              "        vertical-align: top;\n",
              "    }\n",
              "\n",
              "    .dataframe thead th {\n",
              "        text-align: right;\n",
              "    }\n",
              "</style>\n",
              "<table border=\"1\" class=\"dataframe\">\n",
              "  <thead>\n",
              "    <tr style=\"text-align: right;\">\n",
              "      <th></th>\n",
              "      <th>mpg</th>\n",
              "      <th>cylinders</th>\n",
              "      <th>displacement</th>\n",
              "      <th>horsepower</th>\n",
              "      <th>weight</th>\n",
              "      <th>acceleration</th>\n",
              "      <th>year</th>\n",
              "      <th>origin</th>\n",
              "    </tr>\n",
              "  </thead>\n",
              "  <tbody>\n",
              "    <tr>\n",
              "      <th>mpg</th>\n",
              "      <td>1.000000</td>\n",
              "      <td>-0.777618</td>\n",
              "      <td>-0.805127</td>\n",
              "      <td>-0.778427</td>\n",
              "      <td>-0.832244</td>\n",
              "      <td>0.423329</td>\n",
              "      <td>0.580541</td>\n",
              "      <td>0.565209</td>\n",
              "    </tr>\n",
              "    <tr>\n",
              "      <th>cylinders</th>\n",
              "      <td>-0.777618</td>\n",
              "      <td>1.000000</td>\n",
              "      <td>0.950823</td>\n",
              "      <td>0.842983</td>\n",
              "      <td>0.897527</td>\n",
              "      <td>-0.504683</td>\n",
              "      <td>-0.345647</td>\n",
              "      <td>-0.568932</td>\n",
              "    </tr>\n",
              "    <tr>\n",
              "      <th>displacement</th>\n",
              "      <td>-0.805127</td>\n",
              "      <td>0.950823</td>\n",
              "      <td>1.000000</td>\n",
              "      <td>0.897257</td>\n",
              "      <td>0.932994</td>\n",
              "      <td>-0.543800</td>\n",
              "      <td>-0.369855</td>\n",
              "      <td>-0.614535</td>\n",
              "    </tr>\n",
              "    <tr>\n",
              "      <th>horsepower</th>\n",
              "      <td>-0.778427</td>\n",
              "      <td>0.842983</td>\n",
              "      <td>0.897257</td>\n",
              "      <td>1.000000</td>\n",
              "      <td>0.864538</td>\n",
              "      <td>-0.689196</td>\n",
              "      <td>-0.416361</td>\n",
              "      <td>-0.455171</td>\n",
              "    </tr>\n",
              "    <tr>\n",
              "      <th>weight</th>\n",
              "      <td>-0.832244</td>\n",
              "      <td>0.897527</td>\n",
              "      <td>0.932994</td>\n",
              "      <td>0.864538</td>\n",
              "      <td>1.000000</td>\n",
              "      <td>-0.416839</td>\n",
              "      <td>-0.309120</td>\n",
              "      <td>-0.585005</td>\n",
              "    </tr>\n",
              "    <tr>\n",
              "      <th>acceleration</th>\n",
              "      <td>0.423329</td>\n",
              "      <td>-0.504683</td>\n",
              "      <td>-0.543800</td>\n",
              "      <td>-0.689196</td>\n",
              "      <td>-0.416839</td>\n",
              "      <td>1.000000</td>\n",
              "      <td>0.290316</td>\n",
              "      <td>0.212746</td>\n",
              "    </tr>\n",
              "    <tr>\n",
              "      <th>year</th>\n",
              "      <td>0.580541</td>\n",
              "      <td>-0.345647</td>\n",
              "      <td>-0.369855</td>\n",
              "      <td>-0.416361</td>\n",
              "      <td>-0.309120</td>\n",
              "      <td>0.290316</td>\n",
              "      <td>1.000000</td>\n",
              "      <td>0.181528</td>\n",
              "    </tr>\n",
              "    <tr>\n",
              "      <th>origin</th>\n",
              "      <td>0.565209</td>\n",
              "      <td>-0.568932</td>\n",
              "      <td>-0.614535</td>\n",
              "      <td>-0.455171</td>\n",
              "      <td>-0.585005</td>\n",
              "      <td>0.212746</td>\n",
              "      <td>0.181528</td>\n",
              "      <td>1.000000</td>\n",
              "    </tr>\n",
              "  </tbody>\n",
              "</table>\n",
              "</div>\n",
              "    <div class=\"colab-df-buttons\">\n",
              "\n",
              "  <div class=\"colab-df-container\">\n",
              "    <button class=\"colab-df-convert\" onclick=\"convertToInteractive('df-48551291-b8c8-4458-8059-6a1586b0aaa5')\"\n",
              "            title=\"Convert this dataframe to an interactive table.\"\n",
              "            style=\"display:none;\">\n",
              "\n",
              "  <svg xmlns=\"http://www.w3.org/2000/svg\" height=\"24px\" viewBox=\"0 -960 960 960\">\n",
              "    <path d=\"M120-120v-720h720v720H120Zm60-500h600v-160H180v160Zm220 220h160v-160H400v160Zm0 220h160v-160H400v160ZM180-400h160v-160H180v160Zm440 0h160v-160H620v160ZM180-180h160v-160H180v160Zm440 0h160v-160H620v160Z\"/>\n",
              "  </svg>\n",
              "    </button>\n",
              "\n",
              "  <style>\n",
              "    .colab-df-container {\n",
              "      display:flex;\n",
              "      gap: 12px;\n",
              "    }\n",
              "\n",
              "    .colab-df-convert {\n",
              "      background-color: #E8F0FE;\n",
              "      border: none;\n",
              "      border-radius: 50%;\n",
              "      cursor: pointer;\n",
              "      display: none;\n",
              "      fill: #1967D2;\n",
              "      height: 32px;\n",
              "      padding: 0 0 0 0;\n",
              "      width: 32px;\n",
              "    }\n",
              "\n",
              "    .colab-df-convert:hover {\n",
              "      background-color: #E2EBFA;\n",
              "      box-shadow: 0px 1px 2px rgba(60, 64, 67, 0.3), 0px 1px 3px 1px rgba(60, 64, 67, 0.15);\n",
              "      fill: #174EA6;\n",
              "    }\n",
              "\n",
              "    .colab-df-buttons div {\n",
              "      margin-bottom: 4px;\n",
              "    }\n",
              "\n",
              "    [theme=dark] .colab-df-convert {\n",
              "      background-color: #3B4455;\n",
              "      fill: #D2E3FC;\n",
              "    }\n",
              "\n",
              "    [theme=dark] .colab-df-convert:hover {\n",
              "      background-color: #434B5C;\n",
              "      box-shadow: 0px 1px 3px 1px rgba(0, 0, 0, 0.15);\n",
              "      filter: drop-shadow(0px 1px 2px rgba(0, 0, 0, 0.3));\n",
              "      fill: #FFFFFF;\n",
              "    }\n",
              "  </style>\n",
              "\n",
              "    <script>\n",
              "      const buttonEl =\n",
              "        document.querySelector('#df-48551291-b8c8-4458-8059-6a1586b0aaa5 button.colab-df-convert');\n",
              "      buttonEl.style.display =\n",
              "        google.colab.kernel.accessAllowed ? 'block' : 'none';\n",
              "\n",
              "      async function convertToInteractive(key) {\n",
              "        const element = document.querySelector('#df-48551291-b8c8-4458-8059-6a1586b0aaa5');\n",
              "        const dataTable =\n",
              "          await google.colab.kernel.invokeFunction('convertToInteractive',\n",
              "                                                    [key], {});\n",
              "        if (!dataTable) return;\n",
              "\n",
              "        const docLinkHtml = 'Like what you see? Visit the ' +\n",
              "          '<a target=\"_blank\" href=https://colab.research.google.com/notebooks/data_table.ipynb>data table notebook</a>'\n",
              "          + ' to learn more about interactive tables.';\n",
              "        element.innerHTML = '';\n",
              "        dataTable['output_type'] = 'display_data';\n",
              "        await google.colab.output.renderOutput(dataTable, element);\n",
              "        const docLink = document.createElement('div');\n",
              "        docLink.innerHTML = docLinkHtml;\n",
              "        element.appendChild(docLink);\n",
              "      }\n",
              "    </script>\n",
              "  </div>\n",
              "\n",
              "\n",
              "<div id=\"df-7ab13fa3-9cb3-472c-81e7-bfb9aa1e3c8b\">\n",
              "  <button class=\"colab-df-quickchart\" onclick=\"quickchart('df-7ab13fa3-9cb3-472c-81e7-bfb9aa1e3c8b')\"\n",
              "            title=\"Suggest charts\"\n",
              "            style=\"display:none;\">\n",
              "\n",
              "<svg xmlns=\"http://www.w3.org/2000/svg\" height=\"24px\"viewBox=\"0 0 24 24\"\n",
              "     width=\"24px\">\n",
              "    <g>\n",
              "        <path d=\"M19 3H5c-1.1 0-2 .9-2 2v14c0 1.1.9 2 2 2h14c1.1 0 2-.9 2-2V5c0-1.1-.9-2-2-2zM9 17H7v-7h2v7zm4 0h-2V7h2v10zm4 0h-2v-4h2v4z\"/>\n",
              "    </g>\n",
              "</svg>\n",
              "  </button>\n",
              "\n",
              "<style>\n",
              "  .colab-df-quickchart {\n",
              "      --bg-color: #E8F0FE;\n",
              "      --fill-color: #1967D2;\n",
              "      --hover-bg-color: #E2EBFA;\n",
              "      --hover-fill-color: #174EA6;\n",
              "      --disabled-fill-color: #AAA;\n",
              "      --disabled-bg-color: #DDD;\n",
              "  }\n",
              "\n",
              "  [theme=dark] .colab-df-quickchart {\n",
              "      --bg-color: #3B4455;\n",
              "      --fill-color: #D2E3FC;\n",
              "      --hover-bg-color: #434B5C;\n",
              "      --hover-fill-color: #FFFFFF;\n",
              "      --disabled-bg-color: #3B4455;\n",
              "      --disabled-fill-color: #666;\n",
              "  }\n",
              "\n",
              "  .colab-df-quickchart {\n",
              "    background-color: var(--bg-color);\n",
              "    border: none;\n",
              "    border-radius: 50%;\n",
              "    cursor: pointer;\n",
              "    display: none;\n",
              "    fill: var(--fill-color);\n",
              "    height: 32px;\n",
              "    padding: 0;\n",
              "    width: 32px;\n",
              "  }\n",
              "\n",
              "  .colab-df-quickchart:hover {\n",
              "    background-color: var(--hover-bg-color);\n",
              "    box-shadow: 0 1px 2px rgba(60, 64, 67, 0.3), 0 1px 3px 1px rgba(60, 64, 67, 0.15);\n",
              "    fill: var(--button-hover-fill-color);\n",
              "  }\n",
              "\n",
              "  .colab-df-quickchart-complete:disabled,\n",
              "  .colab-df-quickchart-complete:disabled:hover {\n",
              "    background-color: var(--disabled-bg-color);\n",
              "    fill: var(--disabled-fill-color);\n",
              "    box-shadow: none;\n",
              "  }\n",
              "\n",
              "  .colab-df-spinner {\n",
              "    border: 2px solid var(--fill-color);\n",
              "    border-color: transparent;\n",
              "    border-bottom-color: var(--fill-color);\n",
              "    animation:\n",
              "      spin 1s steps(1) infinite;\n",
              "  }\n",
              "\n",
              "  @keyframes spin {\n",
              "    0% {\n",
              "      border-color: transparent;\n",
              "      border-bottom-color: var(--fill-color);\n",
              "      border-left-color: var(--fill-color);\n",
              "    }\n",
              "    20% {\n",
              "      border-color: transparent;\n",
              "      border-left-color: var(--fill-color);\n",
              "      border-top-color: var(--fill-color);\n",
              "    }\n",
              "    30% {\n",
              "      border-color: transparent;\n",
              "      border-left-color: var(--fill-color);\n",
              "      border-top-color: var(--fill-color);\n",
              "      border-right-color: var(--fill-color);\n",
              "    }\n",
              "    40% {\n",
              "      border-color: transparent;\n",
              "      border-right-color: var(--fill-color);\n",
              "      border-top-color: var(--fill-color);\n",
              "    }\n",
              "    60% {\n",
              "      border-color: transparent;\n",
              "      border-right-color: var(--fill-color);\n",
              "    }\n",
              "    80% {\n",
              "      border-color: transparent;\n",
              "      border-right-color: var(--fill-color);\n",
              "      border-bottom-color: var(--fill-color);\n",
              "    }\n",
              "    90% {\n",
              "      border-color: transparent;\n",
              "      border-bottom-color: var(--fill-color);\n",
              "    }\n",
              "  }\n",
              "</style>\n",
              "\n",
              "  <script>\n",
              "    async function quickchart(key) {\n",
              "      const quickchartButtonEl =\n",
              "        document.querySelector('#' + key + ' button');\n",
              "      quickchartButtonEl.disabled = true;  // To prevent multiple clicks.\n",
              "      quickchartButtonEl.classList.add('colab-df-spinner');\n",
              "      try {\n",
              "        const charts = await google.colab.kernel.invokeFunction(\n",
              "            'suggestCharts', [key], {});\n",
              "      } catch (error) {\n",
              "        console.error('Error during call to suggestCharts:', error);\n",
              "      }\n",
              "      quickchartButtonEl.classList.remove('colab-df-spinner');\n",
              "      quickchartButtonEl.classList.add('colab-df-quickchart-complete');\n",
              "    }\n",
              "    (() => {\n",
              "      let quickchartButtonEl =\n",
              "        document.querySelector('#df-7ab13fa3-9cb3-472c-81e7-bfb9aa1e3c8b button');\n",
              "      quickchartButtonEl.style.display =\n",
              "        google.colab.kernel.accessAllowed ? 'block' : 'none';\n",
              "    })();\n",
              "  </script>\n",
              "</div>\n",
              "\n",
              "    </div>\n",
              "  </div>\n"
            ],
            "application/vnd.google.colaboratory.intrinsic+json": {
              "type": "dataframe",
              "summary": "{\n  \"name\": \"Auto\",\n  \"rows\": 8,\n  \"fields\": [\n    {\n      \"column\": \"mpg\",\n      \"properties\": {\n        \"dtype\": \"number\",\n        \"std\": 0.7872618248401377,\n        \"min\": -0.832244214831575,\n        \"max\": 1.0,\n        \"num_unique_values\": 8,\n        \"samples\": [\n          -0.7776175081260227,\n          0.42332853690278693,\n          1.0\n        ],\n        \"semantic_type\": \"\",\n        \"description\": \"\"\n      }\n    },\n    {\n      \"column\": \"cylinders\",\n      \"properties\": {\n        \"dtype\": \"number\",\n        \"std\": 0.7967448686550586,\n        \"min\": -0.7776175081260227,\n        \"max\": 1.0,\n        \"num_unique_values\": 8,\n        \"samples\": [\n          1.0,\n          -0.5046833793486444,\n          -0.7776175081260227\n        ],\n        \"semantic_type\": \"\",\n        \"description\": \"\"\n      }\n    },\n    {\n      \"column\": \"displacement\",\n      \"properties\": {\n        \"dtype\": \"number\",\n        \"std\": 0.8260065959541416,\n        \"min\": -0.8051269467104577,\n        \"max\": 1.0,\n        \"num_unique_values\": 8,\n        \"samples\": [\n          0.9508233008277828,\n          -0.5438004967345681,\n          -0.8051269467104577\n        ],\n        \"semantic_type\": \"\",\n        \"description\": \"\"\n      }\n    },\n    {\n      \"column\": \"horsepower\",\n      \"properties\": {\n        \"dtype\": \"number\",\n        \"std\": 0.8039516732687065,\n        \"min\": -0.7784267838977761,\n        \"max\": 1.0,\n        \"num_unique_values\": 8,\n        \"samples\": [\n          0.8429833569186568,\n          -0.6891955103342376,\n          -0.7784267838977761\n        ],\n        \"semantic_type\": \"\",\n        \"description\": \"\"\n      }\n    },\n    {\n      \"column\": \"weight\",\n      \"properties\": {\n        \"dtype\": \"number\",\n        \"std\": 0.7952179376818062,\n        \"min\": -0.832244214831575,\n        \"max\": 1.0,\n        \"num_unique_values\": 8,\n        \"samples\": [\n          0.8975273403408176,\n          -0.4168392020037062,\n          -0.832244214831575\n        ],\n        \"semantic_type\": \"\",\n        \"description\": \"\"\n      }\n    },\n    {\n      \"column\": \"acceleration\",\n      \"properties\": {\n        \"dtype\": \"number\",\n        \"std\": 0.5977834814184086,\n        \"min\": -0.6891955103342376,\n        \"max\": 1.0,\n        \"num_unique_values\": 8,\n        \"samples\": [\n          -0.5046833793486444,\n          1.0,\n          0.42332853690278693\n        ],\n        \"semantic_type\": \"\",\n        \"description\": \"\"\n      }\n    },\n    {\n      \"column\": \"year\",\n      \"properties\": {\n        \"dtype\": \"number\",\n        \"std\": 0.5254541182328929,\n        \"min\": -0.41636147709998894,\n        \"max\": 1.0,\n        \"num_unique_values\": 8,\n        \"samples\": [\n          -0.34564744033808426,\n          0.29031611333651997,\n          0.5805409660907859\n        ],\n        \"semantic_type\": \"\",\n        \"description\": \"\"\n      }\n    },\n    {\n      \"column\": \"origin\",\n      \"properties\": {\n        \"dtype\": \"number\",\n        \"std\": 0.6140847152750115,\n        \"min\": -0.6145351145726985,\n        \"max\": 1.0,\n        \"num_unique_values\": 8,\n        \"samples\": [\n          -0.5689315895422126,\n          0.21274580799458218,\n          0.5652087567164604\n        ],\n        \"semantic_type\": \"\",\n        \"description\": \"\"\n      }\n    }\n  ]\n}"
            }
          },
          "metadata": {},
          "execution_count": 13
        }
      ]
    },
    {
      "cell_type": "code",
      "source": [
        "vars = Auto.columns.drop('mpg')\n",
        "\n",
        "X = MS(vars).fit_transform(Auto)\n",
        "y = Auto['mpg']\n",
        "model = sm.OLS(y,X)\n",
        "fitted = model.fit()\n",
        "fitted.fvalue\n",
        "# since the f value is relatively high and the p value associated with the f statistic is essentially 0,\n",
        "# there is clear evidence between the variables and the mpg"
      ],
      "metadata": {
        "id": "3--kLjffH7qG",
        "outputId": "132d2d0f-3c56-4682-ea35-d7a02b59ca5d",
        "colab": {
          "base_uri": "https://localhost:8080/"
        }
      },
      "id": "3--kLjffH7qG",
      "execution_count": 21,
      "outputs": [
        {
          "output_type": "execute_result",
          "data": {
            "text/plain": [
              "252.42804529131897"
            ]
          },
          "metadata": {},
          "execution_count": 21
        }
      ]
    },
    {
      "cell_type": "code",
      "source": [],
      "metadata": {
        "id": "wUNKFA7VJkAf"
      },
      "id": "wUNKFA7VJkAf",
      "execution_count": null,
      "outputs": []
    }
  ],
  "metadata": {
    "jupytext": {
      "cell_metadata_filter": "-all",
      "main_language": "python",
      "notebook_metadata_filter": "-all"
    },
    "language_info": {
      "name": "python"
    },
    "colab": {
      "provenance": []
    },
    "kernelspec": {
      "name": "python3",
      "display_name": "Python 3"
    }
  },
  "nbformat": 4,
  "nbformat_minor": 5
}